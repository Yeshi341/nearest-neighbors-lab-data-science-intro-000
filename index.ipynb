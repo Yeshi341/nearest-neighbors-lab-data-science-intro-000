{
 "cells": [
  {
   "cell_type": "markdown",
   "metadata": {},
   "source": [
    "# Nearest Neighbors Lab"
   ]
  },
  {
   "cell_type": "markdown",
   "metadata": {},
   "source": [
    "### Introduction\n",
    "\n",
    "In this lab, you apply nearest neighbors technique to help a taxi company predict the length of their rides.  Imagine that we are hired to consult for LiftOff, a limo and taxi service that is just opening up in NYC.  Liftoff wants it's taxi drivers to target longer rides, as the longer the ride the more money it makes.  LiftOff has the following theory:\n",
    "\n",
    "* the pickup location of a taxi ride can help predict the length of the ride.  \n",
    "\n",
    "\n",
    "\n",
    "LiftOff asks us to do some analysis to write a function that will allow it to **predict the length of a taxi ride for any given location **.\n",
    "\n",
    "Our technique will be the following:\n",
    "  * **Collect** Obtain the data containing all of the taxi information, and only select the attributes of taxi trips that we need \n",
    "  * ** Explore ** Examine the attributes of our data, and plot some of our data on a map\n",
    "  * ** Train ** Write our nearest neighbors formula, and change the number of nearby trips to predict the length of a new trip\n",
    "  * ** Predict ** Use our function to predict trip lengths of new locations"
   ]
  },
  {
   "cell_type": "markdown",
   "metadata": {},
   "source": [
    "### Collect and Explore the data"
   ]
  },
  {
   "cell_type": "markdown",
   "metadata": {},
   "source": [
    "#### Collect the Data"
   ]
  },
  {
   "cell_type": "markdown",
   "metadata": {},
   "source": [
    "Luckily for us, [NYC Open Data](https://opendata.cityofnewyork.us/) collects information about NYC taxi trips and provides this data on [its website](https://data.cityofnewyork.us/Transportation/2014-Yellow-Taxi-Trip-Data/gn7m-em8n)."
   ]
  },
  {
   "cell_type": "markdown",
   "metadata": {},
   "source": [
    "![](./nyc-taxi.png)"
   ]
  },
  {
   "cell_type": "markdown",
   "metadata": {},
   "source": [
    "For your reading pleasure, the data has already been downloaded into the [trips.json](https://github.com/learn-co-curriculum/nearest-neighbors-lab/blob/master/trips.json) file in this lab which you can find here.  We'll use Python's `json` library to take the data from the `trips.json` file and store it as a variable in our notebook."
   ]
  },
  {
   "cell_type": "code",
   "execution_count": 29,
   "metadata": {},
   "outputs": [],
   "source": [
    "import json\n",
    "# First, read the file\n",
    "trips_file = open('trips.json')\n",
    "# Then, convert contents to list of dictionaries \n",
    "trips = json.load(trips_file)"
   ]
  },
  {
   "cell_type": "markdown",
   "metadata": {},
   "source": [
    "> Press shift + enter"
   ]
  },
  {
   "cell_type": "markdown",
   "metadata": {},
   "source": [
    "#### Explore the data"
   ]
  },
  {
   "cell_type": "markdown",
   "metadata": {},
   "source": [
    "The next step is to explore the data.  First, let's see how many trips we have."
   ]
  },
  {
   "cell_type": "code",
   "execution_count": 59,
   "metadata": {},
   "outputs": [
    {
     "data": {
      "text/plain": [
       "[{'dropoff_datetime': '2014-11-26T22:31:00.000',\n",
       "  'dropoff_latitude': '40.746769999999998',\n",
       "  'dropoff_longitude': '-73.997450000000001',\n",
       "  'fare_amount': '52',\n",
       "  'imp_surcharge': '0',\n",
       "  'mta_tax': '0.5',\n",
       "  'passenger_count': '1',\n",
       "  'payment_type': 'CSH',\n",
       "  'pickup_datetime': '2014-11-26T21:59:00.000',\n",
       "  'pickup_latitude': '40.64499',\n",
       "  'pickup_longitude': '-73.781149999999997',\n",
       "  'rate_code': '2',\n",
       "  'tip_amount': '0',\n",
       "  'tolls_amount': '5.3300000000000001',\n",
       "  'total_amount': '57.829999999999998',\n",
       "  'trip_distance': '18.379999999999999',\n",
       "  'vendor_id': 'VTS'},\n",
       " {'dropoff_datetime': '2014-02-22T17:54:37.000',\n",
       "  'dropoff_latitude': '40.781844999999997',\n",
       "  'dropoff_longitude': '-73.979073',\n",
       "  'fare_amount': '7.5',\n",
       "  'imp_surcharge': '0',\n",
       "  'mta_tax': '0.5',\n",
       "  'passenger_count': '1',\n",
       "  'payment_type': 'CSH',\n",
       "  'pickup_datetime': '2014-02-22T17:47:23.000',\n",
       "  'pickup_latitude': '40.766931',\n",
       "  'pickup_longitude': '-73.982097999999993',\n",
       "  'rate_code': '1',\n",
       "  'store_and_fwd_flag': 'N',\n",
       "  'tip_amount': '0',\n",
       "  'tolls_amount': '0',\n",
       "  'total_amount': '8',\n",
       "  'trip_distance': '1.3',\n",
       "  'vendor_id': 'CMT'}]"
      ]
     },
     "execution_count": 59,
     "metadata": {},
     "output_type": "execute_result"
    }
   ],
   "source": [
    "len(trips)\n",
    "trips[0:2]"
   ]
  },
  {
   "cell_type": "markdown",
   "metadata": {},
   "source": [
    "Not bad at all.  Now let's see what each individual trip looks like.  Each trip is a dictionary, so we can see the attributes of each trip with the `keys` function."
   ]
  },
  {
   "cell_type": "code",
   "execution_count": 31,
   "metadata": {
    "scrolled": true
   },
   "outputs": [
    {
     "data": {
      "text/plain": [
       "dict_keys(['dropoff_datetime', 'dropoff_latitude', 'dropoff_longitude', 'fare_amount', 'imp_surcharge', 'mta_tax', 'passenger_count', 'payment_type', 'pickup_datetime', 'pickup_latitude', 'pickup_longitude', 'rate_code', 'tip_amount', 'tolls_amount', 'total_amount', 'trip_distance', 'vendor_id'])"
      ]
     },
     "execution_count": 31,
     "metadata": {},
     "output_type": "execute_result"
    }
   ],
   "source": [
    "trips[0].keys()"
   ]
  },
  {
   "cell_type": "markdown",
   "metadata": {},
   "source": [
    "#### Limit our data"
   ]
  },
  {
   "cell_type": "markdown",
   "metadata": {},
   "source": [
    "Ok, now that we have explored some of our data, let's begin to think through what data is relevant for our task."
   ]
  },
  {
   "cell_type": "markdown",
   "metadata": {
    "collapsed": true
   },
   "source": [
    "Remember that our task is to **use the trip location to predict the length of a trip**.  So let's select the `pickup_latitude`, `pickup_longitude`, and `trip_distance` from each trip.  That will give us the trip location and related `trip_distance` for each trip.  Then based on these **actual** trip distances we can use nearest neighbors to predict an **expected** trip distance for a trip, provided an **actual** location."
   ]
  },
  {
   "cell_type": "markdown",
   "metadata": {},
   "source": [
    "** Add in about trip distance ** "
   ]
  },
  {
   "cell_type": "markdown",
   "metadata": {},
   "source": [
    "Write a function called `parse_trips(trips)` that returns a list of the trips with only the following attributes: \n",
    "* `trip_distance`\n",
    "* `pickup_latitude`\n",
    "* `pickup_longitude`"
   ]
  },
  {
   "cell_type": "code",
   "execution_count": 65,
   "metadata": {},
   "outputs": [],
   "source": [
    "def parse_trips(trips):\n",
    "    return list(map(lambda trip: {'trip_distance': trip['trip_distance'], 'pickup_latitude': trip['pickup_latitude'], 'pickup_longitude': trip['pickup_longitude']}, trips))"
   ]
  },
  {
   "cell_type": "code",
   "execution_count": 66,
   "metadata": {},
   "outputs": [
    {
     "data": {
      "text/plain": [
       "{'trip_distance': '18.379999999999999',\n",
       " 'pickup_latitude': '40.64499',\n",
       " 'pickup_longitude': '-73.781149999999997'}"
      ]
     },
     "execution_count": 66,
     "metadata": {},
     "output_type": "execute_result"
    }
   ],
   "source": [
    "parsed_trips = parse_trips(trips)\n",
    "parsed_trips and parsed_trips[0]\n",
    "\n",
    "# {'pickup_latitude': '40.64499',\n",
    "#  'pickup_longitude': '-73.78115',\n",
    "#  'trip_distance': '18.38'}"
   ]
  },
  {
   "cell_type": "markdown",
   "metadata": {},
   "source": [
    "Now, there's just one change to make.  If you look at one of the trips, all of the values are strings.  Let's change them to be floats."
   ]
  },
  {
   "cell_type": "code",
   "execution_count": 75,
   "metadata": {},
   "outputs": [],
   "source": [
    "def float_values(trips):    \n",
    "    c = list(map(lambda trip: {'trip_distance': float(trip['trip_distance']), 'pickup_latitude': float(trip['pickup_latitude']), 'pickup_longitude': float(trip['pickup_longitude'])}, trips))\n",
    "    return trips and c                           \n",
    "                               "
   ]
  },
  {
   "cell_type": "code",
   "execution_count": 76,
   "metadata": {},
   "outputs": [],
   "source": [
    "cleaned_trips = float_values(parsed_trips)"
   ]
  },
  {
   "cell_type": "code",
   "execution_count": 77,
   "metadata": {},
   "outputs": [
    {
     "data": {
      "text/plain": [
       "{'trip_distance': 18.38,\n",
       " 'pickup_latitude': 40.64499,\n",
       " 'pickup_longitude': -73.78115}"
      ]
     },
     "execution_count": 77,
     "metadata": {},
     "output_type": "execute_result"
    }
   ],
   "source": [
    "cleaned_trips[0]\n",
    "\n",
    "# {'pickup_latitude': 40.64499,\n",
    "#  'pickup_longitude': -73.78115,\n",
    "#  'trip_distance': 18.38}"
   ]
  },
  {
   "cell_type": "markdown",
   "metadata": {},
   "source": [
    "### Exploring the Data"
   ]
  },
  {
   "cell_type": "markdown",
   "metadata": {},
   "source": [
    "Now that we have paired down our data, let's get a sense of our trip data.  We can use the `folium` Python library to plot a map of Manhattan, and our data.  First we must import `folium`, and then use the `Map` function to pass through a `location`, and `zoom_start`.  If a map isn't showing up below, copy and paste the command `pip install -r requirements.txt` into your terminal to install `folium` then try again."
   ]
  },
  {
   "cell_type": "code",
   "execution_count": 84,
   "metadata": {},
   "outputs": [],
   "source": [
    "\n",
    "import folium\n",
    "manhattan_map = folium.Map(location=[40.7589, -73.9851], zoom_start=11)"
   ]
  },
  {
   "cell_type": "code",
   "execution_count": 85,
   "metadata": {
    "scrolled": true
   },
   "outputs": [
    {
     "data": {
      "text/html": [
       "<div style=\"width:100%;\"><div style=\"position:relative;width:100%;height:0;padding-bottom:60%;\"><iframe src=\"data:text/html;charset=utf-8;base64,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\" style=\"position:absolute;width:100%;height:100%;left:0;top:0;border:none !important;\" allowfullscreen webkitallowfullscreen mozallowfullscreen></iframe></div></div>"
      ],
      "text/plain": [
       "<folium.folium.Map at 0x7f226dda9048>"
      ]
     },
     "execution_count": 85,
     "metadata": {},
     "output_type": "execute_result"
    }
   ],
   "source": [
    "manhattan_map"
   ]
  },
  {
   "cell_type": "markdown",
   "metadata": {},
   "source": [
    "Ok, now let's see how we could add a dot to mark a specific location.  We'll start with Times Square."
   ]
  },
  {
   "cell_type": "code",
   "execution_count": 86,
   "metadata": {},
   "outputs": [
    {
     "data": {
      "text/plain": [
       "<folium.vector_layers.CircleMarker at 0x7f226dda9ac8>"
      ]
     },
     "execution_count": 86,
     "metadata": {},
     "output_type": "execute_result"
    }
   ],
   "source": [
    "marker = folium.CircleMarker(location = [40.7589, -73.9851], radius=10)\n",
    "marker.add_to(manhattan_map)"
   ]
  },
  {
   "cell_type": "markdown",
   "metadata": {},
   "source": [
    "Above, we first create a marker.  Then we add that circle marker to the `manhattan_map` we created earlier. "
   ]
  },
  {
   "cell_type": "code",
   "execution_count": 87,
   "metadata": {
    "scrolled": false
   },
   "outputs": [
    {
     "data": {
      "text/html": [
       "<div style=\"width:100%;\"><div style=\"position:relative;width:100%;height:0;padding-bottom:60%;\"><iframe src=\"data:text/html;charset=utf-8;base64,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\" style=\"position:absolute;width:100%;height:100%;left:0;top:0;border:none !important;\" allowfullscreen webkitallowfullscreen mozallowfullscreen></iframe></div></div>"
      ],
      "text/plain": [
       "<folium.folium.Map at 0x7f226dda9048>"
      ]
     },
     "execution_count": 87,
     "metadata": {},
     "output_type": "execute_result"
    }
   ],
   "source": [
    "manhattan_map"
   ]
  },
  {
   "cell_type": "markdown",
   "metadata": {},
   "source": [
    "Do you see that blue dot near Time's Square?  That is our marker.  \n",
    "\n",
    "So now that we can plot one marker on a map, we should have a sense of how we can plot many markers on a map to display our taxi ride data.  We simply plot a map, and then we add a marker for each location of a taxi trip.\n",
    "\n",
    "Now let's write some functions to allow us to plot maps and add markers a little more easily.  "
   ]
  },
  {
   "cell_type": "markdown",
   "metadata": {},
   "source": [
    "#### Writing some map plotting functions"
   ]
  },
  {
   "cell_type": "markdown",
   "metadata": {},
   "source": [
    "As a first step towards this, note that the functions to create both a marker and map each take in a location as two element list, representing the latitude and longitude values.  Take another look:\n",
    "\n",
    "```python\n",
    "marker = folium.CircleMarker(location = [40.7589, -73.9851])\n",
    "manhattan_map = folium.Map(location=[40.7589, -73.9851])\n",
    "```\n",
    "\n",
    "So let's write a function called to create this two element list from a trip.  Write a function called `location` that  takes in a trip as an argument and returns a list where the first element is the latitude and the second is the longitude.  Remember that a location looks like the following:"
   ]
  },
  {
   "cell_type": "code",
   "execution_count": 97,
   "metadata": {},
   "outputs": [
    {
     "data": {
      "text/plain": [
       "{'pickup_latitude': 40.64499,\n",
       " 'pickup_longitude': -73.78115,\n",
       " 'trip_distance': 18.38}"
      ]
     },
     "execution_count": 97,
     "metadata": {},
     "output_type": "execute_result"
    }
   ],
   "source": [
    "first_trip = {'pickup_latitude': 40.64499, 'pickup_longitude': -73.78115,  'trip_distance': 18.38}\n",
    "first_trip"
   ]
  },
  {
   "cell_type": "code",
   "execution_count": 103,
   "metadata": {},
   "outputs": [],
   "source": [
    "def location(trip):\n",
    "  #  c = list(map(lambda trip: [trip[0] = float(trip['pickup_latitude']), trip[1] = float(trip['pickup_longitude']), trip[2] = float(trip['trip_distance'])], trips))\n",
    "    return [ trip['pickup_latitude'], trip['pickup_longitude']]"
   ]
  },
  {
   "cell_type": "code",
   "execution_count": 104,
   "metadata": {},
   "outputs": [
    {
     "data": {
      "text/plain": [
       "[40.64499, -73.78115]"
      ]
     },
     "execution_count": 104,
     "metadata": {},
     "output_type": "execute_result"
    }
   ],
   "source": [
    "first_location = location(first_trip) # [40.64499, -73.78115]\n",
    "first_location # [40.64499, -73.78115]"
   ]
  },
  {
   "cell_type": "markdown",
   "metadata": {},
   "source": [
    "Ok, now that we can turn a trip into a location, let's turn a location into a marker.  Write a function called `to_marker` that takes in a location (in the form of a list) as an argument, and returns a folium `circleMarker` for that location.  The radius of the marker should always equal 6."
   ]
  },
  {
   "cell_type": "code",
   "execution_count": 114,
   "metadata": {},
   "outputs": [],
   "source": [
    "def to_marker(location):\n",
    "    return folium.CircleMarker(location, radius = 6)"
   ]
  },
  {
   "cell_type": "code",
   "execution_count": 122,
   "metadata": {},
   "outputs": [
    {
     "data": {
      "text/plain": [
       "[40.7589, -73.9851]"
      ]
     },
     "execution_count": 122,
     "metadata": {},
     "output_type": "execute_result"
    }
   ],
   "source": [
    "import json\n",
    "times_square_marker = to_marker([40.7589, -73.9851])\n",
    "\n",
    "times_square_marker and times_square_marker.location # [40.7589, -73.9851]\n",
    "#times_square_marker and json.loads(times_square_marker.options)['radius'] # 6"
   ]
  },
  {
   "cell_type": "code",
   "execution_count": 123,
   "metadata": {},
   "outputs": [
    {
     "data": {
      "text/plain": [
       "6"
      ]
     },
     "execution_count": 123,
     "metadata": {},
     "output_type": "execute_result"
    }
   ],
   "source": [
    "times_square_marker and json.loads(str(times_square_marker.options['radius'])) # 6"
   ]
  },
  {
   "cell_type": "markdown",
   "metadata": {},
   "source": [
    "Ok, now that we know how to produce a single marker, let's write a function to produce lots.  We can write a function called `markers_from_trips` that takes in a list of trips, and returns a marker object for each trip.  "
   ]
  },
  {
   "cell_type": "code",
   "execution_count": 140,
   "metadata": {},
   "outputs": [],
   "source": [
    "def markers_from_trips(trips):\n",
    "    return list(map(lambda trip: to_marker(location(trip)), trips))"
   ]
  },
  {
   "cell_type": "code",
   "execution_count": 142,
   "metadata": {},
   "outputs": [
    {
     "data": {
      "text/plain": [
       "[<folium.vector_layers.CircleMarker at 0x7f226d5a2080>,\n",
       " <folium.vector_layers.CircleMarker at 0x7f226d5a20f0>,\n",
       " <folium.vector_layers.CircleMarker at 0x7f226d5a2128>,\n",
       " <folium.vector_layers.CircleMarker at 0x7f226d5a2160>,\n",
       " <folium.vector_layers.CircleMarker at 0x7f226d5a2208>,\n",
       " <folium.vector_layers.CircleMarker at 0x7f226d5a2240>,\n",
       " <folium.vector_layers.CircleMarker at 0x7f226d5a2278>,\n",
       " <folium.vector_layers.CircleMarker at 0x7f226d5a22b0>,\n",
       " <folium.vector_layers.CircleMarker at 0x7f226d5a22e8>,\n",
       " <folium.vector_layers.CircleMarker at 0x7f226d5a2320>,\n",
       " <folium.vector_layers.CircleMarker at 0x7f226d5a2358>,\n",
       " <folium.vector_layers.CircleMarker at 0x7f226d5a2390>,\n",
       " <folium.vector_layers.CircleMarker at 0x7f226d5a23c8>,\n",
       " <folium.vector_layers.CircleMarker at 0x7f226d5a2400>,\n",
       " <folium.vector_layers.CircleMarker at 0x7f226d5a2438>,\n",
       " <folium.vector_layers.CircleMarker at 0x7f226d5a2470>,\n",
       " <folium.vector_layers.CircleMarker at 0x7f226d5a24a8>,\n",
       " <folium.vector_layers.CircleMarker at 0x7f226d5a24e0>,\n",
       " <folium.vector_layers.CircleMarker at 0x7f226d5a2518>,\n",
       " <folium.vector_layers.CircleMarker at 0x7f226d5a2550>,\n",
       " <folium.vector_layers.CircleMarker at 0x7f226d5a2588>,\n",
       " <folium.vector_layers.CircleMarker at 0x7f226d5a25c0>,\n",
       " <folium.vector_layers.CircleMarker at 0x7f226d5a25f8>,\n",
       " <folium.vector_layers.CircleMarker at 0x7f226d5a2630>,\n",
       " <folium.vector_layers.CircleMarker at 0x7f226d5a2668>,\n",
       " <folium.vector_layers.CircleMarker at 0x7f226d5a26a0>,\n",
       " <folium.vector_layers.CircleMarker at 0x7f226d5a26d8>,\n",
       " <folium.vector_layers.CircleMarker at 0x7f226d5a2710>,\n",
       " <folium.vector_layers.CircleMarker at 0x7f226d5a2748>,\n",
       " <folium.vector_layers.CircleMarker at 0x7f226d5a2780>,\n",
       " <folium.vector_layers.CircleMarker at 0x7f226d5a27b8>,\n",
       " <folium.vector_layers.CircleMarker at 0x7f226d5a27f0>,\n",
       " <folium.vector_layers.CircleMarker at 0x7f226d5a2828>,\n",
       " <folium.vector_layers.CircleMarker at 0x7f226d5a2860>,\n",
       " <folium.vector_layers.CircleMarker at 0x7f226d5a2898>,\n",
       " <folium.vector_layers.CircleMarker at 0x7f226d5a2908>,\n",
       " <folium.vector_layers.CircleMarker at 0x7f226d5a2940>,\n",
       " <folium.vector_layers.CircleMarker at 0x7f226d5a2978>,\n",
       " <folium.vector_layers.CircleMarker at 0x7f226d5a29b0>,\n",
       " <folium.vector_layers.CircleMarker at 0x7f226d5a29e8>,\n",
       " <folium.vector_layers.CircleMarker at 0x7f226d5a2a20>,\n",
       " <folium.vector_layers.CircleMarker at 0x7f226d5a2a58>,\n",
       " <folium.vector_layers.CircleMarker at 0x7f226d5a2a90>,\n",
       " <folium.vector_layers.CircleMarker at 0x7f226d5a2ac8>,\n",
       " <folium.vector_layers.CircleMarker at 0x7f226d5a2b00>,\n",
       " <folium.vector_layers.CircleMarker at 0x7f226d5a2b38>,\n",
       " <folium.vector_layers.CircleMarker at 0x7f226d5a2b70>,\n",
       " <folium.vector_layers.CircleMarker at 0x7f226d5a2ba8>,\n",
       " <folium.vector_layers.CircleMarker at 0x7f226d5a2be0>,\n",
       " <folium.vector_layers.CircleMarker at 0x7f226d5a2c18>,\n",
       " <folium.vector_layers.CircleMarker at 0x7f226d5a2c50>,\n",
       " <folium.vector_layers.CircleMarker at 0x7f226d5a2c88>,\n",
       " <folium.vector_layers.CircleMarker at 0x7f226d5a2cc0>,\n",
       " <folium.vector_layers.CircleMarker at 0x7f226d5a2cf8>,\n",
       " <folium.vector_layers.CircleMarker at 0x7f226d5a2d30>,\n",
       " <folium.vector_layers.CircleMarker at 0x7f226d5a2d68>,\n",
       " <folium.vector_layers.CircleMarker at 0x7f226d5a2da0>,\n",
       " <folium.vector_layers.CircleMarker at 0x7f226d5a2dd8>,\n",
       " <folium.vector_layers.CircleMarker at 0x7f226d5a2e10>,\n",
       " <folium.vector_layers.CircleMarker at 0x7f226d5a2e48>,\n",
       " <folium.vector_layers.CircleMarker at 0x7f226d5a2e80>,\n",
       " <folium.vector_layers.CircleMarker at 0x7f226d5a2eb8>,\n",
       " <folium.vector_layers.CircleMarker at 0x7f226d5a2ef0>,\n",
       " <folium.vector_layers.CircleMarker at 0x7f226d5a2f28>,\n",
       " <folium.vector_layers.CircleMarker at 0x7f226d5a2f60>,\n",
       " <folium.vector_layers.CircleMarker at 0x7f226d5a2f98>,\n",
       " <folium.vector_layers.CircleMarker at 0x7f226d5a2fd0>,\n",
       " <folium.vector_layers.CircleMarker at 0x7f226d5a20b8>,\n",
       " <folium.vector_layers.CircleMarker at 0x7f226d5ad080>,\n",
       " <folium.vector_layers.CircleMarker at 0x7f226d5a2198>,\n",
       " <folium.vector_layers.CircleMarker at 0x7f226d5a21d0>,\n",
       " <folium.vector_layers.CircleMarker at 0x7f226d5ad0b8>,\n",
       " <folium.vector_layers.CircleMarker at 0x7f226dd36b00>,\n",
       " <folium.vector_layers.CircleMarker at 0x7f226d5ad0f0>,\n",
       " <folium.vector_layers.CircleMarker at 0x7f226d5ad128>,\n",
       " <folium.vector_layers.CircleMarker at 0x7f226d5ad160>,\n",
       " <folium.vector_layers.CircleMarker at 0x7f226d5ad198>,\n",
       " <folium.vector_layers.CircleMarker at 0x7f226d5ad1d0>,\n",
       " <folium.vector_layers.CircleMarker at 0x7f226d5ad208>,\n",
       " <folium.vector_layers.CircleMarker at 0x7f226d5ad240>,\n",
       " <folium.vector_layers.CircleMarker at 0x7f226d5ad2b0>,\n",
       " <folium.vector_layers.CircleMarker at 0x7f226d5ad2e8>,\n",
       " <folium.vector_layers.CircleMarker at 0x7f226d5ad320>,\n",
       " <folium.vector_layers.CircleMarker at 0x7f226d5a28d0>,\n",
       " <folium.vector_layers.CircleMarker at 0x7f226d5ad358>,\n",
       " <folium.vector_layers.CircleMarker at 0x7f226d5ad390>,\n",
       " <folium.vector_layers.CircleMarker at 0x7f226d5ad3c8>,\n",
       " <folium.vector_layers.CircleMarker at 0x7f226d5ad400>,\n",
       " <folium.vector_layers.CircleMarker at 0x7f226d5ad438>,\n",
       " <folium.vector_layers.CircleMarker at 0x7f226d5ad470>,\n",
       " <folium.vector_layers.CircleMarker at 0x7f226d5ad4a8>,\n",
       " <folium.vector_layers.CircleMarker at 0x7f226d5ad4e0>,\n",
       " <folium.vector_layers.CircleMarker at 0x7f226d5ad518>,\n",
       " <folium.vector_layers.CircleMarker at 0x7f226d5ad550>,\n",
       " <folium.vector_layers.CircleMarker at 0x7f226d5ad588>,\n",
       " <folium.vector_layers.CircleMarker at 0x7f226d5ad5c0>,\n",
       " <folium.vector_layers.CircleMarker at 0x7f226d5ad5f8>,\n",
       " <folium.vector_layers.CircleMarker at 0x7f226d5ad630>,\n",
       " <folium.vector_layers.CircleMarker at 0x7f226d5ad668>,\n",
       " <folium.vector_layers.CircleMarker at 0x7f226d5ad6a0>,\n",
       " <folium.vector_layers.CircleMarker at 0x7f226d5ad6d8>,\n",
       " <folium.vector_layers.CircleMarker at 0x7f226d5ad710>,\n",
       " <folium.vector_layers.CircleMarker at 0x7f226d5ad748>,\n",
       " <folium.vector_layers.CircleMarker at 0x7f226d5ad780>,\n",
       " <folium.vector_layers.CircleMarker at 0x7f226d5ad7b8>,\n",
       " <folium.vector_layers.CircleMarker at 0x7f226d5ad7f0>,\n",
       " <folium.vector_layers.CircleMarker at 0x7f226d5ad828>,\n",
       " <folium.vector_layers.CircleMarker at 0x7f226d5ad860>,\n",
       " <folium.vector_layers.CircleMarker at 0x7f226d5ad898>,\n",
       " <folium.vector_layers.CircleMarker at 0x7f226d5ad8d0>,\n",
       " <folium.vector_layers.CircleMarker at 0x7f226d5ad908>,\n",
       " <folium.vector_layers.CircleMarker at 0x7f226d5ad940>,\n",
       " <folium.vector_layers.CircleMarker at 0x7f226d5ad978>,\n",
       " <folium.vector_layers.CircleMarker at 0x7f226d5ad9b0>,\n",
       " <folium.vector_layers.CircleMarker at 0x7f226d5ad9e8>,\n",
       " <folium.vector_layers.CircleMarker at 0x7f226d5ada20>,\n",
       " <folium.vector_layers.CircleMarker at 0x7f226d5ada58>,\n",
       " <folium.vector_layers.CircleMarker at 0x7f226d5ada90>,\n",
       " <folium.vector_layers.CircleMarker at 0x7f226d5adac8>,\n",
       " <folium.vector_layers.CircleMarker at 0x7f226d5adb00>,\n",
       " <folium.vector_layers.CircleMarker at 0x7f226d5adb38>,\n",
       " <folium.vector_layers.CircleMarker at 0x7f226d5adb70>,\n",
       " <folium.vector_layers.CircleMarker at 0x7f226d5adba8>,\n",
       " <folium.vector_layers.CircleMarker at 0x7f226d5adbe0>,\n",
       " <folium.vector_layers.CircleMarker at 0x7f226d5adc18>,\n",
       " <folium.vector_layers.CircleMarker at 0x7f226d5adc50>,\n",
       " <folium.vector_layers.CircleMarker at 0x7f226d5adc88>,\n",
       " <folium.vector_layers.CircleMarker at 0x7f226d5adcc0>,\n",
       " <folium.vector_layers.CircleMarker at 0x7f226d5adcf8>,\n",
       " <folium.vector_layers.CircleMarker at 0x7f226d5add30>,\n",
       " <folium.vector_layers.CircleMarker at 0x7f226d5add68>,\n",
       " <folium.vector_layers.CircleMarker at 0x7f226d5adda0>,\n",
       " <folium.vector_layers.CircleMarker at 0x7f226d5addd8>,\n",
       " <folium.vector_layers.CircleMarker at 0x7f226d5ade10>,\n",
       " <folium.vector_layers.CircleMarker at 0x7f226d5ade48>,\n",
       " <folium.vector_layers.CircleMarker at 0x7f226d5ade80>,\n",
       " <folium.vector_layers.CircleMarker at 0x7f226d5adeb8>,\n",
       " <folium.vector_layers.CircleMarker at 0x7f226d5adef0>,\n",
       " <folium.vector_layers.CircleMarker at 0x7f226d5adf28>,\n",
       " <folium.vector_layers.CircleMarker at 0x7f226d5adf60>,\n",
       " <folium.vector_layers.CircleMarker at 0x7f226d5adf98>,\n",
       " <folium.vector_layers.CircleMarker at 0x7f226d5adfd0>,\n",
       " <folium.vector_layers.CircleMarker at 0x7f226d5ad048>,\n",
       " <folium.vector_layers.CircleMarker at 0x7f226d59f080>,\n",
       " <folium.vector_layers.CircleMarker at 0x7f226d59f0b8>,\n",
       " <folium.vector_layers.CircleMarker at 0x7f226d59f0f0>,\n",
       " <folium.vector_layers.CircleMarker at 0x7f226d59f160>,\n",
       " <folium.vector_layers.CircleMarker at 0x7f226d59f1d0>,\n",
       " <folium.vector_layers.CircleMarker at 0x7f226d59f208>,\n",
       " <folium.vector_layers.CircleMarker at 0x7f226d59f240>,\n",
       " <folium.vector_layers.CircleMarker at 0x7f226d59f198>,\n",
       " <folium.vector_layers.CircleMarker at 0x7f226d59f128>,\n",
       " <folium.vector_layers.CircleMarker at 0x7f226d59f278>,\n",
       " <folium.vector_layers.CircleMarker at 0x7f226d59f2b0>,\n",
       " <folium.vector_layers.CircleMarker at 0x7f226d59f2e8>,\n",
       " <folium.vector_layers.CircleMarker at 0x7f226d59f320>,\n",
       " <folium.vector_layers.CircleMarker at 0x7f226d59f358>,\n",
       " <folium.vector_layers.CircleMarker at 0x7f226d59f390>,\n",
       " <folium.vector_layers.CircleMarker at 0x7f226d59f3c8>,\n",
       " <folium.vector_layers.CircleMarker at 0x7f226d59f400>,\n",
       " <folium.vector_layers.CircleMarker at 0x7f226d59f438>,\n",
       " <folium.vector_layers.CircleMarker at 0x7f226d59f470>,\n",
       " <folium.vector_layers.CircleMarker at 0x7f226d59f4a8>,\n",
       " <folium.vector_layers.CircleMarker at 0x7f226d59f4e0>,\n",
       " <folium.vector_layers.CircleMarker at 0x7f226d59f518>,\n",
       " <folium.vector_layers.CircleMarker at 0x7f226d59f550>,\n",
       " <folium.vector_layers.CircleMarker at 0x7f226d59f588>,\n",
       " <folium.vector_layers.CircleMarker at 0x7f226d59f5c0>,\n",
       " <folium.vector_layers.CircleMarker at 0x7f226d59f5f8>,\n",
       " <folium.vector_layers.CircleMarker at 0x7f226d59f630>,\n",
       " <folium.vector_layers.CircleMarker at 0x7f226d59f668>,\n",
       " <folium.vector_layers.CircleMarker at 0x7f226d59f6a0>,\n",
       " <folium.vector_layers.CircleMarker at 0x7f226d59f6d8>,\n",
       " <folium.vector_layers.CircleMarker at 0x7f226d59f710>,\n",
       " <folium.vector_layers.CircleMarker at 0x7f226d59f748>,\n",
       " <folium.vector_layers.CircleMarker at 0x7f226d59f780>,\n",
       " <folium.vector_layers.CircleMarker at 0x7f226d59f7b8>,\n",
       " <folium.vector_layers.CircleMarker at 0x7f226d59f7f0>,\n",
       " <folium.vector_layers.CircleMarker at 0x7f226d59f828>,\n",
       " <folium.vector_layers.CircleMarker at 0x7f226d59f860>,\n",
       " <folium.vector_layers.CircleMarker at 0x7f226d59f898>,\n",
       " <folium.vector_layers.CircleMarker at 0x7f226d59f8d0>,\n",
       " <folium.vector_layers.CircleMarker at 0x7f226d59f908>,\n",
       " <folium.vector_layers.CircleMarker at 0x7f226d59f940>,\n",
       " <folium.vector_layers.CircleMarker at 0x7f226d59f978>,\n",
       " <folium.vector_layers.CircleMarker at 0x7f226d59f9b0>,\n",
       " <folium.vector_layers.CircleMarker at 0x7f226d59f9e8>,\n",
       " <folium.vector_layers.CircleMarker at 0x7f226d59fa20>,\n",
       " <folium.vector_layers.CircleMarker at 0x7f226d59fa58>,\n",
       " <folium.vector_layers.CircleMarker at 0x7f226d59fa90>,\n",
       " <folium.vector_layers.CircleMarker at 0x7f226d59fac8>,\n",
       " <folium.vector_layers.CircleMarker at 0x7f226d59fb00>,\n",
       " <folium.vector_layers.CircleMarker at 0x7f226d59fb38>,\n",
       " <folium.vector_layers.CircleMarker at 0x7f226d59fb70>,\n",
       " <folium.vector_layers.CircleMarker at 0x7f226d59fba8>,\n",
       " <folium.vector_layers.CircleMarker at 0x7f226d59fbe0>,\n",
       " <folium.vector_layers.CircleMarker at 0x7f226d59fc18>,\n",
       " <folium.vector_layers.CircleMarker at 0x7f226d59fc50>,\n",
       " <folium.vector_layers.CircleMarker at 0x7f226d59fc88>,\n",
       " <folium.vector_layers.CircleMarker at 0x7f226d59fcc0>,\n",
       " <folium.vector_layers.CircleMarker at 0x7f226d59fcf8>,\n",
       " <folium.vector_layers.CircleMarker at 0x7f226d59fd30>,\n",
       " <folium.vector_layers.CircleMarker at 0x7f226d59fd68>,\n",
       " <folium.vector_layers.CircleMarker at 0x7f226d59fda0>,\n",
       " <folium.vector_layers.CircleMarker at 0x7f226d59fdd8>,\n",
       " <folium.vector_layers.CircleMarker at 0x7f226d59fe10>,\n",
       " <folium.vector_layers.CircleMarker at 0x7f226d59fe48>,\n",
       " <folium.vector_layers.CircleMarker at 0x7f226d59fe80>,\n",
       " <folium.vector_layers.CircleMarker at 0x7f226d59feb8>,\n",
       " <folium.vector_layers.CircleMarker at 0x7f226d59fef0>,\n",
       " <folium.vector_layers.CircleMarker at 0x7f226d59ff28>,\n",
       " <folium.vector_layers.CircleMarker at 0x7f226d59ff60>,\n",
       " <folium.vector_layers.CircleMarker at 0x7f226d59ff98>,\n",
       " <folium.vector_layers.CircleMarker at 0x7f226d59ffd0>,\n",
       " <folium.vector_layers.CircleMarker at 0x7f226d59f048>,\n",
       " <folium.vector_layers.CircleMarker at 0x7f226d547080>,\n",
       " <folium.vector_layers.CircleMarker at 0x7f226d5470b8>,\n",
       " <folium.vector_layers.CircleMarker at 0x7f226d5470f0>,\n",
       " <folium.vector_layers.CircleMarker at 0x7f226d547128>,\n",
       " <folium.vector_layers.CircleMarker at 0x7f226d547160>,\n",
       " <folium.vector_layers.CircleMarker at 0x7f226d547198>,\n",
       " <folium.vector_layers.CircleMarker at 0x7f226d5471d0>,\n",
       " <folium.vector_layers.CircleMarker at 0x7f226d547208>,\n",
       " <folium.vector_layers.CircleMarker at 0x7f226d547240>,\n",
       " <folium.vector_layers.CircleMarker at 0x7f226d547278>,\n",
       " <folium.vector_layers.CircleMarker at 0x7f226d5472b0>,\n",
       " <folium.vector_layers.CircleMarker at 0x7f226d5472e8>,\n",
       " <folium.vector_layers.CircleMarker at 0x7f226d547320>,\n",
       " <folium.vector_layers.CircleMarker at 0x7f226d547358>,\n",
       " <folium.vector_layers.CircleMarker at 0x7f226d547390>,\n",
       " <folium.vector_layers.CircleMarker at 0x7f226d5473c8>,\n",
       " <folium.vector_layers.CircleMarker at 0x7f226d547400>,\n",
       " <folium.vector_layers.CircleMarker at 0x7f226d547438>,\n",
       " <folium.vector_layers.CircleMarker at 0x7f226d547470>,\n",
       " <folium.vector_layers.CircleMarker at 0x7f226d5474a8>,\n",
       " <folium.vector_layers.CircleMarker at 0x7f226d5474e0>,\n",
       " <folium.vector_layers.CircleMarker at 0x7f226d547518>,\n",
       " <folium.vector_layers.CircleMarker at 0x7f226d547550>,\n",
       " <folium.vector_layers.CircleMarker at 0x7f226d547588>,\n",
       " <folium.vector_layers.CircleMarker at 0x7f226d5475c0>,\n",
       " <folium.vector_layers.CircleMarker at 0x7f226d5475f8>,\n",
       " <folium.vector_layers.CircleMarker at 0x7f226d547630>,\n",
       " <folium.vector_layers.CircleMarker at 0x7f226d547668>,\n",
       " <folium.vector_layers.CircleMarker at 0x7f226d5476a0>,\n",
       " <folium.vector_layers.CircleMarker at 0x7f226d5476d8>,\n",
       " <folium.vector_layers.CircleMarker at 0x7f226d547710>,\n",
       " <folium.vector_layers.CircleMarker at 0x7f226d547748>,\n",
       " <folium.vector_layers.CircleMarker at 0x7f226d547780>,\n",
       " <folium.vector_layers.CircleMarker at 0x7f226d5477b8>,\n",
       " <folium.vector_layers.CircleMarker at 0x7f226d5477f0>,\n",
       " <folium.vector_layers.CircleMarker at 0x7f226d547828>,\n",
       " <folium.vector_layers.CircleMarker at 0x7f226d547860>,\n",
       " <folium.vector_layers.CircleMarker at 0x7f226d547898>,\n",
       " <folium.vector_layers.CircleMarker at 0x7f226d5478d0>,\n",
       " <folium.vector_layers.CircleMarker at 0x7f226d547908>,\n",
       " <folium.vector_layers.CircleMarker at 0x7f226d547940>,\n",
       " <folium.vector_layers.CircleMarker at 0x7f226d547978>,\n",
       " <folium.vector_layers.CircleMarker at 0x7f226d5479b0>,\n",
       " <folium.vector_layers.CircleMarker at 0x7f226d5479e8>,\n",
       " <folium.vector_layers.CircleMarker at 0x7f226d547a20>,\n",
       " <folium.vector_layers.CircleMarker at 0x7f226d547a58>,\n",
       " <folium.vector_layers.CircleMarker at 0x7f226d547a90>,\n",
       " <folium.vector_layers.CircleMarker at 0x7f226d547ac8>,\n",
       " <folium.vector_layers.CircleMarker at 0x7f226d547b00>,\n",
       " <folium.vector_layers.CircleMarker at 0x7f226d547b38>,\n",
       " <folium.vector_layers.CircleMarker at 0x7f226d547b70>,\n",
       " <folium.vector_layers.CircleMarker at 0x7f226d547ba8>,\n",
       " <folium.vector_layers.CircleMarker at 0x7f226d547be0>,\n",
       " <folium.vector_layers.CircleMarker at 0x7f226d547c18>,\n",
       " <folium.vector_layers.CircleMarker at 0x7f226d547c50>,\n",
       " <folium.vector_layers.CircleMarker at 0x7f226d547c88>,\n",
       " <folium.vector_layers.CircleMarker at 0x7f226d547cc0>,\n",
       " <folium.vector_layers.CircleMarker at 0x7f226d547cf8>,\n",
       " <folium.vector_layers.CircleMarker at 0x7f226d547d30>,\n",
       " <folium.vector_layers.CircleMarker at 0x7f226d547d68>,\n",
       " <folium.vector_layers.CircleMarker at 0x7f226d547da0>,\n",
       " <folium.vector_layers.CircleMarker at 0x7f226d547dd8>,\n",
       " <folium.vector_layers.CircleMarker at 0x7f226d547e10>,\n",
       " <folium.vector_layers.CircleMarker at 0x7f226d547e48>,\n",
       " <folium.vector_layers.CircleMarker at 0x7f226d547e80>,\n",
       " <folium.vector_layers.CircleMarker at 0x7f226d547eb8>,\n",
       " <folium.vector_layers.CircleMarker at 0x7f226d547ef0>,\n",
       " <folium.vector_layers.CircleMarker at 0x7f226d547f28>,\n",
       " <folium.vector_layers.CircleMarker at 0x7f226d547f60>,\n",
       " <folium.vector_layers.CircleMarker at 0x7f226d547f98>,\n",
       " <folium.vector_layers.CircleMarker at 0x7f226d547fd0>,\n",
       " <folium.vector_layers.CircleMarker at 0x7f226d547048>,\n",
       " <folium.vector_layers.CircleMarker at 0x7f226d556048>,\n",
       " <folium.vector_layers.CircleMarker at 0x7f226d5560b8>,\n",
       " <folium.vector_layers.CircleMarker at 0x7f226d5560f0>,\n",
       " <folium.vector_layers.CircleMarker at 0x7f226d556128>,\n",
       " <folium.vector_layers.CircleMarker at 0x7f226d556160>,\n",
       " <folium.vector_layers.CircleMarker at 0x7f226d556198>,\n",
       " <folium.vector_layers.CircleMarker at 0x7f226d5561d0>,\n",
       " <folium.vector_layers.CircleMarker at 0x7f226d556208>,\n",
       " <folium.vector_layers.CircleMarker at 0x7f226d556240>,\n",
       " <folium.vector_layers.CircleMarker at 0x7f226d556278>,\n",
       " <folium.vector_layers.CircleMarker at 0x7f226d5562b0>,\n",
       " <folium.vector_layers.CircleMarker at 0x7f226d5562e8>,\n",
       " <folium.vector_layers.CircleMarker at 0x7f226d556320>,\n",
       " <folium.vector_layers.CircleMarker at 0x7f226d556358>,\n",
       " <folium.vector_layers.CircleMarker at 0x7f226d556390>,\n",
       " <folium.vector_layers.CircleMarker at 0x7f226d5563c8>,\n",
       " <folium.vector_layers.CircleMarker at 0x7f226d556400>,\n",
       " <folium.vector_layers.CircleMarker at 0x7f226d556438>,\n",
       " <folium.vector_layers.CircleMarker at 0x7f226d556470>,\n",
       " <folium.vector_layers.CircleMarker at 0x7f226d5564a8>,\n",
       " <folium.vector_layers.CircleMarker at 0x7f226d5564e0>,\n",
       " <folium.vector_layers.CircleMarker at 0x7f226d556518>,\n",
       " <folium.vector_layers.CircleMarker at 0x7f226d556550>,\n",
       " <folium.vector_layers.CircleMarker at 0x7f226d556588>,\n",
       " <folium.vector_layers.CircleMarker at 0x7f226d5565c0>,\n",
       " <folium.vector_layers.CircleMarker at 0x7f226d5565f8>,\n",
       " <folium.vector_layers.CircleMarker at 0x7f226d556630>,\n",
       " <folium.vector_layers.CircleMarker at 0x7f226d556668>,\n",
       " <folium.vector_layers.CircleMarker at 0x7f226d5566a0>,\n",
       " <folium.vector_layers.CircleMarker at 0x7f226d5566d8>,\n",
       " <folium.vector_layers.CircleMarker at 0x7f226d556710>,\n",
       " <folium.vector_layers.CircleMarker at 0x7f226d556748>,\n",
       " <folium.vector_layers.CircleMarker at 0x7f226d556780>,\n",
       " <folium.vector_layers.CircleMarker at 0x7f226d5567b8>,\n",
       " <folium.vector_layers.CircleMarker at 0x7f226d5567f0>,\n",
       " <folium.vector_layers.CircleMarker at 0x7f226d556828>,\n",
       " <folium.vector_layers.CircleMarker at 0x7f226d556860>,\n",
       " <folium.vector_layers.CircleMarker at 0x7f226d556898>,\n",
       " <folium.vector_layers.CircleMarker at 0x7f226d5568d0>,\n",
       " <folium.vector_layers.CircleMarker at 0x7f226d556908>,\n",
       " <folium.vector_layers.CircleMarker at 0x7f226d556940>,\n",
       " <folium.vector_layers.CircleMarker at 0x7f226d556978>,\n",
       " <folium.vector_layers.CircleMarker at 0x7f226d5569b0>,\n",
       " <folium.vector_layers.CircleMarker at 0x7f226d5569e8>,\n",
       " <folium.vector_layers.CircleMarker at 0x7f226d556a20>,\n",
       " <folium.vector_layers.CircleMarker at 0x7f226d556a58>,\n",
       " <folium.vector_layers.CircleMarker at 0x7f226d556a90>,\n",
       " <folium.vector_layers.CircleMarker at 0x7f226d556ac8>,\n",
       " <folium.vector_layers.CircleMarker at 0x7f226d556b00>,\n",
       " <folium.vector_layers.CircleMarker at 0x7f226d556b38>,\n",
       " <folium.vector_layers.CircleMarker at 0x7f226d556b70>,\n",
       " <folium.vector_layers.CircleMarker at 0x7f226d556ba8>,\n",
       " <folium.vector_layers.CircleMarker at 0x7f226d556be0>,\n",
       " <folium.vector_layers.CircleMarker at 0x7f226d556c18>,\n",
       " <folium.vector_layers.CircleMarker at 0x7f226d556c50>,\n",
       " <folium.vector_layers.CircleMarker at 0x7f226d556c88>,\n",
       " <folium.vector_layers.CircleMarker at 0x7f226d556cc0>,\n",
       " <folium.vector_layers.CircleMarker at 0x7f226d556cf8>,\n",
       " <folium.vector_layers.CircleMarker at 0x7f226d556d30>,\n",
       " <folium.vector_layers.CircleMarker at 0x7f226d556d68>,\n",
       " <folium.vector_layers.CircleMarker at 0x7f226d556da0>,\n",
       " <folium.vector_layers.CircleMarker at 0x7f226d556dd8>,\n",
       " <folium.vector_layers.CircleMarker at 0x7f226d556e10>,\n",
       " <folium.vector_layers.CircleMarker at 0x7f226d556e48>,\n",
       " <folium.vector_layers.CircleMarker at 0x7f226d556e80>,\n",
       " <folium.vector_layers.CircleMarker at 0x7f226d556eb8>,\n",
       " <folium.vector_layers.CircleMarker at 0x7f226d556ef0>,\n",
       " <folium.vector_layers.CircleMarker at 0x7f226d556f28>,\n",
       " <folium.vector_layers.CircleMarker at 0x7f226d556f60>,\n",
       " <folium.vector_layers.CircleMarker at 0x7f226d556f98>,\n",
       " <folium.vector_layers.CircleMarker at 0x7f226d556fd0>,\n",
       " <folium.vector_layers.CircleMarker at 0x7f226d556080>,\n",
       " <folium.vector_layers.CircleMarker at 0x7f226d563080>,\n",
       " <folium.vector_layers.CircleMarker at 0x7f226d5630b8>,\n",
       " <folium.vector_layers.CircleMarker at 0x7f226d5630f0>,\n",
       " <folium.vector_layers.CircleMarker at 0x7f226d563128>,\n",
       " <folium.vector_layers.CircleMarker at 0x7f226d563160>,\n",
       " <folium.vector_layers.CircleMarker at 0x7f226d563198>,\n",
       " <folium.vector_layers.CircleMarker at 0x7f226d5631d0>,\n",
       " <folium.vector_layers.CircleMarker at 0x7f226d563208>,\n",
       " <folium.vector_layers.CircleMarker at 0x7f226d563240>,\n",
       " <folium.vector_layers.CircleMarker at 0x7f226d563278>,\n",
       " <folium.vector_layers.CircleMarker at 0x7f226d5632b0>,\n",
       " <folium.vector_layers.CircleMarker at 0x7f226d5632e8>,\n",
       " <folium.vector_layers.CircleMarker at 0x7f226d563320>,\n",
       " <folium.vector_layers.CircleMarker at 0x7f226d563358>,\n",
       " <folium.vector_layers.CircleMarker at 0x7f226d563390>,\n",
       " <folium.vector_layers.CircleMarker at 0x7f226d5633c8>,\n",
       " <folium.vector_layers.CircleMarker at 0x7f226d563400>,\n",
       " <folium.vector_layers.CircleMarker at 0x7f226d563438>,\n",
       " <folium.vector_layers.CircleMarker at 0x7f226d563470>,\n",
       " <folium.vector_layers.CircleMarker at 0x7f226d5634a8>,\n",
       " <folium.vector_layers.CircleMarker at 0x7f226d5634e0>,\n",
       " <folium.vector_layers.CircleMarker at 0x7f226d563518>,\n",
       " <folium.vector_layers.CircleMarker at 0x7f226d563550>,\n",
       " <folium.vector_layers.CircleMarker at 0x7f226d563588>,\n",
       " <folium.vector_layers.CircleMarker at 0x7f226d5635c0>,\n",
       " <folium.vector_layers.CircleMarker at 0x7f226d5635f8>,\n",
       " <folium.vector_layers.CircleMarker at 0x7f226d563630>,\n",
       " <folium.vector_layers.CircleMarker at 0x7f226d563668>,\n",
       " <folium.vector_layers.CircleMarker at 0x7f226d5636a0>,\n",
       " <folium.vector_layers.CircleMarker at 0x7f226d5636d8>,\n",
       " <folium.vector_layers.CircleMarker at 0x7f226d563710>,\n",
       " <folium.vector_layers.CircleMarker at 0x7f226d563748>,\n",
       " <folium.vector_layers.CircleMarker at 0x7f226d563780>,\n",
       " <folium.vector_layers.CircleMarker at 0x7f226d5637b8>,\n",
       " <folium.vector_layers.CircleMarker at 0x7f226d5637f0>,\n",
       " <folium.vector_layers.CircleMarker at 0x7f226d563828>,\n",
       " <folium.vector_layers.CircleMarker at 0x7f226d563860>,\n",
       " <folium.vector_layers.CircleMarker at 0x7f226d563898>,\n",
       " <folium.vector_layers.CircleMarker at 0x7f226d5638d0>,\n",
       " <folium.vector_layers.CircleMarker at 0x7f226d563908>,\n",
       " <folium.vector_layers.CircleMarker at 0x7f226d563940>,\n",
       " <folium.vector_layers.CircleMarker at 0x7f226d563978>,\n",
       " <folium.vector_layers.CircleMarker at 0x7f226d5639b0>,\n",
       " <folium.vector_layers.CircleMarker at 0x7f226d5639e8>,\n",
       " <folium.vector_layers.CircleMarker at 0x7f226d563a20>,\n",
       " <folium.vector_layers.CircleMarker at 0x7f226d563a58>,\n",
       " <folium.vector_layers.CircleMarker at 0x7f226d563a90>,\n",
       " <folium.vector_layers.CircleMarker at 0x7f226d563ac8>,\n",
       " <folium.vector_layers.CircleMarker at 0x7f226d563b00>,\n",
       " <folium.vector_layers.CircleMarker at 0x7f226d563b38>,\n",
       " <folium.vector_layers.CircleMarker at 0x7f226d563b70>,\n",
       " <folium.vector_layers.CircleMarker at 0x7f226d563ba8>,\n",
       " <folium.vector_layers.CircleMarker at 0x7f226d563be0>,\n",
       " <folium.vector_layers.CircleMarker at 0x7f226d563c18>,\n",
       " <folium.vector_layers.CircleMarker at 0x7f226d563c50>,\n",
       " <folium.vector_layers.CircleMarker at 0x7f226d563c88>,\n",
       " <folium.vector_layers.CircleMarker at 0x7f226d563cc0>,\n",
       " <folium.vector_layers.CircleMarker at 0x7f226d563cf8>,\n",
       " <folium.vector_layers.CircleMarker at 0x7f226d563d30>,\n",
       " <folium.vector_layers.CircleMarker at 0x7f226d563d68>,\n",
       " <folium.vector_layers.CircleMarker at 0x7f226d563da0>,\n",
       " <folium.vector_layers.CircleMarker at 0x7f226d563dd8>,\n",
       " <folium.vector_layers.CircleMarker at 0x7f226d563e10>,\n",
       " <folium.vector_layers.CircleMarker at 0x7f226d563e48>,\n",
       " <folium.vector_layers.CircleMarker at 0x7f226d563e80>,\n",
       " <folium.vector_layers.CircleMarker at 0x7f226d563eb8>,\n",
       " <folium.vector_layers.CircleMarker at 0x7f226d563ef0>,\n",
       " <folium.vector_layers.CircleMarker at 0x7f226d563f28>,\n",
       " <folium.vector_layers.CircleMarker at 0x7f226d563f60>,\n",
       " <folium.vector_layers.CircleMarker at 0x7f226d563f98>,\n",
       " <folium.vector_layers.CircleMarker at 0x7f226d563fd0>,\n",
       " <folium.vector_layers.CircleMarker at 0x7f226d563048>,\n",
       " <folium.vector_layers.CircleMarker at 0x7f226d571048>,\n",
       " <folium.vector_layers.CircleMarker at 0x7f226d5710b8>,\n",
       " <folium.vector_layers.CircleMarker at 0x7f226d5710f0>,\n",
       " <folium.vector_layers.CircleMarker at 0x7f226d571128>,\n",
       " <folium.vector_layers.CircleMarker at 0x7f226d571160>,\n",
       " <folium.vector_layers.CircleMarker at 0x7f226d571198>,\n",
       " <folium.vector_layers.CircleMarker at 0x7f226d5711d0>,\n",
       " <folium.vector_layers.CircleMarker at 0x7f226d571208>,\n",
       " <folium.vector_layers.CircleMarker at 0x7f226d571240>,\n",
       " <folium.vector_layers.CircleMarker at 0x7f226d571278>,\n",
       " <folium.vector_layers.CircleMarker at 0x7f226d5712b0>,\n",
       " <folium.vector_layers.CircleMarker at 0x7f226d5712e8>,\n",
       " <folium.vector_layers.CircleMarker at 0x7f226d571320>,\n",
       " <folium.vector_layers.CircleMarker at 0x7f226d571358>,\n",
       " <folium.vector_layers.CircleMarker at 0x7f226d571390>,\n",
       " <folium.vector_layers.CircleMarker at 0x7f226d5713c8>,\n",
       " <folium.vector_layers.CircleMarker at 0x7f226d571400>,\n",
       " <folium.vector_layers.CircleMarker at 0x7f226d571438>,\n",
       " <folium.vector_layers.CircleMarker at 0x7f226d571470>,\n",
       " <folium.vector_layers.CircleMarker at 0x7f226d5714a8>,\n",
       " <folium.vector_layers.CircleMarker at 0x7f226d5714e0>,\n",
       " <folium.vector_layers.CircleMarker at 0x7f226d571518>,\n",
       " <folium.vector_layers.CircleMarker at 0x7f226d571550>,\n",
       " <folium.vector_layers.CircleMarker at 0x7f226d571588>,\n",
       " <folium.vector_layers.CircleMarker at 0x7f226d5715c0>,\n",
       " <folium.vector_layers.CircleMarker at 0x7f226d5715f8>,\n",
       " <folium.vector_layers.CircleMarker at 0x7f226d571630>,\n",
       " <folium.vector_layers.CircleMarker at 0x7f226d571668>,\n",
       " <folium.vector_layers.CircleMarker at 0x7f226d5716a0>,\n",
       " <folium.vector_layers.CircleMarker at 0x7f226d5716d8>,\n",
       " <folium.vector_layers.CircleMarker at 0x7f226d571710>,\n",
       " <folium.vector_layers.CircleMarker at 0x7f226d571748>,\n",
       " <folium.vector_layers.CircleMarker at 0x7f226d571780>,\n",
       " <folium.vector_layers.CircleMarker at 0x7f226d5717b8>,\n",
       " <folium.vector_layers.CircleMarker at 0x7f226d5717f0>,\n",
       " <folium.vector_layers.CircleMarker at 0x7f226d571828>,\n",
       " <folium.vector_layers.CircleMarker at 0x7f226d571860>,\n",
       " <folium.vector_layers.CircleMarker at 0x7f226d571898>,\n",
       " <folium.vector_layers.CircleMarker at 0x7f226d5718d0>,\n",
       " <folium.vector_layers.CircleMarker at 0x7f226d571908>,\n",
       " <folium.vector_layers.CircleMarker at 0x7f226d571940>,\n",
       " <folium.vector_layers.CircleMarker at 0x7f226d571978>,\n",
       " <folium.vector_layers.CircleMarker at 0x7f226d5719b0>,\n",
       " <folium.vector_layers.CircleMarker at 0x7f226d5719e8>,\n",
       " <folium.vector_layers.CircleMarker at 0x7f226d571a20>,\n",
       " <folium.vector_layers.CircleMarker at 0x7f226d571a58>,\n",
       " <folium.vector_layers.CircleMarker at 0x7f226d571a90>,\n",
       " <folium.vector_layers.CircleMarker at 0x7f226d571ac8>,\n",
       " <folium.vector_layers.CircleMarker at 0x7f226d571b00>,\n",
       " <folium.vector_layers.CircleMarker at 0x7f226d571b38>,\n",
       " <folium.vector_layers.CircleMarker at 0x7f226d571b70>,\n",
       " <folium.vector_layers.CircleMarker at 0x7f226d571ba8>,\n",
       " <folium.vector_layers.CircleMarker at 0x7f226d571be0>,\n",
       " <folium.vector_layers.CircleMarker at 0x7f226d571c18>,\n",
       " <folium.vector_layers.CircleMarker at 0x7f226d571c50>,\n",
       " <folium.vector_layers.CircleMarker at 0x7f226d571c88>,\n",
       " <folium.vector_layers.CircleMarker at 0x7f226d571cc0>,\n",
       " <folium.vector_layers.CircleMarker at 0x7f226d571cf8>,\n",
       " <folium.vector_layers.CircleMarker at 0x7f226d571d30>,\n",
       " <folium.vector_layers.CircleMarker at 0x7f226d571d68>,\n",
       " <folium.vector_layers.CircleMarker at 0x7f226d571da0>,\n",
       " <folium.vector_layers.CircleMarker at 0x7f226d571dd8>,\n",
       " <folium.vector_layers.CircleMarker at 0x7f226d571e10>,\n",
       " <folium.vector_layers.CircleMarker at 0x7f226d571e48>,\n",
       " <folium.vector_layers.CircleMarker at 0x7f226d571e80>,\n",
       " <folium.vector_layers.CircleMarker at 0x7f226d571eb8>,\n",
       " <folium.vector_layers.CircleMarker at 0x7f226d571ef0>,\n",
       " <folium.vector_layers.CircleMarker at 0x7f226d571f28>,\n",
       " <folium.vector_layers.CircleMarker at 0x7f226d571f60>,\n",
       " <folium.vector_layers.CircleMarker at 0x7f226d571f98>,\n",
       " <folium.vector_layers.CircleMarker at 0x7f226d571fd0>,\n",
       " <folium.vector_layers.CircleMarker at 0x7f226d571080>,\n",
       " <folium.vector_layers.CircleMarker at 0x7f226d4ff080>,\n",
       " <folium.vector_layers.CircleMarker at 0x7f226d4ff0b8>,\n",
       " <folium.vector_layers.CircleMarker at 0x7f226d4ff0f0>,\n",
       " <folium.vector_layers.CircleMarker at 0x7f226d4ff128>,\n",
       " <folium.vector_layers.CircleMarker at 0x7f226d4ff160>,\n",
       " <folium.vector_layers.CircleMarker at 0x7f226d4ff198>,\n",
       " <folium.vector_layers.CircleMarker at 0x7f226d4ff1d0>,\n",
       " <folium.vector_layers.CircleMarker at 0x7f226d4ff208>,\n",
       " <folium.vector_layers.CircleMarker at 0x7f226d4ff240>,\n",
       " <folium.vector_layers.CircleMarker at 0x7f226d4ff278>,\n",
       " <folium.vector_layers.CircleMarker at 0x7f226d4ff2b0>,\n",
       " <folium.vector_layers.CircleMarker at 0x7f226d4ff2e8>,\n",
       " <folium.vector_layers.CircleMarker at 0x7f226d4ff320>,\n",
       " <folium.vector_layers.CircleMarker at 0x7f226d4ff358>,\n",
       " <folium.vector_layers.CircleMarker at 0x7f226d4ff390>,\n",
       " <folium.vector_layers.CircleMarker at 0x7f226d4ff3c8>,\n",
       " <folium.vector_layers.CircleMarker at 0x7f226d4ff400>,\n",
       " <folium.vector_layers.CircleMarker at 0x7f226d4ff438>,\n",
       " <folium.vector_layers.CircleMarker at 0x7f226d4ff470>,\n",
       " <folium.vector_layers.CircleMarker at 0x7f226d4ff4a8>,\n",
       " <folium.vector_layers.CircleMarker at 0x7f226d4ff4e0>,\n",
       " <folium.vector_layers.CircleMarker at 0x7f226d4ff518>,\n",
       " <folium.vector_layers.CircleMarker at 0x7f226d4ff550>,\n",
       " <folium.vector_layers.CircleMarker at 0x7f226d4ff588>,\n",
       " <folium.vector_layers.CircleMarker at 0x7f226d4ff5c0>,\n",
       " <folium.vector_layers.CircleMarker at 0x7f226d4ff5f8>,\n",
       " <folium.vector_layers.CircleMarker at 0x7f226d4ff630>,\n",
       " <folium.vector_layers.CircleMarker at 0x7f226d4ff668>,\n",
       " <folium.vector_layers.CircleMarker at 0x7f226d4ff6a0>,\n",
       " <folium.vector_layers.CircleMarker at 0x7f226d4ff6d8>,\n",
       " <folium.vector_layers.CircleMarker at 0x7f226d4ff710>,\n",
       " <folium.vector_layers.CircleMarker at 0x7f226d4ff748>,\n",
       " <folium.vector_layers.CircleMarker at 0x7f226d4ff780>,\n",
       " <folium.vector_layers.CircleMarker at 0x7f226d4ff7b8>,\n",
       " <folium.vector_layers.CircleMarker at 0x7f226d4ff7f0>,\n",
       " <folium.vector_layers.CircleMarker at 0x7f226d4ff828>,\n",
       " <folium.vector_layers.CircleMarker at 0x7f226d4ff860>,\n",
       " <folium.vector_layers.CircleMarker at 0x7f226d4ff898>,\n",
       " <folium.vector_layers.CircleMarker at 0x7f226d4ff8d0>,\n",
       " <folium.vector_layers.CircleMarker at 0x7f226d4ff908>,\n",
       " <folium.vector_layers.CircleMarker at 0x7f226d4ff940>,\n",
       " <folium.vector_layers.CircleMarker at 0x7f226d4ff978>,\n",
       " <folium.vector_layers.CircleMarker at 0x7f226d4ff9b0>,\n",
       " <folium.vector_layers.CircleMarker at 0x7f226d4ff9e8>,\n",
       " <folium.vector_layers.CircleMarker at 0x7f226d4ffa20>,\n",
       " <folium.vector_layers.CircleMarker at 0x7f226d4ffa58>,\n",
       " <folium.vector_layers.CircleMarker at 0x7f226d4ffa90>,\n",
       " <folium.vector_layers.CircleMarker at 0x7f226d4ffac8>,\n",
       " <folium.vector_layers.CircleMarker at 0x7f226d4ffb00>,\n",
       " <folium.vector_layers.CircleMarker at 0x7f226d4ffb38>,\n",
       " <folium.vector_layers.CircleMarker at 0x7f226d4ffb70>,\n",
       " <folium.vector_layers.CircleMarker at 0x7f226d4ffba8>,\n",
       " <folium.vector_layers.CircleMarker at 0x7f226d4ffbe0>,\n",
       " <folium.vector_layers.CircleMarker at 0x7f226d4ffc18>,\n",
       " <folium.vector_layers.CircleMarker at 0x7f226d4ffc50>,\n",
       " <folium.vector_layers.CircleMarker at 0x7f226d4ffc88>,\n",
       " <folium.vector_layers.CircleMarker at 0x7f226d4ffcc0>,\n",
       " <folium.vector_layers.CircleMarker at 0x7f226d4ffcf8>,\n",
       " <folium.vector_layers.CircleMarker at 0x7f226d4ffd30>,\n",
       " <folium.vector_layers.CircleMarker at 0x7f226d4ffd68>,\n",
       " <folium.vector_layers.CircleMarker at 0x7f226d4ffda0>,\n",
       " <folium.vector_layers.CircleMarker at 0x7f226d4ffdd8>,\n",
       " <folium.vector_layers.CircleMarker at 0x7f226d4ffe10>,\n",
       " <folium.vector_layers.CircleMarker at 0x7f226d4ffe48>,\n",
       " <folium.vector_layers.CircleMarker at 0x7f226d4ffe80>,\n",
       " <folium.vector_layers.CircleMarker at 0x7f226d4ffeb8>,\n",
       " <folium.vector_layers.CircleMarker at 0x7f226d4ffef0>,\n",
       " <folium.vector_layers.CircleMarker at 0x7f226d4fff28>,\n",
       " <folium.vector_layers.CircleMarker at 0x7f226d4fff60>,\n",
       " <folium.vector_layers.CircleMarker at 0x7f226d4fff98>,\n",
       " <folium.vector_layers.CircleMarker at 0x7f226d4fffd0>,\n",
       " <folium.vector_layers.CircleMarker at 0x7f226d4ff048>,\n",
       " <folium.vector_layers.CircleMarker at 0x7f226d50c080>,\n",
       " <folium.vector_layers.CircleMarker at 0x7f226d50c0b8>,\n",
       " <folium.vector_layers.CircleMarker at 0x7f226d50c0f0>,\n",
       " <folium.vector_layers.CircleMarker at 0x7f226d50c128>,\n",
       " <folium.vector_layers.CircleMarker at 0x7f226d50c160>,\n",
       " <folium.vector_layers.CircleMarker at 0x7f226d50c198>,\n",
       " <folium.vector_layers.CircleMarker at 0x7f226d50c1d0>,\n",
       " <folium.vector_layers.CircleMarker at 0x7f226d50c208>,\n",
       " <folium.vector_layers.CircleMarker at 0x7f226d50c240>,\n",
       " <folium.vector_layers.CircleMarker at 0x7f226d50c278>,\n",
       " <folium.vector_layers.CircleMarker at 0x7f226d50c2b0>,\n",
       " <folium.vector_layers.CircleMarker at 0x7f226d50c2e8>,\n",
       " <folium.vector_layers.CircleMarker at 0x7f226d50c320>,\n",
       " <folium.vector_layers.CircleMarker at 0x7f226d50c358>,\n",
       " <folium.vector_layers.CircleMarker at 0x7f226d50c390>,\n",
       " <folium.vector_layers.CircleMarker at 0x7f226d50c3c8>,\n",
       " <folium.vector_layers.CircleMarker at 0x7f226d50c400>,\n",
       " <folium.vector_layers.CircleMarker at 0x7f226d50c438>,\n",
       " <folium.vector_layers.CircleMarker at 0x7f226d50c470>,\n",
       " <folium.vector_layers.CircleMarker at 0x7f226d50c4a8>,\n",
       " <folium.vector_layers.CircleMarker at 0x7f226d50c4e0>,\n",
       " <folium.vector_layers.CircleMarker at 0x7f226d50c518>,\n",
       " <folium.vector_layers.CircleMarker at 0x7f226d50c550>,\n",
       " <folium.vector_layers.CircleMarker at 0x7f226d50c588>,\n",
       " <folium.vector_layers.CircleMarker at 0x7f226d50c5c0>,\n",
       " <folium.vector_layers.CircleMarker at 0x7f226d50c5f8>,\n",
       " <folium.vector_layers.CircleMarker at 0x7f226d50c630>,\n",
       " <folium.vector_layers.CircleMarker at 0x7f226d50c668>,\n",
       " <folium.vector_layers.CircleMarker at 0x7f226d50c6a0>,\n",
       " <folium.vector_layers.CircleMarker at 0x7f226d50c6d8>,\n",
       " <folium.vector_layers.CircleMarker at 0x7f226d50c710>,\n",
       " <folium.vector_layers.CircleMarker at 0x7f226d50c748>,\n",
       " <folium.vector_layers.CircleMarker at 0x7f226d50c780>,\n",
       " <folium.vector_layers.CircleMarker at 0x7f226d50c7b8>,\n",
       " <folium.vector_layers.CircleMarker at 0x7f226d50c7f0>,\n",
       " <folium.vector_layers.CircleMarker at 0x7f226d50c828>,\n",
       " <folium.vector_layers.CircleMarker at 0x7f226d50c860>,\n",
       " <folium.vector_layers.CircleMarker at 0x7f226d50c898>,\n",
       " <folium.vector_layers.CircleMarker at 0x7f226d50c8d0>,\n",
       " <folium.vector_layers.CircleMarker at 0x7f226d50c908>,\n",
       " <folium.vector_layers.CircleMarker at 0x7f226d50c940>,\n",
       " <folium.vector_layers.CircleMarker at 0x7f226d50c978>,\n",
       " <folium.vector_layers.CircleMarker at 0x7f226d50c9b0>,\n",
       " <folium.vector_layers.CircleMarker at 0x7f226d50c9e8>,\n",
       " <folium.vector_layers.CircleMarker at 0x7f226d50ca20>,\n",
       " <folium.vector_layers.CircleMarker at 0x7f226d50ca58>,\n",
       " <folium.vector_layers.CircleMarker at 0x7f226d50ca90>,\n",
       " <folium.vector_layers.CircleMarker at 0x7f226d50cac8>,\n",
       " <folium.vector_layers.CircleMarker at 0x7f226d50cb00>,\n",
       " <folium.vector_layers.CircleMarker at 0x7f226d50cb38>,\n",
       " <folium.vector_layers.CircleMarker at 0x7f226d50cb70>,\n",
       " <folium.vector_layers.CircleMarker at 0x7f226d50cba8>,\n",
       " <folium.vector_layers.CircleMarker at 0x7f226d50cbe0>,\n",
       " <folium.vector_layers.CircleMarker at 0x7f226d50cc18>,\n",
       " <folium.vector_layers.CircleMarker at 0x7f226d50cc50>,\n",
       " <folium.vector_layers.CircleMarker at 0x7f226d50cc88>,\n",
       " <folium.vector_layers.CircleMarker at 0x7f226d50ccc0>,\n",
       " <folium.vector_layers.CircleMarker at 0x7f226d50ccf8>,\n",
       " <folium.vector_layers.CircleMarker at 0x7f226d50cd30>,\n",
       " <folium.vector_layers.CircleMarker at 0x7f226d50cd68>,\n",
       " <folium.vector_layers.CircleMarker at 0x7f226d50cda0>,\n",
       " <folium.vector_layers.CircleMarker at 0x7f226d50cdd8>,\n",
       " <folium.vector_layers.CircleMarker at 0x7f226d50ce10>,\n",
       " <folium.vector_layers.CircleMarker at 0x7f226d50ce48>,\n",
       " <folium.vector_layers.CircleMarker at 0x7f226d50ce80>,\n",
       " <folium.vector_layers.CircleMarker at 0x7f226d50ceb8>,\n",
       " <folium.vector_layers.CircleMarker at 0x7f226d50cef0>,\n",
       " <folium.vector_layers.CircleMarker at 0x7f226d50cf28>,\n",
       " <folium.vector_layers.CircleMarker at 0x7f226d50cf60>,\n",
       " <folium.vector_layers.CircleMarker at 0x7f226d50cf98>,\n",
       " <folium.vector_layers.CircleMarker at 0x7f226d50cfd0>,\n",
       " <folium.vector_layers.CircleMarker at 0x7f226d50c048>,\n",
       " <folium.vector_layers.CircleMarker at 0x7f226d51a080>,\n",
       " <folium.vector_layers.CircleMarker at 0x7f226d51a0b8>,\n",
       " <folium.vector_layers.CircleMarker at 0x7f226d51a0f0>,\n",
       " <folium.vector_layers.CircleMarker at 0x7f226d51a128>,\n",
       " <folium.vector_layers.CircleMarker at 0x7f226d51a160>,\n",
       " <folium.vector_layers.CircleMarker at 0x7f226d51a198>,\n",
       " <folium.vector_layers.CircleMarker at 0x7f226d51a1d0>,\n",
       " <folium.vector_layers.CircleMarker at 0x7f226d51a208>,\n",
       " <folium.vector_layers.CircleMarker at 0x7f226d51a240>,\n",
       " <folium.vector_layers.CircleMarker at 0x7f226d51a278>,\n",
       " <folium.vector_layers.CircleMarker at 0x7f226d51a2b0>,\n",
       " <folium.vector_layers.CircleMarker at 0x7f226d51a2e8>,\n",
       " <folium.vector_layers.CircleMarker at 0x7f226d51a320>,\n",
       " <folium.vector_layers.CircleMarker at 0x7f226d51a358>,\n",
       " <folium.vector_layers.CircleMarker at 0x7f226d51a390>,\n",
       " <folium.vector_layers.CircleMarker at 0x7f226d51a3c8>,\n",
       " <folium.vector_layers.CircleMarker at 0x7f226d51a400>,\n",
       " <folium.vector_layers.CircleMarker at 0x7f226d51a438>,\n",
       " <folium.vector_layers.CircleMarker at 0x7f226d51a470>,\n",
       " <folium.vector_layers.CircleMarker at 0x7f226d51a4a8>,\n",
       " <folium.vector_layers.CircleMarker at 0x7f226d51a4e0>,\n",
       " <folium.vector_layers.CircleMarker at 0x7f226d51a518>,\n",
       " <folium.vector_layers.CircleMarker at 0x7f226d51a550>,\n",
       " <folium.vector_layers.CircleMarker at 0x7f226d51a588>,\n",
       " <folium.vector_layers.CircleMarker at 0x7f226d51a5c0>,\n",
       " <folium.vector_layers.CircleMarker at 0x7f226d51a5f8>,\n",
       " <folium.vector_layers.CircleMarker at 0x7f226d51a630>,\n",
       " <folium.vector_layers.CircleMarker at 0x7f226d51a668>,\n",
       " <folium.vector_layers.CircleMarker at 0x7f226d51a6a0>,\n",
       " <folium.vector_layers.CircleMarker at 0x7f226d51a6d8>,\n",
       " <folium.vector_layers.CircleMarker at 0x7f226d51a710>,\n",
       " <folium.vector_layers.CircleMarker at 0x7f226d51a748>,\n",
       " <folium.vector_layers.CircleMarker at 0x7f226d51a780>,\n",
       " <folium.vector_layers.CircleMarker at 0x7f226d51a7b8>,\n",
       " <folium.vector_layers.CircleMarker at 0x7f226d51a7f0>,\n",
       " <folium.vector_layers.CircleMarker at 0x7f226d51a828>,\n",
       " <folium.vector_layers.CircleMarker at 0x7f226d51a860>,\n",
       " <folium.vector_layers.CircleMarker at 0x7f226d51a898>,\n",
       " <folium.vector_layers.CircleMarker at 0x7f226d51a8d0>,\n",
       " <folium.vector_layers.CircleMarker at 0x7f226d51a908>,\n",
       " <folium.vector_layers.CircleMarker at 0x7f226d51a940>,\n",
       " <folium.vector_layers.CircleMarker at 0x7f226d51a978>,\n",
       " <folium.vector_layers.CircleMarker at 0x7f226d51a9b0>,\n",
       " <folium.vector_layers.CircleMarker at 0x7f226d51a9e8>,\n",
       " <folium.vector_layers.CircleMarker at 0x7f226d51aa20>,\n",
       " <folium.vector_layers.CircleMarker at 0x7f226d51aa58>,\n",
       " <folium.vector_layers.CircleMarker at 0x7f226d51aa90>,\n",
       " <folium.vector_layers.CircleMarker at 0x7f226d51aac8>,\n",
       " <folium.vector_layers.CircleMarker at 0x7f226d51ab00>,\n",
       " <folium.vector_layers.CircleMarker at 0x7f226d51ab38>,\n",
       " <folium.vector_layers.CircleMarker at 0x7f226d51ab70>,\n",
       " <folium.vector_layers.CircleMarker at 0x7f226d51aba8>,\n",
       " <folium.vector_layers.CircleMarker at 0x7f226d51abe0>,\n",
       " <folium.vector_layers.CircleMarker at 0x7f226d51ac18>,\n",
       " <folium.vector_layers.CircleMarker at 0x7f226d51ac50>,\n",
       " <folium.vector_layers.CircleMarker at 0x7f226d51ac88>,\n",
       " <folium.vector_layers.CircleMarker at 0x7f226d51acc0>,\n",
       " <folium.vector_layers.CircleMarker at 0x7f226d51acf8>,\n",
       " <folium.vector_layers.CircleMarker at 0x7f226d51ad30>,\n",
       " <folium.vector_layers.CircleMarker at 0x7f226d51ad68>,\n",
       " <folium.vector_layers.CircleMarker at 0x7f226d51ada0>,\n",
       " <folium.vector_layers.CircleMarker at 0x7f226d51add8>,\n",
       " <folium.vector_layers.CircleMarker at 0x7f226d51ae10>,\n",
       " <folium.vector_layers.CircleMarker at 0x7f226d51ae48>,\n",
       " <folium.vector_layers.CircleMarker at 0x7f226d51ae80>,\n",
       " <folium.vector_layers.CircleMarker at 0x7f226d51aeb8>,\n",
       " <folium.vector_layers.CircleMarker at 0x7f226d51aef0>,\n",
       " <folium.vector_layers.CircleMarker at 0x7f226d51af28>,\n",
       " <folium.vector_layers.CircleMarker at 0x7f226d51af60>,\n",
       " <folium.vector_layers.CircleMarker at 0x7f226d51af98>,\n",
       " <folium.vector_layers.CircleMarker at 0x7f226d51afd0>,\n",
       " <folium.vector_layers.CircleMarker at 0x7f226d51a048>,\n",
       " <folium.vector_layers.CircleMarker at 0x7f226d527080>,\n",
       " <folium.vector_layers.CircleMarker at 0x7f226d5270b8>,\n",
       " <folium.vector_layers.CircleMarker at 0x7f226d5270f0>,\n",
       " <folium.vector_layers.CircleMarker at 0x7f226d527128>,\n",
       " <folium.vector_layers.CircleMarker at 0x7f226d527160>,\n",
       " <folium.vector_layers.CircleMarker at 0x7f226d527198>,\n",
       " <folium.vector_layers.CircleMarker at 0x7f226d5271d0>,\n",
       " <folium.vector_layers.CircleMarker at 0x7f226d527208>,\n",
       " <folium.vector_layers.CircleMarker at 0x7f226d527240>,\n",
       " <folium.vector_layers.CircleMarker at 0x7f226d527278>,\n",
       " <folium.vector_layers.CircleMarker at 0x7f226d5272b0>,\n",
       " <folium.vector_layers.CircleMarker at 0x7f226d5272e8>,\n",
       " <folium.vector_layers.CircleMarker at 0x7f226d527320>,\n",
       " <folium.vector_layers.CircleMarker at 0x7f226d527358>,\n",
       " <folium.vector_layers.CircleMarker at 0x7f226d527390>,\n",
       " <folium.vector_layers.CircleMarker at 0x7f226d5273c8>,\n",
       " <folium.vector_layers.CircleMarker at 0x7f226d527400>,\n",
       " <folium.vector_layers.CircleMarker at 0x7f226d527438>,\n",
       " <folium.vector_layers.CircleMarker at 0x7f226d527470>,\n",
       " <folium.vector_layers.CircleMarker at 0x7f226d5274a8>,\n",
       " <folium.vector_layers.CircleMarker at 0x7f226d5274e0>,\n",
       " <folium.vector_layers.CircleMarker at 0x7f226d527518>,\n",
       " <folium.vector_layers.CircleMarker at 0x7f226d527550>,\n",
       " <folium.vector_layers.CircleMarker at 0x7f226d527588>,\n",
       " <folium.vector_layers.CircleMarker at 0x7f226d5275c0>,\n",
       " <folium.vector_layers.CircleMarker at 0x7f226d5275f8>,\n",
       " <folium.vector_layers.CircleMarker at 0x7f226d527630>,\n",
       " <folium.vector_layers.CircleMarker at 0x7f226d527668>,\n",
       " <folium.vector_layers.CircleMarker at 0x7f226d5276a0>,\n",
       " <folium.vector_layers.CircleMarker at 0x7f226d5276d8>,\n",
       " <folium.vector_layers.CircleMarker at 0x7f226d527710>,\n",
       " <folium.vector_layers.CircleMarker at 0x7f226d527748>,\n",
       " <folium.vector_layers.CircleMarker at 0x7f226d527780>,\n",
       " <folium.vector_layers.CircleMarker at 0x7f226d5277b8>,\n",
       " <folium.vector_layers.CircleMarker at 0x7f226d5277f0>,\n",
       " <folium.vector_layers.CircleMarker at 0x7f226d527828>,\n",
       " <folium.vector_layers.CircleMarker at 0x7f226d527860>,\n",
       " <folium.vector_layers.CircleMarker at 0x7f226d527898>,\n",
       " <folium.vector_layers.CircleMarker at 0x7f226d5278d0>,\n",
       " <folium.vector_layers.CircleMarker at 0x7f226d527908>,\n",
       " <folium.vector_layers.CircleMarker at 0x7f226d527940>,\n",
       " <folium.vector_layers.CircleMarker at 0x7f226d527978>,\n",
       " <folium.vector_layers.CircleMarker at 0x7f226d5279b0>,\n",
       " <folium.vector_layers.CircleMarker at 0x7f226d5279e8>,\n",
       " <folium.vector_layers.CircleMarker at 0x7f226d527a20>,\n",
       " <folium.vector_layers.CircleMarker at 0x7f226d527a58>,\n",
       " <folium.vector_layers.CircleMarker at 0x7f226d527a90>,\n",
       " <folium.vector_layers.CircleMarker at 0x7f226d527ac8>,\n",
       " <folium.vector_layers.CircleMarker at 0x7f226d527b00>,\n",
       " <folium.vector_layers.CircleMarker at 0x7f226d527b38>,\n",
       " <folium.vector_layers.CircleMarker at 0x7f226d527b70>,\n",
       " <folium.vector_layers.CircleMarker at 0x7f226d527ba8>,\n",
       " <folium.vector_layers.CircleMarker at 0x7f226d527be0>,\n",
       " <folium.vector_layers.CircleMarker at 0x7f226d527c18>,\n",
       " <folium.vector_layers.CircleMarker at 0x7f226d527c50>,\n",
       " <folium.vector_layers.CircleMarker at 0x7f226d527c88>,\n",
       " <folium.vector_layers.CircleMarker at 0x7f226d527cc0>,\n",
       " <folium.vector_layers.CircleMarker at 0x7f226d527cf8>,\n",
       " <folium.vector_layers.CircleMarker at 0x7f226d527d30>,\n",
       " <folium.vector_layers.CircleMarker at 0x7f226d527d68>,\n",
       " <folium.vector_layers.CircleMarker at 0x7f226d527da0>,\n",
       " <folium.vector_layers.CircleMarker at 0x7f226d527dd8>,\n",
       " <folium.vector_layers.CircleMarker at 0x7f226d527e10>,\n",
       " <folium.vector_layers.CircleMarker at 0x7f226d527e48>,\n",
       " <folium.vector_layers.CircleMarker at 0x7f226d527e80>,\n",
       " <folium.vector_layers.CircleMarker at 0x7f226d527eb8>,\n",
       " <folium.vector_layers.CircleMarker at 0x7f226d527ef0>,\n",
       " <folium.vector_layers.CircleMarker at 0x7f226d527f28>,\n",
       " <folium.vector_layers.CircleMarker at 0x7f226d527f60>,\n",
       " <folium.vector_layers.CircleMarker at 0x7f226d527f98>,\n",
       " <folium.vector_layers.CircleMarker at 0x7f226d527fd0>,\n",
       " <folium.vector_layers.CircleMarker at 0x7f226d527048>,\n",
       " <folium.vector_layers.CircleMarker at 0x7f226d535080>,\n",
       " <folium.vector_layers.CircleMarker at 0x7f226d5350b8>,\n",
       " <folium.vector_layers.CircleMarker at 0x7f226d5350f0>,\n",
       " <folium.vector_layers.CircleMarker at 0x7f226d535128>,\n",
       " <folium.vector_layers.CircleMarker at 0x7f226d535160>,\n",
       " <folium.vector_layers.CircleMarker at 0x7f226d535198>,\n",
       " <folium.vector_layers.CircleMarker at 0x7f226d5351d0>,\n",
       " <folium.vector_layers.CircleMarker at 0x7f226d535208>,\n",
       " <folium.vector_layers.CircleMarker at 0x7f226d535240>,\n",
       " <folium.vector_layers.CircleMarker at 0x7f226d535278>,\n",
       " <folium.vector_layers.CircleMarker at 0x7f226d5352b0>,\n",
       " <folium.vector_layers.CircleMarker at 0x7f226d5352e8>,\n",
       " <folium.vector_layers.CircleMarker at 0x7f226d535320>,\n",
       " <folium.vector_layers.CircleMarker at 0x7f226d535358>,\n",
       " <folium.vector_layers.CircleMarker at 0x7f226d535390>,\n",
       " <folium.vector_layers.CircleMarker at 0x7f226d5353c8>,\n",
       " <folium.vector_layers.CircleMarker at 0x7f226d535400>,\n",
       " <folium.vector_layers.CircleMarker at 0x7f226d535438>,\n",
       " <folium.vector_layers.CircleMarker at 0x7f226d535470>,\n",
       " <folium.vector_layers.CircleMarker at 0x7f226d5354a8>,\n",
       " <folium.vector_layers.CircleMarker at 0x7f226d5354e0>,\n",
       " <folium.vector_layers.CircleMarker at 0x7f226d535518>,\n",
       " <folium.vector_layers.CircleMarker at 0x7f226d535550>,\n",
       " <folium.vector_layers.CircleMarker at 0x7f226d535588>,\n",
       " <folium.vector_layers.CircleMarker at 0x7f226d5355c0>,\n",
       " <folium.vector_layers.CircleMarker at 0x7f226d5355f8>,\n",
       " <folium.vector_layers.CircleMarker at 0x7f226d535630>,\n",
       " <folium.vector_layers.CircleMarker at 0x7f226d535668>,\n",
       " <folium.vector_layers.CircleMarker at 0x7f226d5356a0>,\n",
       " <folium.vector_layers.CircleMarker at 0x7f226d5356d8>,\n",
       " <folium.vector_layers.CircleMarker at 0x7f226d535710>,\n",
       " <folium.vector_layers.CircleMarker at 0x7f226d535748>,\n",
       " <folium.vector_layers.CircleMarker at 0x7f226d535780>,\n",
       " <folium.vector_layers.CircleMarker at 0x7f226d5357b8>,\n",
       " <folium.vector_layers.CircleMarker at 0x7f226d5357f0>,\n",
       " <folium.vector_layers.CircleMarker at 0x7f226d535828>,\n",
       " <folium.vector_layers.CircleMarker at 0x7f226d535860>,\n",
       " <folium.vector_layers.CircleMarker at 0x7f226d535898>,\n",
       " <folium.vector_layers.CircleMarker at 0x7f226d5358d0>,\n",
       " <folium.vector_layers.CircleMarker at 0x7f226d535908>,\n",
       " <folium.vector_layers.CircleMarker at 0x7f226d535940>,\n",
       " <folium.vector_layers.CircleMarker at 0x7f226d535978>,\n",
       " <folium.vector_layers.CircleMarker at 0x7f226d5359b0>,\n",
       " <folium.vector_layers.CircleMarker at 0x7f226d5359e8>,\n",
       " <folium.vector_layers.CircleMarker at 0x7f226d535a20>,\n",
       " <folium.vector_layers.CircleMarker at 0x7f226d535a58>,\n",
       " <folium.vector_layers.CircleMarker at 0x7f226d535a90>,\n",
       " <folium.vector_layers.CircleMarker at 0x7f226d535ac8>,\n",
       " <folium.vector_layers.CircleMarker at 0x7f226d535b00>,\n",
       " <folium.vector_layers.CircleMarker at 0x7f226d535b38>,\n",
       " <folium.vector_layers.CircleMarker at 0x7f226d535b70>,\n",
       " <folium.vector_layers.CircleMarker at 0x7f226d535ba8>,\n",
       " <folium.vector_layers.CircleMarker at 0x7f226d535be0>,\n",
       " <folium.vector_layers.CircleMarker at 0x7f226d535c18>,\n",
       " <folium.vector_layers.CircleMarker at 0x7f226d535c50>,\n",
       " <folium.vector_layers.CircleMarker at 0x7f226d535c88>,\n",
       " <folium.vector_layers.CircleMarker at 0x7f226d535cc0>,\n",
       " <folium.vector_layers.CircleMarker at 0x7f226d535cf8>,\n",
       " <folium.vector_layers.CircleMarker at 0x7f226d535d30>,\n",
       " <folium.vector_layers.CircleMarker at 0x7f226d535d68>,\n",
       " <folium.vector_layers.CircleMarker at 0x7f226d535da0>,\n",
       " <folium.vector_layers.CircleMarker at 0x7f226d535dd8>,\n",
       " <folium.vector_layers.CircleMarker at 0x7f226d535e10>,\n",
       " <folium.vector_layers.CircleMarker at 0x7f226d535e48>,\n",
       " <folium.vector_layers.CircleMarker at 0x7f226d535e80>,\n",
       " <folium.vector_layers.CircleMarker at 0x7f226d535eb8>,\n",
       " <folium.vector_layers.CircleMarker at 0x7f226d535ef0>,\n",
       " <folium.vector_layers.CircleMarker at 0x7f226d535f28>,\n",
       " <folium.vector_layers.CircleMarker at 0x7f226d535f60>,\n",
       " <folium.vector_layers.CircleMarker at 0x7f226d535f98>,\n",
       " <folium.vector_layers.CircleMarker at 0x7f226d535fd0>,\n",
       " <folium.vector_layers.CircleMarker at 0x7f226d535048>,\n",
       " <folium.vector_layers.CircleMarker at 0x7f226d4c3080>,\n",
       " <folium.vector_layers.CircleMarker at 0x7f226d4c30b8>,\n",
       " <folium.vector_layers.CircleMarker at 0x7f226d4c30f0>,\n",
       " <folium.vector_layers.CircleMarker at 0x7f226d4c3128>,\n",
       " <folium.vector_layers.CircleMarker at 0x7f226d4c3160>,\n",
       " <folium.vector_layers.CircleMarker at 0x7f226d4c3198>,\n",
       " <folium.vector_layers.CircleMarker at 0x7f226d4c31d0>,\n",
       " <folium.vector_layers.CircleMarker at 0x7f226d4c3208>,\n",
       " <folium.vector_layers.CircleMarker at 0x7f226d4c3240>,\n",
       " <folium.vector_layers.CircleMarker at 0x7f226d4c3278>,\n",
       " <folium.vector_layers.CircleMarker at 0x7f226d4c32b0>,\n",
       " <folium.vector_layers.CircleMarker at 0x7f226d4c32e8>,\n",
       " <folium.vector_layers.CircleMarker at 0x7f226d4c3320>,\n",
       " <folium.vector_layers.CircleMarker at 0x7f226d4c3358>,\n",
       " <folium.vector_layers.CircleMarker at 0x7f226d4c3390>,\n",
       " <folium.vector_layers.CircleMarker at 0x7f226d4c33c8>,\n",
       " <folium.vector_layers.CircleMarker at 0x7f226d4c3400>,\n",
       " <folium.vector_layers.CircleMarker at 0x7f226d4c3438>,\n",
       " <folium.vector_layers.CircleMarker at 0x7f226d4c3470>,\n",
       " <folium.vector_layers.CircleMarker at 0x7f226d4c34a8>,\n",
       " <folium.vector_layers.CircleMarker at 0x7f226d4c34e0>,\n",
       " <folium.vector_layers.CircleMarker at 0x7f226d4c3518>,\n",
       " <folium.vector_layers.CircleMarker at 0x7f226d4c3550>,\n",
       " <folium.vector_layers.CircleMarker at 0x7f226d4c3588>,\n",
       " <folium.vector_layers.CircleMarker at 0x7f226d4c35c0>,\n",
       " <folium.vector_layers.CircleMarker at 0x7f226d4c35f8>,\n",
       " <folium.vector_layers.CircleMarker at 0x7f226d4c3630>,\n",
       " <folium.vector_layers.CircleMarker at 0x7f226d4c3668>,\n",
       " <folium.vector_layers.CircleMarker at 0x7f226d4c36a0>,\n",
       " <folium.vector_layers.CircleMarker at 0x7f226d4c36d8>,\n",
       " <folium.vector_layers.CircleMarker at 0x7f226d4c3710>,\n",
       " <folium.vector_layers.CircleMarker at 0x7f226d4c3748>,\n",
       " <folium.vector_layers.CircleMarker at 0x7f226d4c3780>,\n",
       " <folium.vector_layers.CircleMarker at 0x7f226d4c37b8>,\n",
       " <folium.vector_layers.CircleMarker at 0x7f226d4c37f0>,\n",
       " <folium.vector_layers.CircleMarker at 0x7f226d4c3828>,\n",
       " <folium.vector_layers.CircleMarker at 0x7f226d4c3860>,\n",
       " <folium.vector_layers.CircleMarker at 0x7f226d4c3898>,\n",
       " <folium.vector_layers.CircleMarker at 0x7f226d4c38d0>,\n",
       " <folium.vector_layers.CircleMarker at 0x7f226d4c3908>,\n",
       " <folium.vector_layers.CircleMarker at 0x7f226d4c3940>,\n",
       " <folium.vector_layers.CircleMarker at 0x7f226d4c3978>,\n",
       " <folium.vector_layers.CircleMarker at 0x7f226d4c39b0>,\n",
       " <folium.vector_layers.CircleMarker at 0x7f226d4c39e8>,\n",
       " <folium.vector_layers.CircleMarker at 0x7f226d4c3a20>,\n",
       " <folium.vector_layers.CircleMarker at 0x7f226d4c3a58>,\n",
       " <folium.vector_layers.CircleMarker at 0x7f226d4c3a90>,\n",
       " <folium.vector_layers.CircleMarker at 0x7f226d4c3ac8>,\n",
       " <folium.vector_layers.CircleMarker at 0x7f226d4c3b00>,\n",
       " <folium.vector_layers.CircleMarker at 0x7f226d4c3b38>,\n",
       " <folium.vector_layers.CircleMarker at 0x7f226d4c3b70>,\n",
       " <folium.vector_layers.CircleMarker at 0x7f226d4c3ba8>,\n",
       " <folium.vector_layers.CircleMarker at 0x7f226d4c3be0>,\n",
       " <folium.vector_layers.CircleMarker at 0x7f226d4c3c18>,\n",
       " <folium.vector_layers.CircleMarker at 0x7f226d4c3c50>,\n",
       " <folium.vector_layers.CircleMarker at 0x7f226d4c3c88>,\n",
       " <folium.vector_layers.CircleMarker at 0x7f226d4c3cc0>,\n",
       " <folium.vector_layers.CircleMarker at 0x7f226d4c3cf8>,\n",
       " <folium.vector_layers.CircleMarker at 0x7f226d4c3d30>,\n",
       " <folium.vector_layers.CircleMarker at 0x7f226d4c3d68>,\n",
       " <folium.vector_layers.CircleMarker at 0x7f226d4c3da0>,\n",
       " <folium.vector_layers.CircleMarker at 0x7f226d4c3dd8>,\n",
       " <folium.vector_layers.CircleMarker at 0x7f226d4c3e10>,\n",
       " <folium.vector_layers.CircleMarker at 0x7f226d4c3e48>,\n",
       " <folium.vector_layers.CircleMarker at 0x7f226d4c3e80>,\n",
       " <folium.vector_layers.CircleMarker at 0x7f226d4c3eb8>,\n",
       " <folium.vector_layers.CircleMarker at 0x7f226d4c3ef0>,\n",
       " <folium.vector_layers.CircleMarker at 0x7f226d4c3f28>,\n",
       " <folium.vector_layers.CircleMarker at 0x7f226d4c3f60>,\n",
       " <folium.vector_layers.CircleMarker at 0x7f226d4c3f98>,\n",
       " <folium.vector_layers.CircleMarker at 0x7f226d4c3fd0>,\n",
       " <folium.vector_layers.CircleMarker at 0x7f226d4c3048>,\n",
       " <folium.vector_layers.CircleMarker at 0x7f226d4d2080>,\n",
       " <folium.vector_layers.CircleMarker at 0x7f226d4d20b8>,\n",
       " <folium.vector_layers.CircleMarker at 0x7f226d4d20f0>,\n",
       " <folium.vector_layers.CircleMarker at 0x7f226d4d2128>,\n",
       " <folium.vector_layers.CircleMarker at 0x7f226d4d2160>,\n",
       " <folium.vector_layers.CircleMarker at 0x7f226d4d2198>,\n",
       " <folium.vector_layers.CircleMarker at 0x7f226d4d21d0>,\n",
       " <folium.vector_layers.CircleMarker at 0x7f226d4d2208>,\n",
       " <folium.vector_layers.CircleMarker at 0x7f226d4d2240>,\n",
       " <folium.vector_layers.CircleMarker at 0x7f226d4d2278>,\n",
       " <folium.vector_layers.CircleMarker at 0x7f226d4d22b0>,\n",
       " <folium.vector_layers.CircleMarker at 0x7f226d4d22e8>,\n",
       " <folium.vector_layers.CircleMarker at 0x7f226d4d2320>,\n",
       " <folium.vector_layers.CircleMarker at 0x7f226d4d2358>,\n",
       " <folium.vector_layers.CircleMarker at 0x7f226d4d2390>,\n",
       " <folium.vector_layers.CircleMarker at 0x7f226d4d23c8>,\n",
       " <folium.vector_layers.CircleMarker at 0x7f226d4d2400>,\n",
       " <folium.vector_layers.CircleMarker at 0x7f226d4d2438>,\n",
       " <folium.vector_layers.CircleMarker at 0x7f226d4d2470>,\n",
       " <folium.vector_layers.CircleMarker at 0x7f226d4d24a8>,\n",
       " <folium.vector_layers.CircleMarker at 0x7f226d4d24e0>,\n",
       " <folium.vector_layers.CircleMarker at 0x7f226d4d2518>,\n",
       " <folium.vector_layers.CircleMarker at 0x7f226d4d2550>,\n",
       " <folium.vector_layers.CircleMarker at 0x7f226d4d2588>,\n",
       " <folium.vector_layers.CircleMarker at 0x7f226d4d25c0>,\n",
       " <folium.vector_layers.CircleMarker at 0x7f226d4d25f8>,\n",
       " <folium.vector_layers.CircleMarker at 0x7f226d4d2630>,\n",
       " <folium.vector_layers.CircleMarker at 0x7f226d4d2668>,\n",
       " <folium.vector_layers.CircleMarker at 0x7f226d4d26a0>,\n",
       " <folium.vector_layers.CircleMarker at 0x7f226d4d26d8>,\n",
       " <folium.vector_layers.CircleMarker at 0x7f226d4d2710>,\n",
       " <folium.vector_layers.CircleMarker at 0x7f226d4d2748>,\n",
       " <folium.vector_layers.CircleMarker at 0x7f226d4d2780>,\n",
       " <folium.vector_layers.CircleMarker at 0x7f226d4d27b8>,\n",
       " <folium.vector_layers.CircleMarker at 0x7f226d4d27f0>,\n",
       " <folium.vector_layers.CircleMarker at 0x7f226d4d2828>,\n",
       " <folium.vector_layers.CircleMarker at 0x7f226d4d2860>,\n",
       " <folium.vector_layers.CircleMarker at 0x7f226d4d2898>,\n",
       " <folium.vector_layers.CircleMarker at 0x7f226d4d28d0>,\n",
       " <folium.vector_layers.CircleMarker at 0x7f226d4d2908>,\n",
       " <folium.vector_layers.CircleMarker at 0x7f226d4d2940>,\n",
       " <folium.vector_layers.CircleMarker at 0x7f226d4d2978>,\n",
       " <folium.vector_layers.CircleMarker at 0x7f226d4d29b0>,\n",
       " <folium.vector_layers.CircleMarker at 0x7f226d4d29e8>,\n",
       " <folium.vector_layers.CircleMarker at 0x7f226d4d2a20>,\n",
       " <folium.vector_layers.CircleMarker at 0x7f226d4d2a58>,\n",
       " <folium.vector_layers.CircleMarker at 0x7f226d4d2a90>,\n",
       " <folium.vector_layers.CircleMarker at 0x7f226d4d2ac8>,\n",
       " <folium.vector_layers.CircleMarker at 0x7f226d4d2b00>,\n",
       " <folium.vector_layers.CircleMarker at 0x7f226d4d2b38>,\n",
       " <folium.vector_layers.CircleMarker at 0x7f226d4d2b70>,\n",
       " <folium.vector_layers.CircleMarker at 0x7f226d4d2ba8>,\n",
       " <folium.vector_layers.CircleMarker at 0x7f226d4d2be0>,\n",
       " <folium.vector_layers.CircleMarker at 0x7f226d4d2c18>,\n",
       " <folium.vector_layers.CircleMarker at 0x7f226d4d2c50>,\n",
       " <folium.vector_layers.CircleMarker at 0x7f226d4d2c88>,\n",
       " <folium.vector_layers.CircleMarker at 0x7f226d4d2cc0>,\n",
       " <folium.vector_layers.CircleMarker at 0x7f226d4d2cf8>,\n",
       " <folium.vector_layers.CircleMarker at 0x7f226d4d2d30>,\n",
       " <folium.vector_layers.CircleMarker at 0x7f226d4d2d68>,\n",
       " <folium.vector_layers.CircleMarker at 0x7f226d4d2da0>,\n",
       " <folium.vector_layers.CircleMarker at 0x7f226d4d2dd8>,\n",
       " <folium.vector_layers.CircleMarker at 0x7f226d4d2e10>,\n",
       " <folium.vector_layers.CircleMarker at 0x7f226d4d2e48>,\n",
       " <folium.vector_layers.CircleMarker at 0x7f226d4d2e80>]"
      ]
     },
     "execution_count": 142,
     "metadata": {},
     "output_type": "execute_result"
    }
   ],
   "source": [
    "trip_markers = markers_from_trips(cleaned_trips)\n",
    "trip_markers"
   ]
  },
  {
   "cell_type": "code",
   "execution_count": 135,
   "metadata": {},
   "outputs": [
    {
     "data": {
      "text/plain": [
       "[{'trip_distance': 18.38,\n",
       "  'pickup_latitude': 40.64499,\n",
       "  'pickup_longitude': -73.78115},\n",
       " {'trip_distance': 1.3,\n",
       "  'pickup_latitude': 40.766931,\n",
       "  'pickup_longitude': -73.982098},\n",
       " {'trip_distance': 4.5,\n",
       "  'pickup_latitude': 40.77773,\n",
       "  'pickup_longitude': -73.951902},\n",
       " {'trip_distance': 2.4,\n",
       "  'pickup_latitude': 40.795678,\n",
       "  'pickup_longitude': -73.971049}]"
      ]
     },
     "execution_count": 135,
     "metadata": {},
     "output_type": "execute_result"
    }
   ],
   "source": [
    "cleaned_trips[0:4]"
   ]
  },
  {
   "cell_type": "code",
   "execution_count": 127,
   "metadata": {},
   "outputs": [
    {
     "ename": "AttributeError",
     "evalue": "'function' object has no attribute 'location'",
     "output_type": "error",
     "traceback": [
      "\u001b[0;31m\u001b[0m",
      "\u001b[0;31mAttributeError\u001b[0mTraceback (most recent call last)",
      "\u001b[0;32m<ipython-input-127-26f67db15327>\u001b[0m in \u001b[0;36m<module>\u001b[0;34m\u001b[0m\n\u001b[1;32m      1\u001b[0m \u001b[0mtrip_markers\u001b[0m \u001b[0;32mand\u001b[0m \u001b[0mlen\u001b[0m\u001b[0;34m(\u001b[0m\u001b[0mtrip_markers\u001b[0m\u001b[0;34m)\u001b[0m \u001b[0;31m# 1000\u001b[0m\u001b[0;34m\u001b[0m\u001b[0;34m\u001b[0m\u001b[0m\n\u001b[1;32m      2\u001b[0m \u001b[0;34m\u001b[0m\u001b[0m\n\u001b[0;32m----> 3\u001b[0;31m \u001b[0mlist\u001b[0m\u001b[0;34m(\u001b[0m\u001b[0mmap\u001b[0m\u001b[0;34m(\u001b[0m\u001b[0;32mlambda\u001b[0m \u001b[0mmarker\u001b[0m\u001b[0;34m:\u001b[0m \u001b[0mmarker\u001b[0m\u001b[0;34m.\u001b[0m\u001b[0mlocation\u001b[0m\u001b[0;34m,\u001b[0m \u001b[0mtrip_markers\u001b[0m\u001b[0;34m[\u001b[0m\u001b[0;36m0\u001b[0m\u001b[0;34m:\u001b[0m\u001b[0;36m4\u001b[0m\u001b[0;34m]\u001b[0m\u001b[0;34m)\u001b[0m\u001b[0;34m)\u001b[0m\u001b[0;34m\u001b[0m\u001b[0;34m\u001b[0m\u001b[0m\n\u001b[0m\u001b[1;32m      4\u001b[0m \u001b[0;31m# [[40.64499, -73.78115],\u001b[0m\u001b[0;34m\u001b[0m\u001b[0;34m\u001b[0m\u001b[0;34m\u001b[0m\u001b[0m\n\u001b[1;32m      5\u001b[0m \u001b[0;31m#  [40.766931, -73.982098],\u001b[0m\u001b[0;34m\u001b[0m\u001b[0;34m\u001b[0m\u001b[0;34m\u001b[0m\u001b[0m\n",
      "\u001b[0;32m<ipython-input-127-26f67db15327>\u001b[0m in \u001b[0;36m<lambda>\u001b[0;34m(marker)\u001b[0m\n\u001b[1;32m      1\u001b[0m \u001b[0mtrip_markers\u001b[0m \u001b[0;32mand\u001b[0m \u001b[0mlen\u001b[0m\u001b[0;34m(\u001b[0m\u001b[0mtrip_markers\u001b[0m\u001b[0;34m)\u001b[0m \u001b[0;31m# 1000\u001b[0m\u001b[0;34m\u001b[0m\u001b[0;34m\u001b[0m\u001b[0m\n\u001b[1;32m      2\u001b[0m \u001b[0;34m\u001b[0m\u001b[0m\n\u001b[0;32m----> 3\u001b[0;31m \u001b[0mlist\u001b[0m\u001b[0;34m(\u001b[0m\u001b[0mmap\u001b[0m\u001b[0;34m(\u001b[0m\u001b[0;32mlambda\u001b[0m \u001b[0mmarker\u001b[0m\u001b[0;34m:\u001b[0m \u001b[0mmarker\u001b[0m\u001b[0;34m.\u001b[0m\u001b[0mlocation\u001b[0m\u001b[0;34m,\u001b[0m \u001b[0mtrip_markers\u001b[0m\u001b[0;34m[\u001b[0m\u001b[0;36m0\u001b[0m\u001b[0;34m:\u001b[0m\u001b[0;36m4\u001b[0m\u001b[0;34m]\u001b[0m\u001b[0;34m)\u001b[0m\u001b[0;34m)\u001b[0m\u001b[0;34m\u001b[0m\u001b[0;34m\u001b[0m\u001b[0m\n\u001b[0m\u001b[1;32m      4\u001b[0m \u001b[0;31m# [[40.64499, -73.78115],\u001b[0m\u001b[0;34m\u001b[0m\u001b[0;34m\u001b[0m\u001b[0;34m\u001b[0m\u001b[0m\n\u001b[1;32m      5\u001b[0m \u001b[0;31m#  [40.766931, -73.982098],\u001b[0m\u001b[0;34m\u001b[0m\u001b[0;34m\u001b[0m\u001b[0;34m\u001b[0m\u001b[0m\n",
      "\u001b[0;31mAttributeError\u001b[0m: 'function' object has no attribute 'location'"
     ]
    }
   ],
   "source": [
    "trip_markers and len(trip_markers) # 1000\n",
    "\n",
    "list(map(lambda marker: marker.location, trip_markers[0:4]))\n",
    "# [[40.64499, -73.78115],\n",
    "#  [40.766931, -73.982098],\n",
    "#  [40.77773, -73.951902],\n",
    "#  [40.795678, -73.971049]]"
   ]
  },
  {
   "cell_type": "markdown",
   "metadata": {},
   "source": [
    "Ok, now that we have a function that creates locations, and a function that creates markers, it is time to write a function to plot a map. \n",
    "\n",
    "Write a function called `map_from` that, provided the first argument of a list location and second argument an integer representing the `zoom_start`, returns a `folium` map the corresponding location and `zoom_start` attributes.\n",
    "\n",
    "> Hint: The following is how to write a map with folium:\n",
    "> ```python \n",
    "    folium.Map(location=location, zoom_start=zoom_amount)\n",
    "> ```"
   ]
  },
  {
   "cell_type": "code",
   "execution_count": null,
   "metadata": {},
   "outputs": [],
   "source": [
    "def map_from(location, zoom_amount):\n",
    "    pass"
   ]
  },
  {
   "cell_type": "code",
   "execution_count": null,
   "metadata": {},
   "outputs": [],
   "source": [
    "times_square_map = map_from([40.7589, -73.9851], 15)\n",
    "times_square_map and times_square_map.location # [40.7589, -73.9851]\n",
    "times_square_map and times_square_map.zoom_start # 15"
   ]
  },
  {
   "cell_type": "code",
   "execution_count": null,
   "metadata": {
    "scrolled": true
   },
   "outputs": [],
   "source": [
    "times_square_marker and times_square_marker.add_to(times_square_map)\n",
    "times_square_map"
   ]
  },
  {
   "cell_type": "markdown",
   "metadata": {},
   "source": [
    "Now that we have a marker and a map, now let's write a function that adds a lot of markers to a map.  This function should add each marker in the list to the map object then return the updated map object."
   ]
  },
  {
   "cell_type": "code",
   "execution_count": null,
   "metadata": {},
   "outputs": [],
   "source": [
    "manhattan_map = map_from([40.7589, -73.9851], 13)"
   ]
  },
  {
   "cell_type": "code",
   "execution_count": null,
   "metadata": {},
   "outputs": [],
   "source": [
    "def add_markers(markers, map_obj):\n",
    "    pass"
   ]
  },
  {
   "cell_type": "code",
   "execution_count": null,
   "metadata": {
    "scrolled": false
   },
   "outputs": [],
   "source": [
    "map_with_markers = add_markers(trip_markers, manhattan_map)"
   ]
  },
  {
   "cell_type": "code",
   "execution_count": null,
   "metadata": {},
   "outputs": [],
   "source": [
    "map_with_markers"
   ]
  },
  {
   "cell_type": "markdown",
   "metadata": {},
   "source": [
    "### Using Nearest Neighbors"
   ]
  },
  {
   "cell_type": "markdown",
   "metadata": {},
   "source": [
    "Ok, let's write a function that given a latitude and longitude will predict the distance for us.  We'll do this by first finding the nearest trips given a latitude and longitude. "
   ]
  },
  {
   "cell_type": "markdown",
   "metadata": {},
   "source": [
    "Here we once again apply the nearest neighbors formula. As a first step, write a function named `distance_location` that calculates the distance in pickup location between two trips."
   ]
  },
  {
   "cell_type": "code",
   "execution_count": null,
   "metadata": {},
   "outputs": [],
   "source": [
    "import math\n",
    "\n",
    "def distance_location(selected_trip, neighbor_trip):\n",
    "    pass"
   ]
  },
  {
   "cell_type": "code",
   "execution_count": null,
   "metadata": {},
   "outputs": [],
   "source": [
    "first_trip = {'pickup_latitude': 40.64499, 'pickup_longitude': -73.78115, 'trip_distance': 18.38}\n",
    "second_trip = {'pickup_latitude': 40.766931, 'pickup_longitude': -73.982098, 'trip_distance': 1.3}\n",
    "distance_first_and_second = distance_location(first_trip, second_trip)\n",
    "\n",
    "distance_first_and_second and round(distance_first_and_second, 3) # 0.235"
   ]
  },
  {
   "cell_type": "markdown",
   "metadata": {},
   "source": [
    "Ok, next write a function called `distance_between_neighbors` that adds a new key-value pair, called `distance_from_selected`, that calculates the distance of the `neighbor_trip` from the `selected_trip`."
   ]
  },
  {
   "cell_type": "code",
   "execution_count": null,
   "metadata": {},
   "outputs": [],
   "source": [
    "def distance_between_neighbors(selected_trip, neighbor_trip):\n",
    "    pass"
   ]
  },
  {
   "cell_type": "code",
   "execution_count": null,
   "metadata": {},
   "outputs": [],
   "source": [
    "distance_between_neighbors(first_trip, second_trip)\n",
    "\n",
    "# {'distance_from_selected': 0.23505256047318146,\n",
    "#  'pickup_latitude': 40.766931,\n",
    "#  'pickup_longitude': -73.982098,\n",
    "#  'trip_distance': 1.3}"
   ]
  },
  {
   "cell_type": "markdown",
   "metadata": {},
   "source": [
    "Ok, now our `neighbor_trip` has another attribute called `distance_from_selected`, that indicates the distance from the `neighbor_trip`'s pickup location from the `selected_trip`."
   ]
  },
  {
   "cell_type": "markdown",
   "metadata": {},
   "source": [
    "> ** Understand the data:** Our dictionary now has a few attributes, two of which say distance.  Let's make sure we understand the difference. \n",
    "> * **`distance_from_selected`:** This is our calculation of the distance of the neighbor's pickup location from the selected trip.\n",
    "> * **`trip_distance`:** This is the attribute we were provided initially.  It tells us the length of the neighbor's taxi trip from pickup to drop-off.  "
   ]
  },
  {
   "cell_type": "markdown",
   "metadata": {},
   "source": [
    "Next, write a function called `distance_all` that provided a list of neighbors, returns each of those neighbors with their respective `distance_from_selected` numbers."
   ]
  },
  {
   "cell_type": "code",
   "execution_count": null,
   "metadata": {},
   "outputs": [],
   "source": [
    "def distance_all(selected_individual, neighbors):\n",
    "    pass"
   ]
  },
  {
   "cell_type": "code",
   "execution_count": null,
   "metadata": {},
   "outputs": [],
   "source": [
    "cleaned_trips and distance_all(first_trip, cleaned_trips[0:4])"
   ]
  },
  {
   "cell_type": "markdown",
   "metadata": {},
   "source": [
    "Now write the nearest neighbors formula to calculate the distance of the `selected_trip` from all of the `cleaned_trips` in our dataset.  If no number is provided, it should return the top 3 neighbors."
   ]
  },
  {
   "cell_type": "code",
   "execution_count": null,
   "metadata": {},
   "outputs": [],
   "source": [
    "def nearest_neighbors(selected_trip, trips, number = 3):\n",
    "    pass"
   ]
  },
  {
   "cell_type": "code",
   "execution_count": null,
   "metadata": {},
   "outputs": [],
   "source": [
    "new_trip = {'pickup_latitude': 40.64499,\n",
    "'pickup_longitude': -73.78115,\n",
    "'trip_distance': 18.38}\n",
    "\n",
    "nearest_three_neighbors = nearest_neighbors(new_trip, cleaned_trips or [], number = 3)\n",
    "nearest_three_neighbors\n",
    "# [{'distance_from_selected': 0.0004569288784918792,\n",
    "#   'pickup_latitude': 40.64483,\n",
    "#   'pickup_longitude': -73.781578,\n",
    "#   'trip_distance': 7.78},\n",
    "#  {'distance_from_selected': 0.0011292165425673159,\n",
    "#   'pickup_latitude': 40.644657,\n",
    "#   'pickup_longitude': -73.782229,\n",
    "#   'trip_distance': 12.7},\n",
    "#  {'distance_from_selected': 0.0042359798158141185,\n",
    "#   'pickup_latitude': 40.648509,\n",
    "#   'pickup_longitude': -73.783508,\n",
    "#   'trip_distance': 17.3}]"
   ]
  },
  {
   "cell_type": "markdown",
   "metadata": {},
   "source": [
    "Ok great! Now that we can provide a new trip location, and find the distances of the three nearest trips, we can take  calculate an estimate of the trip distance for that new trip location.  \n",
    "\n",
    "We do so simply by calculating the average of it's nearest neighbors."
   ]
  },
  {
   "cell_type": "code",
   "execution_count": null,
   "metadata": {},
   "outputs": [],
   "source": [
    "import statistics\n",
    "def mean_distance(neighbors):\n",
    "    nearest_distances = list(map(lambda neighbor: neighbor['trip_distance'], neighbors))\n",
    "    return round(statistics.mean(nearest_distances), 3)\n",
    "\n",
    "nearest_three_neighbors = nearest_neighbors(new_trip, cleaned_trips or [], number = 3)\n",
    "distance_estimate_of_selected_trip = mean_distance(nearest_three_neighbors) # 12.593\n",
    "distance_estimate_of_selected_trip"
   ]
  },
  {
   "cell_type": "markdown",
   "metadata": {},
   "source": [
    "### Choosing the correct number of neighbors"
   ]
  },
  {
   "cell_type": "markdown",
   "metadata": {},
   "source": [
    "Now, as we know from the last lesson, one tricky element is to determine how many neighbors to choose, our $k$ value,  before calculating the average.  We want to choose our value of $k$ such that it properly matches actual data, and so that it applies to new data.  There are fancy formulas to ensure that we **train** our algorithm so that our formula is optimized for all data, but here let's see different $k$ values manually.  This is the gist of choosing our $k$ value:\n",
    "\n",
    "* If we choose a $k$ value too low, our formula will be too heavily influenced by a single neighbor, whereas if our $k$ value is too high, we will be choosing so many neighbors that our nearest neighbors formula will not be adjust enough according to locations.\n",
    "\n",
    "Ok, let's experiment with this."
   ]
  },
  {
   "cell_type": "markdown",
   "metadata": {},
   "source": [
    "First, let's choose a midtown location, to see what the trip distance would be.  A Google search reveals the coordinates of 51st and 7th avenue to be the following."
   ]
  },
  {
   "cell_type": "code",
   "execution_count": null,
   "metadata": {},
   "outputs": [],
   "source": [
    "midtown_trip = dict(pickup_latitude=40.761710, pickup_longitude=-73.982760)"
   ]
  },
  {
   "cell_type": "code",
   "execution_count": null,
   "metadata": {},
   "outputs": [],
   "source": [
    "seven_closest = nearest_neighbors(midtown_trip, cleaned_trips, number = 7)\n",
    "seven_closest\n",
    "# [{'trip_distance': 0.58,\n",
    "#   'pickup_latitude': 40.761372,\n",
    "#   'pickup_longitude': -73.982602,\n",
    "#   'distance_from_selected': 0.00037310588309379025},\n",
    "#  {'trip_distance': 0.8,\n",
    "#   'pickup_latitude': 40.762444,\n",
    "#   'pickup_longitude': -73.98244,\n",
    "#   'distance_from_selected': 0.00080072217404248},\n",
    "#  {'trip_distance': 1.4,\n",
    "#   'pickup_latitude': 40.762767,\n",
    "#   'pickup_longitude': -73.982293,\n",
    "#   'distance_from_selected': 0.0011555682584735844},\n",
    "#  {'trip_distance': 8.3,\n",
    "#   'pickup_latitude': 40.762868,\n",
    "#   'pickup_longitude': -73.983233,\n",
    "#   'distance_from_selected': 0.0012508768924205918},\n",
    "#  {'trip_distance': 1.26,\n",
    "#   'pickup_latitude': 40.760057,\n",
    "#   'pickup_longitude': -73.983502,\n",
    "#   'distance_from_selected': 0.0018118976240381972},\n",
    "#  {'trip_distance': 0.0,\n",
    "#   'pickup_latitude': 40.760644,\n",
    "#   'pickup_longitude': -73.984531,\n",
    "#   'distance_from_selected': 0.002067074502774709},\n",
    "#  {'trip_distance': 1.72,\n",
    "#   'pickup_latitude': 40.762107,\n",
    "#   'pickup_longitude': -73.98479,\n",
    "#   'distance_from_selected': 0.0020684557041472677}]"
   ]
  },
  {
   "cell_type": "markdown",
   "metadata": {},
   "source": [
    "Looking at the `distance_from_selected` it appears that our our trips are still fairly close to our selected trip.  Notice that most of the data is within a distance of .002 away, so going to the top 7 nearest neighbors didn't seem to give us neighbors too far from each other, which is a good sign.\n",
    "\n",
    "Still, it's hard to know what distance in latitude and longitude really look like, so let's map the data. "
   ]
  },
  {
   "cell_type": "code",
   "execution_count": null,
   "metadata": {},
   "outputs": [],
   "source": [
    "midtown_location = location(midtown_trip) # [40.76171, -73.98276]\n",
    "midtown_map = map_from(midtown_location, 16)\n",
    "closest_markers = markers_from_trips(seven_closest)\n",
    "\n",
    "add_markers(closest_markers, midtown_map)"
   ]
  },
  {
   "cell_type": "markdown",
   "metadata": {},
   "source": [
    "Ok.  These locations stay fairly close to our estimated location of 51st street and 7th Avenue.  So they could be a good estimate of a trip distance."
   ]
  },
  {
   "cell_type": "code",
   "execution_count": null,
   "metadata": {},
   "outputs": [],
   "source": [
    "mean_distance(seven_closest) # 2.009"
   ]
  },
  {
   "cell_type": "markdown",
   "metadata": {},
   "source": [
    "Ok, now let's try a different location"
   ]
  },
  {
   "cell_type": "code",
   "execution_count": null,
   "metadata": {},
   "outputs": [],
   "source": [
    "charging_bull_closest = nearest_neighbors({'pickup_latitude': 40.7049, 'pickup_longitude': -74.0137}, cleaned_trips, number = 12)"
   ]
  },
  {
   "cell_type": "code",
   "execution_count": null,
   "metadata": {
    "scrolled": true
   },
   "outputs": [],
   "source": [
    "mean_distance(charging_bull_closest) # 3.145"
   ]
  },
  {
   "cell_type": "markdown",
   "metadata": {},
   "source": [
    "Ok, so there appears to be a significant difference between choosing a location near Times Square versus choosing a location at Wall Street."
   ]
  },
  {
   "cell_type": "markdown",
   "metadata": {},
   "source": [
    "### Summary"
   ]
  },
  {
   "cell_type": "markdown",
   "metadata": {},
   "source": [
    "In this lab, we used the nearest neighbors function to predict the length of a taxi ride.  To do so, we selected a location, then found a number of taxi rides closest to that location, and finally took the average trip lengths of the nearest taxi rides to find an estimate of the new ride's trip length.  You can see that even with just a little bit of math and programming we can begin to make meaningful predictions with data."
   ]
  }
 ],
 "metadata": {
  "kernelspec": {
   "display_name": "Python 3",
   "language": "python",
   "name": "python3"
  },
  "language_info": {
   "codemirror_mode": {
    "name": "ipython",
    "version": 3
   },
   "file_extension": ".py",
   "mimetype": "text/x-python",
   "name": "python",
   "nbconvert_exporter": "python",
   "pygments_lexer": "ipython3",
   "version": "3.6.9"
  }
 },
 "nbformat": 4,
 "nbformat_minor": 2
}
