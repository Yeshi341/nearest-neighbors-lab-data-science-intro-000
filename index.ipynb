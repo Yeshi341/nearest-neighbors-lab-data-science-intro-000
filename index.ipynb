{
 "cells": [
  {
   "cell_type": "markdown",
   "metadata": {},
   "source": [
    "# Nearest Neighbors Lab"
   ]
  },
  {
   "cell_type": "markdown",
   "metadata": {},
   "source": [
    "### Introduction\n",
    "\n",
    "In this lab, you apply nearest neighbors technique to help a taxi company predict the length of their rides.  Imagine that we are hired to consult for LiftOff, a limo and taxi service that is just opening up in NYC.  Liftoff wants it's taxi drivers to target longer rides, as the longer the ride the more money it makes.  LiftOff has the following theory:\n",
    "\n",
    "* the pickup location of a taxi ride can help predict the length of the ride.  \n",
    "\n",
    "\n",
    "\n",
    "LiftOff asks us to do some analysis to write a function that will allow it to **predict the length of a taxi ride for any given location **.\n",
    "\n",
    "Our technique will be the following:\n",
    "  * **Collect** Obtain the data containing all of the taxi information, and only select the attributes of taxi trips that we need \n",
    "  * ** Explore ** Examine the attributes of our data, and plot some of our data on a map\n",
    "  * ** Train ** Write our nearest neighbors formula, and change the number of nearby trips to predict the length of a new trip\n",
    "  * ** Predict ** Use our function to predict trip lengths of new locations"
   ]
  },
  {
   "cell_type": "markdown",
   "metadata": {},
   "source": [
    "### Collect and Explore the data"
   ]
  },
  {
   "cell_type": "markdown",
   "metadata": {},
   "source": [
    "#### Collect the Data"
   ]
  },
  {
   "cell_type": "markdown",
   "metadata": {},
   "source": [
    "Luckily for us, [NYC Open Data](https://opendata.cityofnewyork.us/) collects information about NYC taxi trips and provides this data on [its website](https://data.cityofnewyork.us/Transportation/2014-Yellow-Taxi-Trip-Data/gn7m-em8n)."
   ]
  },
  {
   "cell_type": "markdown",
   "metadata": {},
   "source": [
    "![](./nyc-taxi.png)"
   ]
  },
  {
   "cell_type": "markdown",
   "metadata": {},
   "source": [
    "For your reading pleasure, the data has already been downloaded into the [trips.json](https://github.com/learn-co-curriculum/nearest-neighbors-lab/blob/master/trips.json) file in this lab which you can find here.  We'll use Python's `json` library to take the data from the `trips.json` file and store it as a variable in our notebook."
   ]
  },
  {
   "cell_type": "code",
   "execution_count": 29,
   "metadata": {},
   "outputs": [],
   "source": [
    "import json\n",
    "# First, read the file\n",
    "trips_file = open('trips.json')\n",
    "# Then, convert contents to list of dictionaries \n",
    "trips = json.load(trips_file)"
   ]
  },
  {
   "cell_type": "markdown",
   "metadata": {},
   "source": [
    "> Press shift + enter"
   ]
  },
  {
   "cell_type": "markdown",
   "metadata": {},
   "source": [
    "#### Explore the data"
   ]
  },
  {
   "cell_type": "markdown",
   "metadata": {},
   "source": [
    "The next step is to explore the data.  First, let's see how many trips we have."
   ]
  },
  {
   "cell_type": "code",
   "execution_count": 59,
   "metadata": {},
   "outputs": [
    {
     "data": {
      "text/plain": [
       "[{'dropoff_datetime': '2014-11-26T22:31:00.000',\n",
       "  'dropoff_latitude': '40.746769999999998',\n",
       "  'dropoff_longitude': '-73.997450000000001',\n",
       "  'fare_amount': '52',\n",
       "  'imp_surcharge': '0',\n",
       "  'mta_tax': '0.5',\n",
       "  'passenger_count': '1',\n",
       "  'payment_type': 'CSH',\n",
       "  'pickup_datetime': '2014-11-26T21:59:00.000',\n",
       "  'pickup_latitude': '40.64499',\n",
       "  'pickup_longitude': '-73.781149999999997',\n",
       "  'rate_code': '2',\n",
       "  'tip_amount': '0',\n",
       "  'tolls_amount': '5.3300000000000001',\n",
       "  'total_amount': '57.829999999999998',\n",
       "  'trip_distance': '18.379999999999999',\n",
       "  'vendor_id': 'VTS'},\n",
       " {'dropoff_datetime': '2014-02-22T17:54:37.000',\n",
       "  'dropoff_latitude': '40.781844999999997',\n",
       "  'dropoff_longitude': '-73.979073',\n",
       "  'fare_amount': '7.5',\n",
       "  'imp_surcharge': '0',\n",
       "  'mta_tax': '0.5',\n",
       "  'passenger_count': '1',\n",
       "  'payment_type': 'CSH',\n",
       "  'pickup_datetime': '2014-02-22T17:47:23.000',\n",
       "  'pickup_latitude': '40.766931',\n",
       "  'pickup_longitude': '-73.982097999999993',\n",
       "  'rate_code': '1',\n",
       "  'store_and_fwd_flag': 'N',\n",
       "  'tip_amount': '0',\n",
       "  'tolls_amount': '0',\n",
       "  'total_amount': '8',\n",
       "  'trip_distance': '1.3',\n",
       "  'vendor_id': 'CMT'}]"
      ]
     },
     "execution_count": 59,
     "metadata": {},
     "output_type": "execute_result"
    }
   ],
   "source": [
    "len(trips)\n",
    "trips[0:2]"
   ]
  },
  {
   "cell_type": "markdown",
   "metadata": {},
   "source": [
    "Not bad at all.  Now let's see what each individual trip looks like.  Each trip is a dictionary, so we can see the attributes of each trip with the `keys` function."
   ]
  },
  {
   "cell_type": "code",
   "execution_count": 31,
   "metadata": {
    "scrolled": true
   },
   "outputs": [
    {
     "data": {
      "text/plain": [
       "dict_keys(['dropoff_datetime', 'dropoff_latitude', 'dropoff_longitude', 'fare_amount', 'imp_surcharge', 'mta_tax', 'passenger_count', 'payment_type', 'pickup_datetime', 'pickup_latitude', 'pickup_longitude', 'rate_code', 'tip_amount', 'tolls_amount', 'total_amount', 'trip_distance', 'vendor_id'])"
      ]
     },
     "execution_count": 31,
     "metadata": {},
     "output_type": "execute_result"
    }
   ],
   "source": [
    "trips[0].keys()"
   ]
  },
  {
   "cell_type": "markdown",
   "metadata": {},
   "source": [
    "#### Limit our data"
   ]
  },
  {
   "cell_type": "markdown",
   "metadata": {},
   "source": [
    "Ok, now that we have explored some of our data, let's begin to think through what data is relevant for our task."
   ]
  },
  {
   "cell_type": "markdown",
   "metadata": {
    "collapsed": true
   },
   "source": [
    "Remember that our task is to **use the trip location to predict the length of a trip**.  So let's select the `pickup_latitude`, `pickup_longitude`, and `trip_distance` from each trip.  That will give us the trip location and related `trip_distance` for each trip.  Then based on these **actual** trip distances we can use nearest neighbors to predict an **expected** trip distance for a trip, provided an **actual** location."
   ]
  },
  {
   "cell_type": "markdown",
   "metadata": {},
   "source": [
    "** Add in about trip distance ** "
   ]
  },
  {
   "cell_type": "markdown",
   "metadata": {},
   "source": [
    "Write a function called `parse_trips(trips)` that returns a list of the trips with only the following attributes: \n",
    "* `trip_distance`\n",
    "* `pickup_latitude`\n",
    "* `pickup_longitude`"
   ]
  },
  {
   "cell_type": "code",
   "execution_count": 65,
   "metadata": {},
   "outputs": [],
   "source": [
    "def parse_trips(trips):\n",
    "    return list(map(lambda trip: {'trip_distance': trip['trip_distance'], 'pickup_latitude': trip['pickup_latitude'], 'pickup_longitude': trip['pickup_longitude']}, trips))"
   ]
  },
  {
   "cell_type": "code",
   "execution_count": 66,
   "metadata": {},
   "outputs": [
    {
     "data": {
      "text/plain": [
       "{'trip_distance': '18.379999999999999',\n",
       " 'pickup_latitude': '40.64499',\n",
       " 'pickup_longitude': '-73.781149999999997'}"
      ]
     },
     "execution_count": 66,
     "metadata": {},
     "output_type": "execute_result"
    }
   ],
   "source": [
    "parsed_trips = parse_trips(trips)\n",
    "parsed_trips and parsed_trips[0]\n",
    "\n",
    "# {'pickup_latitude': '40.64499',\n",
    "#  'pickup_longitude': '-73.78115',\n",
    "#  'trip_distance': '18.38'}"
   ]
  },
  {
   "cell_type": "markdown",
   "metadata": {},
   "source": [
    "Now, there's just one change to make.  If you look at one of the trips, all of the values are strings.  Let's change them to be floats."
   ]
  },
  {
   "cell_type": "code",
   "execution_count": 75,
   "metadata": {},
   "outputs": [],
   "source": [
    "def float_values(trips):    \n",
    "    c = list(map(lambda trip: {'trip_distance': float(trip['trip_distance']), 'pickup_latitude': float(trip['pickup_latitude']), 'pickup_longitude': float(trip['pickup_longitude'])}, trips))\n",
    "    return trips and c                           \n",
    "                               "
   ]
  },
  {
   "cell_type": "code",
   "execution_count": 76,
   "metadata": {},
   "outputs": [],
   "source": [
    "cleaned_trips = float_values(parsed_trips)"
   ]
  },
  {
   "cell_type": "code",
   "execution_count": 77,
   "metadata": {},
   "outputs": [
    {
     "data": {
      "text/plain": [
       "{'trip_distance': 18.38,\n",
       " 'pickup_latitude': 40.64499,\n",
       " 'pickup_longitude': -73.78115}"
      ]
     },
     "execution_count": 77,
     "metadata": {},
     "output_type": "execute_result"
    }
   ],
   "source": [
    "cleaned_trips[0]\n",
    "\n",
    "# {'pickup_latitude': 40.64499,\n",
    "#  'pickup_longitude': -73.78115,\n",
    "#  'trip_distance': 18.38}"
   ]
  },
  {
   "cell_type": "markdown",
   "metadata": {},
   "source": [
    "### Exploring the Data"
   ]
  },
  {
   "cell_type": "markdown",
   "metadata": {},
   "source": [
    "Now that we have paired down our data, let's get a sense of our trip data.  We can use the `folium` Python library to plot a map of Manhattan, and our data.  First we must import `folium`, and then use the `Map` function to pass through a `location`, and `zoom_start`.  If a map isn't showing up below, copy and paste the command `pip install -r requirements.txt` into your terminal to install `folium` then try again."
   ]
  },
  {
   "cell_type": "code",
   "execution_count": 84,
   "metadata": {},
   "outputs": [],
   "source": [
    "\n",
    "import folium\n",
    "manhattan_map = folium.Map(location=[40.7589, -73.9851], zoom_start=11)"
   ]
  },
  {
   "cell_type": "code",
   "execution_count": 85,
   "metadata": {
    "scrolled": true
   },
   "outputs": [
    {
     "data": {
      "text/html": [
       "<div style=\"width:100%;\"><div style=\"position:relative;width:100%;height:0;padding-bottom:60%;\"><iframe src=\"data:text/html;charset=utf-8;base64,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\" style=\"position:absolute;width:100%;height:100%;left:0;top:0;border:none !important;\" allowfullscreen webkitallowfullscreen mozallowfullscreen></iframe></div></div>"
      ],
      "text/plain": [
       "<folium.folium.Map at 0x7f226dda9048>"
      ]
     },
     "execution_count": 85,
     "metadata": {},
     "output_type": "execute_result"
    }
   ],
   "source": [
    "manhattan_map"
   ]
  },
  {
   "cell_type": "markdown",
   "metadata": {},
   "source": [
    "Ok, now let's see how we could add a dot to mark a specific location.  We'll start with Times Square."
   ]
  },
  {
   "cell_type": "code",
   "execution_count": 86,
   "metadata": {},
   "outputs": [
    {
     "data": {
      "text/plain": [
       "<folium.vector_layers.CircleMarker at 0x7f226dda9ac8>"
      ]
     },
     "execution_count": 86,
     "metadata": {},
     "output_type": "execute_result"
    }
   ],
   "source": [
    "marker = folium.CircleMarker(location = [40.7589, -73.9851], radius=10)\n",
    "marker.add_to(manhattan_map)"
   ]
  },
  {
   "cell_type": "markdown",
   "metadata": {},
   "source": [
    "Above, we first create a marker.  Then we add that circle marker to the `manhattan_map` we created earlier. "
   ]
  },
  {
   "cell_type": "code",
   "execution_count": 87,
   "metadata": {
    "scrolled": false
   },
   "outputs": [
    {
     "data": {
      "text/html": [
       "<div style=\"width:100%;\"><div style=\"position:relative;width:100%;height:0;padding-bottom:60%;\"><iframe src=\"data:text/html;charset=utf-8;base64,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\" style=\"position:absolute;width:100%;height:100%;left:0;top:0;border:none !important;\" allowfullscreen webkitallowfullscreen mozallowfullscreen></iframe></div></div>"
      ],
      "text/plain": [
       "<folium.folium.Map at 0x7f226dda9048>"
      ]
     },
     "execution_count": 87,
     "metadata": {},
     "output_type": "execute_result"
    }
   ],
   "source": [
    "manhattan_map"
   ]
  },
  {
   "cell_type": "markdown",
   "metadata": {},
   "source": [
    "Do you see that blue dot near Time's Square?  That is our marker.  \n",
    "\n",
    "So now that we can plot one marker on a map, we should have a sense of how we can plot many markers on a map to display our taxi ride data.  We simply plot a map, and then we add a marker for each location of a taxi trip.\n",
    "\n",
    "Now let's write some functions to allow us to plot maps and add markers a little more easily.  "
   ]
  },
  {
   "cell_type": "markdown",
   "metadata": {},
   "source": [
    "#### Writing some map plotting functions"
   ]
  },
  {
   "cell_type": "markdown",
   "metadata": {},
   "source": [
    "As a first step towards this, note that the functions to create both a marker and map each take in a location as two element list, representing the latitude and longitude values.  Take another look:\n",
    "\n",
    "```python\n",
    "marker = folium.CircleMarker(location = [40.7589, -73.9851])\n",
    "manhattan_map = folium.Map(location=[40.7589, -73.9851])\n",
    "```\n",
    "\n",
    "So let's write a function called to create this two element list from a trip.  Write a function called `location` that  takes in a trip as an argument and returns a list where the first element is the latitude and the second is the longitude.  Remember that a location looks like the following:"
   ]
  },
  {
   "cell_type": "code",
   "execution_count": 97,
   "metadata": {},
   "outputs": [
    {
     "data": {
      "text/plain": [
       "{'pickup_latitude': 40.64499,\n",
       " 'pickup_longitude': -73.78115,\n",
       " 'trip_distance': 18.38}"
      ]
     },
     "execution_count": 97,
     "metadata": {},
     "output_type": "execute_result"
    }
   ],
   "source": [
    "first_trip = {'pickup_latitude': 40.64499, 'pickup_longitude': -73.78115,  'trip_distance': 18.38}\n",
    "first_trip"
   ]
  },
  {
   "cell_type": "code",
   "execution_count": 103,
   "metadata": {},
   "outputs": [],
   "source": [
    "def location(trip):\n",
    "  #  c = list(map(lambda trip: [trip[0] = float(trip['pickup_latitude']), trip[1] = float(trip['pickup_longitude']), trip[2] = float(trip['trip_distance'])], trips))\n",
    "    return [ trip['pickup_latitude'], trip['pickup_longitude']]"
   ]
  },
  {
   "cell_type": "code",
   "execution_count": 104,
   "metadata": {},
   "outputs": [
    {
     "data": {
      "text/plain": [
       "[40.64499, -73.78115]"
      ]
     },
     "execution_count": 104,
     "metadata": {},
     "output_type": "execute_result"
    }
   ],
   "source": [
    "first_location = location(first_trip) # [40.64499, -73.78115]\n",
    "first_location # [40.64499, -73.78115]"
   ]
  },
  {
   "cell_type": "markdown",
   "metadata": {},
   "source": [
    "Ok, now that we can turn a trip into a location, let's turn a location into a marker.  Write a function called `to_marker` that takes in a location (in the form of a list) as an argument, and returns a folium `circleMarker` for that location.  The radius of the marker should always equal 6."
   ]
  },
  {
   "cell_type": "code",
   "execution_count": 114,
   "metadata": {},
   "outputs": [],
   "source": [
    "def to_marker(location):\n",
    "    return folium.CircleMarker(location, radius = 6)"
   ]
  },
  {
   "cell_type": "code",
   "execution_count": 122,
   "metadata": {},
   "outputs": [
    {
     "data": {
      "text/plain": [
       "[40.7589, -73.9851]"
      ]
     },
     "execution_count": 122,
     "metadata": {},
     "output_type": "execute_result"
    }
   ],
   "source": [
    "import json\n",
    "times_square_marker = to_marker([40.7589, -73.9851])\n",
    "\n",
    "times_square_marker and times_square_marker.location # [40.7589, -73.9851]\n",
    "#times_square_marker and json.loads(times_square_marker.options)['radius'] # 6"
   ]
  },
  {
   "cell_type": "code",
   "execution_count": 123,
   "metadata": {},
   "outputs": [
    {
     "data": {
      "text/plain": [
       "6"
      ]
     },
     "execution_count": 123,
     "metadata": {},
     "output_type": "execute_result"
    }
   ],
   "source": [
    "times_square_marker and json.loads(str(times_square_marker.options['radius'])) # 6"
   ]
  },
  {
   "cell_type": "markdown",
   "metadata": {},
   "source": [
    "Ok, now that we know how to produce a single marker, let's write a function to produce lots.  We can write a function called `markers_from_trips` that takes in a list of trips, and returns a marker object for each trip.  "
   ]
  },
  {
   "cell_type": "code",
   "execution_count": 140,
   "metadata": {},
   "outputs": [],
   "source": [
    "def markers_from_trips(trips):\n",
    "    return list(map(lambda trip: to_marker(location(trip)), trips))"
   ]
  },
  {
   "cell_type": "code",
   "execution_count": 141,
   "metadata": {},
   "outputs": [
    {
     "data": {
      "text/plain": [
       "[<folium.vector_layers.CircleMarker at 0x7f226d660588>,\n",
       " <folium.vector_layers.CircleMarker at 0x7f226d6603c8>,\n",
       " <folium.vector_layers.CircleMarker at 0x7f226d6602b0>,\n",
       " <folium.vector_layers.CircleMarker at 0x7f226d660080>,\n",
       " <folium.vector_layers.CircleMarker at 0x7f226d6605f8>,\n",
       " <folium.vector_layers.CircleMarker at 0x7f226d660630>,\n",
       " <folium.vector_layers.CircleMarker at 0x7f226d6606a0>,\n",
       " <folium.vector_layers.CircleMarker at 0x7f226d660320>,\n",
       " <folium.vector_layers.CircleMarker at 0x7f226d660668>,\n",
       " <folium.vector_layers.CircleMarker at 0x7f226d6606d8>,\n",
       " <folium.vector_layers.CircleMarker at 0x7f226d660710>,\n",
       " <folium.vector_layers.CircleMarker at 0x7f226d660748>,\n",
       " <folium.vector_layers.CircleMarker at 0x7f226d660780>,\n",
       " <folium.vector_layers.CircleMarker at 0x7f226d6607b8>,\n",
       " <folium.vector_layers.CircleMarker at 0x7f226d6607f0>,\n",
       " <folium.vector_layers.CircleMarker at 0x7f226d660828>,\n",
       " <folium.vector_layers.CircleMarker at 0x7f226d660860>,\n",
       " <folium.vector_layers.CircleMarker at 0x7f226d660898>,\n",
       " <folium.vector_layers.CircleMarker at 0x7f226d6608d0>,\n",
       " <folium.vector_layers.CircleMarker at 0x7f226d660908>,\n",
       " <folium.vector_layers.CircleMarker at 0x7f226d660940>,\n",
       " <folium.vector_layers.CircleMarker at 0x7f226d660978>,\n",
       " <folium.vector_layers.CircleMarker at 0x7f226d6609b0>,\n",
       " <folium.vector_layers.CircleMarker at 0x7f226d6609e8>,\n",
       " <folium.vector_layers.CircleMarker at 0x7f226d660a20>,\n",
       " <folium.vector_layers.CircleMarker at 0x7f226d660a58>,\n",
       " <folium.vector_layers.CircleMarker at 0x7f226d660128>,\n",
       " <folium.vector_layers.CircleMarker at 0x7f226d660358>,\n",
       " <folium.vector_layers.CircleMarker at 0x7f226d660a90>,\n",
       " <folium.vector_layers.CircleMarker at 0x7f226d660b00>,\n",
       " <folium.vector_layers.CircleMarker at 0x7f226d660b70>,\n",
       " <folium.vector_layers.CircleMarker at 0x7f226dd36c18>,\n",
       " <folium.vector_layers.CircleMarker at 0x7f226d660ba8>,\n",
       " <folium.vector_layers.CircleMarker at 0x7f226d660be0>,\n",
       " <folium.vector_layers.CircleMarker at 0x7f226d660c18>,\n",
       " <folium.vector_layers.CircleMarker at 0x7f226d660c50>,\n",
       " <folium.vector_layers.CircleMarker at 0x7f226d660c88>,\n",
       " <folium.vector_layers.CircleMarker at 0x7f226d660cc0>,\n",
       " <folium.vector_layers.CircleMarker at 0x7f226d660ac8>,\n",
       " <folium.vector_layers.CircleMarker at 0x7f226d660d30>,\n",
       " <folium.vector_layers.CircleMarker at 0x7f226d660d68>,\n",
       " <folium.vector_layers.CircleMarker at 0x7f226d660da0>,\n",
       " <folium.vector_layers.CircleMarker at 0x7f226d660dd8>,\n",
       " <folium.vector_layers.CircleMarker at 0x7f226d660e10>,\n",
       " <folium.vector_layers.CircleMarker at 0x7f226d660e48>,\n",
       " <folium.vector_layers.CircleMarker at 0x7f226d660e80>,\n",
       " <folium.vector_layers.CircleMarker at 0x7f226d660eb8>,\n",
       " <folium.vector_layers.CircleMarker at 0x7f226d660ef0>,\n",
       " <folium.vector_layers.CircleMarker at 0x7f226d660f28>,\n",
       " <folium.vector_layers.CircleMarker at 0x7f226d660f60>,\n",
       " <folium.vector_layers.CircleMarker at 0x7f226d660f98>,\n",
       " <folium.vector_layers.CircleMarker at 0x7f226d660fd0>,\n",
       " <folium.vector_layers.CircleMarker at 0x7f226d660198>,\n",
       " <folium.vector_layers.CircleMarker at 0x7f226d66a080>,\n",
       " <folium.vector_layers.CircleMarker at 0x7f226d66a0b8>,\n",
       " <folium.vector_layers.CircleMarker at 0x7f226d66a0f0>,\n",
       " <folium.vector_layers.CircleMarker at 0x7f226d66a128>,\n",
       " <folium.vector_layers.CircleMarker at 0x7f226d66a160>,\n",
       " <folium.vector_layers.CircleMarker at 0x7f226d66a198>,\n",
       " <folium.vector_layers.CircleMarker at 0x7f226d66a1d0>,\n",
       " <folium.vector_layers.CircleMarker at 0x7f226d66a208>,\n",
       " <folium.vector_layers.CircleMarker at 0x7f226d66a240>,\n",
       " <folium.vector_layers.CircleMarker at 0x7f226d66a278>,\n",
       " <folium.vector_layers.CircleMarker at 0x7f226d66a2b0>,\n",
       " <folium.vector_layers.CircleMarker at 0x7f226d66a2e8>,\n",
       " <folium.vector_layers.CircleMarker at 0x7f226d66a320>,\n",
       " <folium.vector_layers.CircleMarker at 0x7f226d66a358>,\n",
       " <folium.vector_layers.CircleMarker at 0x7f226d66a390>,\n",
       " <folium.vector_layers.CircleMarker at 0x7f226d66a3c8>,\n",
       " <folium.vector_layers.CircleMarker at 0x7f226d66a400>,\n",
       " <folium.vector_layers.CircleMarker at 0x7f226d66a438>,\n",
       " <folium.vector_layers.CircleMarker at 0x7f226d66a470>,\n",
       " <folium.vector_layers.CircleMarker at 0x7f226d66a4a8>,\n",
       " <folium.vector_layers.CircleMarker at 0x7f226d66a4e0>,\n",
       " <folium.vector_layers.CircleMarker at 0x7f226d66a518>,\n",
       " <folium.vector_layers.CircleMarker at 0x7f226d66a550>,\n",
       " <folium.vector_layers.CircleMarker at 0x7f226d66a588>,\n",
       " <folium.vector_layers.CircleMarker at 0x7f226d66a5c0>,\n",
       " <folium.vector_layers.CircleMarker at 0x7f226d66a5f8>,\n",
       " <folium.vector_layers.CircleMarker at 0x7f226d66a630>,\n",
       " <folium.vector_layers.CircleMarker at 0x7f226d66a668>,\n",
       " <folium.vector_layers.CircleMarker at 0x7f226d66a6a0>,\n",
       " <folium.vector_layers.CircleMarker at 0x7f226d66a6d8>,\n",
       " <folium.vector_layers.CircleMarker at 0x7f226d66a710>,\n",
       " <folium.vector_layers.CircleMarker at 0x7f226d66a748>,\n",
       " <folium.vector_layers.CircleMarker at 0x7f226d66a780>,\n",
       " <folium.vector_layers.CircleMarker at 0x7f226d66a7b8>,\n",
       " <folium.vector_layers.CircleMarker at 0x7f226d66a7f0>,\n",
       " <folium.vector_layers.CircleMarker at 0x7f226d66a828>,\n",
       " <folium.vector_layers.CircleMarker at 0x7f226d66a860>,\n",
       " <folium.vector_layers.CircleMarker at 0x7f226d66a898>,\n",
       " <folium.vector_layers.CircleMarker at 0x7f226d66a8d0>,\n",
       " <folium.vector_layers.CircleMarker at 0x7f226d66a908>,\n",
       " <folium.vector_layers.CircleMarker at 0x7f226d66a940>,\n",
       " <folium.vector_layers.CircleMarker at 0x7f226d66a978>,\n",
       " <folium.vector_layers.CircleMarker at 0x7f226d66a9b0>,\n",
       " <folium.vector_layers.CircleMarker at 0x7f226d66a9e8>,\n",
       " <folium.vector_layers.CircleMarker at 0x7f226d66aa20>,\n",
       " <folium.vector_layers.CircleMarker at 0x7f226d66aa58>,\n",
       " <folium.vector_layers.CircleMarker at 0x7f226d66aa90>,\n",
       " <folium.vector_layers.CircleMarker at 0x7f226d66aac8>,\n",
       " <folium.vector_layers.CircleMarker at 0x7f226d66ab00>,\n",
       " <folium.vector_layers.CircleMarker at 0x7f226d66ab38>,\n",
       " <folium.vector_layers.CircleMarker at 0x7f226d66ab70>,\n",
       " <folium.vector_layers.CircleMarker at 0x7f226d66aba8>,\n",
       " <folium.vector_layers.CircleMarker at 0x7f226d66abe0>,\n",
       " <folium.vector_layers.CircleMarker at 0x7f226d66ac18>,\n",
       " <folium.vector_layers.CircleMarker at 0x7f226d66ac50>,\n",
       " <folium.vector_layers.CircleMarker at 0x7f226d66ac88>,\n",
       " <folium.vector_layers.CircleMarker at 0x7f226d66acc0>,\n",
       " <folium.vector_layers.CircleMarker at 0x7f226d66acf8>,\n",
       " <folium.vector_layers.CircleMarker at 0x7f226d66ad30>,\n",
       " <folium.vector_layers.CircleMarker at 0x7f226d66ad68>,\n",
       " <folium.vector_layers.CircleMarker at 0x7f226d66ada0>,\n",
       " <folium.vector_layers.CircleMarker at 0x7f226d66add8>,\n",
       " <folium.vector_layers.CircleMarker at 0x7f226d66ae10>,\n",
       " <folium.vector_layers.CircleMarker at 0x7f226d66ae48>,\n",
       " <folium.vector_layers.CircleMarker at 0x7f226d66ae80>,\n",
       " <folium.vector_layers.CircleMarker at 0x7f226d66aeb8>,\n",
       " <folium.vector_layers.CircleMarker at 0x7f226d66aef0>,\n",
       " <folium.vector_layers.CircleMarker at 0x7f226d66af28>,\n",
       " <folium.vector_layers.CircleMarker at 0x7f226d66af60>,\n",
       " <folium.vector_layers.CircleMarker at 0x7f226d66af98>,\n",
       " <folium.vector_layers.CircleMarker at 0x7f226d66afd0>,\n",
       " <folium.vector_layers.CircleMarker at 0x7f226d66a048>,\n",
       " <folium.vector_layers.CircleMarker at 0x7f226d678080>,\n",
       " <folium.vector_layers.CircleMarker at 0x7f226d6780b8>,\n",
       " <folium.vector_layers.CircleMarker at 0x7f226d6780f0>,\n",
       " <folium.vector_layers.CircleMarker at 0x7f226d678128>,\n",
       " <folium.vector_layers.CircleMarker at 0x7f226d678160>,\n",
       " <folium.vector_layers.CircleMarker at 0x7f226d678198>,\n",
       " <folium.vector_layers.CircleMarker at 0x7f226d6781d0>,\n",
       " <folium.vector_layers.CircleMarker at 0x7f226d6600f0>,\n",
       " <folium.vector_layers.CircleMarker at 0x7f226dd818d0>,\n",
       " <folium.vector_layers.CircleMarker at 0x7f22a01fa4e0>,\n",
       " <folium.vector_layers.CircleMarker at 0x7f229c554080>,\n",
       " <folium.vector_layers.CircleMarker at 0x7f226dda96a0>,\n",
       " <folium.vector_layers.CircleMarker at 0x7f2284466940>,\n",
       " <folium.vector_layers.CircleMarker at 0x7f226dd363c8>,\n",
       " <folium.vector_layers.CircleMarker at 0x7f226dd36c88>,\n",
       " <folium.vector_layers.CircleMarker at 0x7f226dd361d0>,\n",
       " <folium.vector_layers.CircleMarker at 0x7f226dd362b0>,\n",
       " <folium.vector_layers.CircleMarker at 0x7f229c71cc18>,\n",
       " <folium.vector_layers.CircleMarker at 0x7f226dd36ba8>,\n",
       " <folium.vector_layers.CircleMarker at 0x7f226d678048>,\n",
       " <folium.vector_layers.CircleMarker at 0x7f226d678240>,\n",
       " <folium.vector_layers.CircleMarker at 0x7f226d678278>,\n",
       " <folium.vector_layers.CircleMarker at 0x7f226d6782b0>,\n",
       " <folium.vector_layers.CircleMarker at 0x7f226d6782e8>,\n",
       " <folium.vector_layers.CircleMarker at 0x7f226d678320>,\n",
       " <folium.vector_layers.CircleMarker at 0x7f226d678358>,\n",
       " <folium.vector_layers.CircleMarker at 0x7f226d678390>,\n",
       " <folium.vector_layers.CircleMarker at 0x7f226d6783c8>,\n",
       " <folium.vector_layers.CircleMarker at 0x7f226d678400>,\n",
       " <folium.vector_layers.CircleMarker at 0x7f226d678438>,\n",
       " <folium.vector_layers.CircleMarker at 0x7f226d678470>,\n",
       " <folium.vector_layers.CircleMarker at 0x7f226d6784a8>,\n",
       " <folium.vector_layers.CircleMarker at 0x7f226d6784e0>,\n",
       " <folium.vector_layers.CircleMarker at 0x7f226d678518>,\n",
       " <folium.vector_layers.CircleMarker at 0x7f226d678550>,\n",
       " <folium.vector_layers.CircleMarker at 0x7f226d678588>,\n",
       " <folium.vector_layers.CircleMarker at 0x7f226d6785c0>,\n",
       " <folium.vector_layers.CircleMarker at 0x7f226d6785f8>,\n",
       " <folium.vector_layers.CircleMarker at 0x7f226d678630>,\n",
       " <folium.vector_layers.CircleMarker at 0x7f226d678668>,\n",
       " <folium.vector_layers.CircleMarker at 0x7f226d6786a0>,\n",
       " <folium.vector_layers.CircleMarker at 0x7f226d6786d8>,\n",
       " <folium.vector_layers.CircleMarker at 0x7f226d678710>,\n",
       " <folium.vector_layers.CircleMarker at 0x7f226d678748>,\n",
       " <folium.vector_layers.CircleMarker at 0x7f226d678780>,\n",
       " <folium.vector_layers.CircleMarker at 0x7f226d6787b8>,\n",
       " <folium.vector_layers.CircleMarker at 0x7f226d6787f0>,\n",
       " <folium.vector_layers.CircleMarker at 0x7f226d678828>,\n",
       " <folium.vector_layers.CircleMarker at 0x7f226d678860>,\n",
       " <folium.vector_layers.CircleMarker at 0x7f226d678898>,\n",
       " <folium.vector_layers.CircleMarker at 0x7f226d6788d0>,\n",
       " <folium.vector_layers.CircleMarker at 0x7f226d678908>,\n",
       " <folium.vector_layers.CircleMarker at 0x7f226d678940>,\n",
       " <folium.vector_layers.CircleMarker at 0x7f226d678978>,\n",
       " <folium.vector_layers.CircleMarker at 0x7f226d6789b0>,\n",
       " <folium.vector_layers.CircleMarker at 0x7f226d6789e8>,\n",
       " <folium.vector_layers.CircleMarker at 0x7f226d678a20>,\n",
       " <folium.vector_layers.CircleMarker at 0x7f226d678a58>,\n",
       " <folium.vector_layers.CircleMarker at 0x7f226d678a90>,\n",
       " <folium.vector_layers.CircleMarker at 0x7f226d678ac8>,\n",
       " <folium.vector_layers.CircleMarker at 0x7f226d678b00>,\n",
       " <folium.vector_layers.CircleMarker at 0x7f226d678b38>,\n",
       " <folium.vector_layers.CircleMarker at 0x7f226d678b70>,\n",
       " <folium.vector_layers.CircleMarker at 0x7f226d678ba8>,\n",
       " <folium.vector_layers.CircleMarker at 0x7f226d678be0>,\n",
       " <folium.vector_layers.CircleMarker at 0x7f226d678c18>,\n",
       " <folium.vector_layers.CircleMarker at 0x7f226d678c50>,\n",
       " <folium.vector_layers.CircleMarker at 0x7f226d678c88>,\n",
       " <folium.vector_layers.CircleMarker at 0x7f226d678cc0>,\n",
       " <folium.vector_layers.CircleMarker at 0x7f226d678cf8>,\n",
       " <folium.vector_layers.CircleMarker at 0x7f226d678d30>,\n",
       " <folium.vector_layers.CircleMarker at 0x7f226d678d68>,\n",
       " <folium.vector_layers.CircleMarker at 0x7f226d678da0>,\n",
       " <folium.vector_layers.CircleMarker at 0x7f226d678dd8>,\n",
       " <folium.vector_layers.CircleMarker at 0x7f226d678e10>,\n",
       " <folium.vector_layers.CircleMarker at 0x7f226d678e48>,\n",
       " <folium.vector_layers.CircleMarker at 0x7f226d678e80>,\n",
       " <folium.vector_layers.CircleMarker at 0x7f226d678eb8>,\n",
       " <folium.vector_layers.CircleMarker at 0x7f226d678ef0>,\n",
       " <folium.vector_layers.CircleMarker at 0x7f226d678f28>,\n",
       " <folium.vector_layers.CircleMarker at 0x7f226d678f60>,\n",
       " <folium.vector_layers.CircleMarker at 0x7f226d678f98>,\n",
       " <folium.vector_layers.CircleMarker at 0x7f226d678fd0>,\n",
       " <folium.vector_layers.CircleMarker at 0x7f226d678208>,\n",
       " <folium.vector_layers.CircleMarker at 0x7f226d606080>,\n",
       " <folium.vector_layers.CircleMarker at 0x7f226d6060b8>,\n",
       " <folium.vector_layers.CircleMarker at 0x7f226d6060f0>,\n",
       " <folium.vector_layers.CircleMarker at 0x7f226d606128>,\n",
       " <folium.vector_layers.CircleMarker at 0x7f226d606160>,\n",
       " <folium.vector_layers.CircleMarker at 0x7f226d606198>,\n",
       " <folium.vector_layers.CircleMarker at 0x7f226d6061d0>,\n",
       " <folium.vector_layers.CircleMarker at 0x7f226d606208>,\n",
       " <folium.vector_layers.CircleMarker at 0x7f226d606240>,\n",
       " <folium.vector_layers.CircleMarker at 0x7f226d606278>,\n",
       " <folium.vector_layers.CircleMarker at 0x7f226d6062b0>,\n",
       " <folium.vector_layers.CircleMarker at 0x7f226d6062e8>,\n",
       " <folium.vector_layers.CircleMarker at 0x7f226d606320>,\n",
       " <folium.vector_layers.CircleMarker at 0x7f226d606358>,\n",
       " <folium.vector_layers.CircleMarker at 0x7f226d606390>,\n",
       " <folium.vector_layers.CircleMarker at 0x7f226d6063c8>,\n",
       " <folium.vector_layers.CircleMarker at 0x7f226d606400>,\n",
       " <folium.vector_layers.CircleMarker at 0x7f226d606438>,\n",
       " <folium.vector_layers.CircleMarker at 0x7f226d606470>,\n",
       " <folium.vector_layers.CircleMarker at 0x7f226d6064a8>,\n",
       " <folium.vector_layers.CircleMarker at 0x7f226d6064e0>,\n",
       " <folium.vector_layers.CircleMarker at 0x7f226d606518>,\n",
       " <folium.vector_layers.CircleMarker at 0x7f226d606550>,\n",
       " <folium.vector_layers.CircleMarker at 0x7f226d606588>,\n",
       " <folium.vector_layers.CircleMarker at 0x7f226d6065c0>,\n",
       " <folium.vector_layers.CircleMarker at 0x7f226d6065f8>,\n",
       " <folium.vector_layers.CircleMarker at 0x7f226d606630>,\n",
       " <folium.vector_layers.CircleMarker at 0x7f226d606668>,\n",
       " <folium.vector_layers.CircleMarker at 0x7f226d6066a0>,\n",
       " <folium.vector_layers.CircleMarker at 0x7f226d6066d8>,\n",
       " <folium.vector_layers.CircleMarker at 0x7f226d606710>,\n",
       " <folium.vector_layers.CircleMarker at 0x7f226d606748>,\n",
       " <folium.vector_layers.CircleMarker at 0x7f226d606780>,\n",
       " <folium.vector_layers.CircleMarker at 0x7f226d6067b8>,\n",
       " <folium.vector_layers.CircleMarker at 0x7f226d6067f0>,\n",
       " <folium.vector_layers.CircleMarker at 0x7f226d606828>,\n",
       " <folium.vector_layers.CircleMarker at 0x7f226d606860>,\n",
       " <folium.vector_layers.CircleMarker at 0x7f226d606898>,\n",
       " <folium.vector_layers.CircleMarker at 0x7f226d6068d0>,\n",
       " <folium.vector_layers.CircleMarker at 0x7f226d606908>,\n",
       " <folium.vector_layers.CircleMarker at 0x7f226d606940>,\n",
       " <folium.vector_layers.CircleMarker at 0x7f226d606978>,\n",
       " <folium.vector_layers.CircleMarker at 0x7f226d6069b0>,\n",
       " <folium.vector_layers.CircleMarker at 0x7f226d6069e8>,\n",
       " <folium.vector_layers.CircleMarker at 0x7f226d606a20>,\n",
       " <folium.vector_layers.CircleMarker at 0x7f226d606a58>,\n",
       " <folium.vector_layers.CircleMarker at 0x7f226d606a90>,\n",
       " <folium.vector_layers.CircleMarker at 0x7f226d606ac8>,\n",
       " <folium.vector_layers.CircleMarker at 0x7f226d606b00>,\n",
       " <folium.vector_layers.CircleMarker at 0x7f226d606b38>,\n",
       " <folium.vector_layers.CircleMarker at 0x7f226d606b70>,\n",
       " <folium.vector_layers.CircleMarker at 0x7f226d606ba8>,\n",
       " <folium.vector_layers.CircleMarker at 0x7f226d606be0>,\n",
       " <folium.vector_layers.CircleMarker at 0x7f226d606c18>,\n",
       " <folium.vector_layers.CircleMarker at 0x7f226d606c50>,\n",
       " <folium.vector_layers.CircleMarker at 0x7f226d606c88>,\n",
       " <folium.vector_layers.CircleMarker at 0x7f226d606cc0>,\n",
       " <folium.vector_layers.CircleMarker at 0x7f226d606cf8>,\n",
       " <folium.vector_layers.CircleMarker at 0x7f226d606d30>,\n",
       " <folium.vector_layers.CircleMarker at 0x7f226d606d68>,\n",
       " <folium.vector_layers.CircleMarker at 0x7f226d606da0>,\n",
       " <folium.vector_layers.CircleMarker at 0x7f226d606dd8>,\n",
       " <folium.vector_layers.CircleMarker at 0x7f226d606e10>,\n",
       " <folium.vector_layers.CircleMarker at 0x7f226d606e48>,\n",
       " <folium.vector_layers.CircleMarker at 0x7f226d606e80>,\n",
       " <folium.vector_layers.CircleMarker at 0x7f226d606eb8>,\n",
       " <folium.vector_layers.CircleMarker at 0x7f226d606ef0>,\n",
       " <folium.vector_layers.CircleMarker at 0x7f226d606f28>,\n",
       " <folium.vector_layers.CircleMarker at 0x7f226d606f60>,\n",
       " <folium.vector_layers.CircleMarker at 0x7f226d606f98>,\n",
       " <folium.vector_layers.CircleMarker at 0x7f226d606fd0>,\n",
       " <folium.vector_layers.CircleMarker at 0x7f226d606048>,\n",
       " <folium.vector_layers.CircleMarker at 0x7f226d615080>,\n",
       " <folium.vector_layers.CircleMarker at 0x7f226d6150b8>,\n",
       " <folium.vector_layers.CircleMarker at 0x7f226d6150f0>,\n",
       " <folium.vector_layers.CircleMarker at 0x7f226d615128>,\n",
       " <folium.vector_layers.CircleMarker at 0x7f226d615160>,\n",
       " <folium.vector_layers.CircleMarker at 0x7f226d615198>,\n",
       " <folium.vector_layers.CircleMarker at 0x7f226d6151d0>,\n",
       " <folium.vector_layers.CircleMarker at 0x7f226d615208>,\n",
       " <folium.vector_layers.CircleMarker at 0x7f226d615240>,\n",
       " <folium.vector_layers.CircleMarker at 0x7f226d615278>,\n",
       " <folium.vector_layers.CircleMarker at 0x7f226d6152b0>,\n",
       " <folium.vector_layers.CircleMarker at 0x7f226d6152e8>,\n",
       " <folium.vector_layers.CircleMarker at 0x7f226d615320>,\n",
       " <folium.vector_layers.CircleMarker at 0x7f226d615358>,\n",
       " <folium.vector_layers.CircleMarker at 0x7f226d615390>,\n",
       " <folium.vector_layers.CircleMarker at 0x7f226d6153c8>,\n",
       " <folium.vector_layers.CircleMarker at 0x7f226d615400>,\n",
       " <folium.vector_layers.CircleMarker at 0x7f226d615438>,\n",
       " <folium.vector_layers.CircleMarker at 0x7f226d615470>,\n",
       " <folium.vector_layers.CircleMarker at 0x7f226d6154a8>,\n",
       " <folium.vector_layers.CircleMarker at 0x7f226d6154e0>,\n",
       " <folium.vector_layers.CircleMarker at 0x7f226d615518>,\n",
       " <folium.vector_layers.CircleMarker at 0x7f226d615550>,\n",
       " <folium.vector_layers.CircleMarker at 0x7f226d615588>,\n",
       " <folium.vector_layers.CircleMarker at 0x7f226d6155c0>,\n",
       " <folium.vector_layers.CircleMarker at 0x7f226d6155f8>,\n",
       " <folium.vector_layers.CircleMarker at 0x7f226d615630>,\n",
       " <folium.vector_layers.CircleMarker at 0x7f226d615668>,\n",
       " <folium.vector_layers.CircleMarker at 0x7f226d6156a0>,\n",
       " <folium.vector_layers.CircleMarker at 0x7f226d6156d8>,\n",
       " <folium.vector_layers.CircleMarker at 0x7f226d615710>,\n",
       " <folium.vector_layers.CircleMarker at 0x7f226d615748>,\n",
       " <folium.vector_layers.CircleMarker at 0x7f226d615780>,\n",
       " <folium.vector_layers.CircleMarker at 0x7f226d6157b8>,\n",
       " <folium.vector_layers.CircleMarker at 0x7f226d6157f0>,\n",
       " <folium.vector_layers.CircleMarker at 0x7f226d615828>,\n",
       " <folium.vector_layers.CircleMarker at 0x7f226d615860>,\n",
       " <folium.vector_layers.CircleMarker at 0x7f226d615898>,\n",
       " <folium.vector_layers.CircleMarker at 0x7f226d6158d0>,\n",
       " <folium.vector_layers.CircleMarker at 0x7f226d615908>,\n",
       " <folium.vector_layers.CircleMarker at 0x7f226d615940>,\n",
       " <folium.vector_layers.CircleMarker at 0x7f226d615978>,\n",
       " <folium.vector_layers.CircleMarker at 0x7f226d6159b0>,\n",
       " <folium.vector_layers.CircleMarker at 0x7f226d6159e8>,\n",
       " <folium.vector_layers.CircleMarker at 0x7f226d615a20>,\n",
       " <folium.vector_layers.CircleMarker at 0x7f226d615a58>,\n",
       " <folium.vector_layers.CircleMarker at 0x7f226d615a90>,\n",
       " <folium.vector_layers.CircleMarker at 0x7f226d615ac8>,\n",
       " <folium.vector_layers.CircleMarker at 0x7f226d615b00>,\n",
       " <folium.vector_layers.CircleMarker at 0x7f226d615b38>,\n",
       " <folium.vector_layers.CircleMarker at 0x7f226d615b70>,\n",
       " <folium.vector_layers.CircleMarker at 0x7f226d615ba8>,\n",
       " <folium.vector_layers.CircleMarker at 0x7f226d615be0>,\n",
       " <folium.vector_layers.CircleMarker at 0x7f226d615c18>,\n",
       " <folium.vector_layers.CircleMarker at 0x7f226d615c50>,\n",
       " <folium.vector_layers.CircleMarker at 0x7f226d615c88>,\n",
       " <folium.vector_layers.CircleMarker at 0x7f226d615cc0>,\n",
       " <folium.vector_layers.CircleMarker at 0x7f226d615cf8>,\n",
       " <folium.vector_layers.CircleMarker at 0x7f226d615d30>,\n",
       " <folium.vector_layers.CircleMarker at 0x7f226d615d68>,\n",
       " <folium.vector_layers.CircleMarker at 0x7f226d615da0>,\n",
       " <folium.vector_layers.CircleMarker at 0x7f226d615dd8>,\n",
       " <folium.vector_layers.CircleMarker at 0x7f226d615e10>,\n",
       " <folium.vector_layers.CircleMarker at 0x7f226d615e48>,\n",
       " <folium.vector_layers.CircleMarker at 0x7f226d615e80>,\n",
       " <folium.vector_layers.CircleMarker at 0x7f226d615eb8>,\n",
       " <folium.vector_layers.CircleMarker at 0x7f226d615ef0>,\n",
       " <folium.vector_layers.CircleMarker at 0x7f226d615f28>,\n",
       " <folium.vector_layers.CircleMarker at 0x7f226d615f60>,\n",
       " <folium.vector_layers.CircleMarker at 0x7f226d615f98>,\n",
       " <folium.vector_layers.CircleMarker at 0x7f226d615fd0>,\n",
       " <folium.vector_layers.CircleMarker at 0x7f226d615048>,\n",
       " <folium.vector_layers.CircleMarker at 0x7f226d622080>,\n",
       " <folium.vector_layers.CircleMarker at 0x7f226d6220b8>,\n",
       " <folium.vector_layers.CircleMarker at 0x7f226d6220f0>,\n",
       " <folium.vector_layers.CircleMarker at 0x7f226d622128>,\n",
       " <folium.vector_layers.CircleMarker at 0x7f226d622160>,\n",
       " <folium.vector_layers.CircleMarker at 0x7f226d622198>,\n",
       " <folium.vector_layers.CircleMarker at 0x7f226d6221d0>,\n",
       " <folium.vector_layers.CircleMarker at 0x7f226d622208>,\n",
       " <folium.vector_layers.CircleMarker at 0x7f226d622240>,\n",
       " <folium.vector_layers.CircleMarker at 0x7f226d622278>,\n",
       " <folium.vector_layers.CircleMarker at 0x7f226d6222b0>,\n",
       " <folium.vector_layers.CircleMarker at 0x7f226d6222e8>,\n",
       " <folium.vector_layers.CircleMarker at 0x7f226d622320>,\n",
       " <folium.vector_layers.CircleMarker at 0x7f226d622358>,\n",
       " <folium.vector_layers.CircleMarker at 0x7f226d622390>,\n",
       " <folium.vector_layers.CircleMarker at 0x7f226d6223c8>,\n",
       " <folium.vector_layers.CircleMarker at 0x7f226d622400>,\n",
       " <folium.vector_layers.CircleMarker at 0x7f226d622438>,\n",
       " <folium.vector_layers.CircleMarker at 0x7f226d622470>,\n",
       " <folium.vector_layers.CircleMarker at 0x7f226d6224a8>,\n",
       " <folium.vector_layers.CircleMarker at 0x7f226d6224e0>,\n",
       " <folium.vector_layers.CircleMarker at 0x7f226d622518>,\n",
       " <folium.vector_layers.CircleMarker at 0x7f226d622550>,\n",
       " <folium.vector_layers.CircleMarker at 0x7f226d622588>,\n",
       " <folium.vector_layers.CircleMarker at 0x7f226d6225c0>,\n",
       " <folium.vector_layers.CircleMarker at 0x7f226d6225f8>,\n",
       " <folium.vector_layers.CircleMarker at 0x7f226d622630>,\n",
       " <folium.vector_layers.CircleMarker at 0x7f226d622668>,\n",
       " <folium.vector_layers.CircleMarker at 0x7f226d6226a0>,\n",
       " <folium.vector_layers.CircleMarker at 0x7f226d6226d8>,\n",
       " <folium.vector_layers.CircleMarker at 0x7f226d622710>,\n",
       " <folium.vector_layers.CircleMarker at 0x7f226d622748>,\n",
       " <folium.vector_layers.CircleMarker at 0x7f226d622780>,\n",
       " <folium.vector_layers.CircleMarker at 0x7f226d6227b8>,\n",
       " <folium.vector_layers.CircleMarker at 0x7f226d6227f0>,\n",
       " <folium.vector_layers.CircleMarker at 0x7f226d622828>,\n",
       " <folium.vector_layers.CircleMarker at 0x7f226d622860>,\n",
       " <folium.vector_layers.CircleMarker at 0x7f226d622898>,\n",
       " <folium.vector_layers.CircleMarker at 0x7f226d6228d0>,\n",
       " <folium.vector_layers.CircleMarker at 0x7f226d622908>,\n",
       " <folium.vector_layers.CircleMarker at 0x7f226d622940>,\n",
       " <folium.vector_layers.CircleMarker at 0x7f226d622978>,\n",
       " <folium.vector_layers.CircleMarker at 0x7f226d6229b0>,\n",
       " <folium.vector_layers.CircleMarker at 0x7f226d6229e8>,\n",
       " <folium.vector_layers.CircleMarker at 0x7f226d622a20>,\n",
       " <folium.vector_layers.CircleMarker at 0x7f226d622a58>,\n",
       " <folium.vector_layers.CircleMarker at 0x7f226d622a90>,\n",
       " <folium.vector_layers.CircleMarker at 0x7f226d622ac8>,\n",
       " <folium.vector_layers.CircleMarker at 0x7f226d622b00>,\n",
       " <folium.vector_layers.CircleMarker at 0x7f226d622b38>,\n",
       " <folium.vector_layers.CircleMarker at 0x7f226d622b70>,\n",
       " <folium.vector_layers.CircleMarker at 0x7f226d622ba8>,\n",
       " <folium.vector_layers.CircleMarker at 0x7f226d622be0>,\n",
       " <folium.vector_layers.CircleMarker at 0x7f226d622c18>,\n",
       " <folium.vector_layers.CircleMarker at 0x7f226d622c50>,\n",
       " <folium.vector_layers.CircleMarker at 0x7f226d622c88>,\n",
       " <folium.vector_layers.CircleMarker at 0x7f226d622cc0>,\n",
       " <folium.vector_layers.CircleMarker at 0x7f226d622cf8>,\n",
       " <folium.vector_layers.CircleMarker at 0x7f226d622d30>,\n",
       " <folium.vector_layers.CircleMarker at 0x7f226d622d68>,\n",
       " <folium.vector_layers.CircleMarker at 0x7f226d622da0>,\n",
       " <folium.vector_layers.CircleMarker at 0x7f226d622dd8>,\n",
       " <folium.vector_layers.CircleMarker at 0x7f226d622e10>,\n",
       " <folium.vector_layers.CircleMarker at 0x7f226d622e48>,\n",
       " <folium.vector_layers.CircleMarker at 0x7f226d622e80>,\n",
       " <folium.vector_layers.CircleMarker at 0x7f226d622eb8>,\n",
       " <folium.vector_layers.CircleMarker at 0x7f226d622ef0>,\n",
       " <folium.vector_layers.CircleMarker at 0x7f226d622f28>,\n",
       " <folium.vector_layers.CircleMarker at 0x7f226d622f60>,\n",
       " <folium.vector_layers.CircleMarker at 0x7f226d622f98>,\n",
       " <folium.vector_layers.CircleMarker at 0x7f226d622fd0>,\n",
       " <folium.vector_layers.CircleMarker at 0x7f226d622048>,\n",
       " <folium.vector_layers.CircleMarker at 0x7f226d631080>,\n",
       " <folium.vector_layers.CircleMarker at 0x7f226d6310b8>,\n",
       " <folium.vector_layers.CircleMarker at 0x7f226d6310f0>,\n",
       " <folium.vector_layers.CircleMarker at 0x7f226d631128>,\n",
       " <folium.vector_layers.CircleMarker at 0x7f226d631160>,\n",
       " <folium.vector_layers.CircleMarker at 0x7f226d631198>,\n",
       " <folium.vector_layers.CircleMarker at 0x7f226d6311d0>,\n",
       " <folium.vector_layers.CircleMarker at 0x7f226d631208>,\n",
       " <folium.vector_layers.CircleMarker at 0x7f226d631240>,\n",
       " <folium.vector_layers.CircleMarker at 0x7f226d631278>,\n",
       " <folium.vector_layers.CircleMarker at 0x7f226d6312b0>,\n",
       " <folium.vector_layers.CircleMarker at 0x7f226d6312e8>,\n",
       " <folium.vector_layers.CircleMarker at 0x7f226d631320>,\n",
       " <folium.vector_layers.CircleMarker at 0x7f226d631358>,\n",
       " <folium.vector_layers.CircleMarker at 0x7f226d631390>,\n",
       " <folium.vector_layers.CircleMarker at 0x7f226d6313c8>,\n",
       " <folium.vector_layers.CircleMarker at 0x7f226d631400>,\n",
       " <folium.vector_layers.CircleMarker at 0x7f226d631438>,\n",
       " <folium.vector_layers.CircleMarker at 0x7f226d631470>,\n",
       " <folium.vector_layers.CircleMarker at 0x7f226d6314a8>,\n",
       " <folium.vector_layers.CircleMarker at 0x7f226d6314e0>,\n",
       " <folium.vector_layers.CircleMarker at 0x7f226d631518>,\n",
       " <folium.vector_layers.CircleMarker at 0x7f226d631550>,\n",
       " <folium.vector_layers.CircleMarker at 0x7f226d631588>,\n",
       " <folium.vector_layers.CircleMarker at 0x7f226d6315c0>,\n",
       " <folium.vector_layers.CircleMarker at 0x7f226d6315f8>,\n",
       " <folium.vector_layers.CircleMarker at 0x7f226d631630>,\n",
       " <folium.vector_layers.CircleMarker at 0x7f226d631668>,\n",
       " <folium.vector_layers.CircleMarker at 0x7f226d6316a0>,\n",
       " <folium.vector_layers.CircleMarker at 0x7f226d6316d8>,\n",
       " <folium.vector_layers.CircleMarker at 0x7f226d631710>,\n",
       " <folium.vector_layers.CircleMarker at 0x7f226d631748>,\n",
       " <folium.vector_layers.CircleMarker at 0x7f226d631780>,\n",
       " <folium.vector_layers.CircleMarker at 0x7f226d6317b8>,\n",
       " <folium.vector_layers.CircleMarker at 0x7f226d6317f0>,\n",
       " <folium.vector_layers.CircleMarker at 0x7f226d631828>,\n",
       " <folium.vector_layers.CircleMarker at 0x7f226d631860>,\n",
       " <folium.vector_layers.CircleMarker at 0x7f226d631898>,\n",
       " <folium.vector_layers.CircleMarker at 0x7f226d6318d0>,\n",
       " <folium.vector_layers.CircleMarker at 0x7f226d631908>,\n",
       " <folium.vector_layers.CircleMarker at 0x7f226d631940>,\n",
       " <folium.vector_layers.CircleMarker at 0x7f226d631978>,\n",
       " <folium.vector_layers.CircleMarker at 0x7f226d6319b0>,\n",
       " <folium.vector_layers.CircleMarker at 0x7f226d6319e8>,\n",
       " <folium.vector_layers.CircleMarker at 0x7f226d631a20>,\n",
       " <folium.vector_layers.CircleMarker at 0x7f226d631a58>,\n",
       " <folium.vector_layers.CircleMarker at 0x7f226d631a90>,\n",
       " <folium.vector_layers.CircleMarker at 0x7f226d631ac8>,\n",
       " <folium.vector_layers.CircleMarker at 0x7f226d631b00>,\n",
       " <folium.vector_layers.CircleMarker at 0x7f226d631b38>,\n",
       " <folium.vector_layers.CircleMarker at 0x7f226d631b70>,\n",
       " <folium.vector_layers.CircleMarker at 0x7f226d631ba8>,\n",
       " <folium.vector_layers.CircleMarker at 0x7f226d631be0>,\n",
       " <folium.vector_layers.CircleMarker at 0x7f226d631c18>,\n",
       " <folium.vector_layers.CircleMarker at 0x7f226d631c50>,\n",
       " <folium.vector_layers.CircleMarker at 0x7f226d631c88>,\n",
       " <folium.vector_layers.CircleMarker at 0x7f226d631cc0>,\n",
       " <folium.vector_layers.CircleMarker at 0x7f226d631cf8>,\n",
       " <folium.vector_layers.CircleMarker at 0x7f226d631d30>,\n",
       " <folium.vector_layers.CircleMarker at 0x7f226d631d68>,\n",
       " <folium.vector_layers.CircleMarker at 0x7f226d631da0>,\n",
       " <folium.vector_layers.CircleMarker at 0x7f226d631dd8>,\n",
       " <folium.vector_layers.CircleMarker at 0x7f226d631e10>,\n",
       " <folium.vector_layers.CircleMarker at 0x7f226d631e48>,\n",
       " <folium.vector_layers.CircleMarker at 0x7f226d631e80>,\n",
       " <folium.vector_layers.CircleMarker at 0x7f226d631eb8>,\n",
       " <folium.vector_layers.CircleMarker at 0x7f226d631ef0>,\n",
       " <folium.vector_layers.CircleMarker at 0x7f226d631f28>,\n",
       " <folium.vector_layers.CircleMarker at 0x7f226d631f60>,\n",
       " <folium.vector_layers.CircleMarker at 0x7f226d631f98>,\n",
       " <folium.vector_layers.CircleMarker at 0x7f226d631fd0>,\n",
       " <folium.vector_layers.CircleMarker at 0x7f226d631048>,\n",
       " <folium.vector_layers.CircleMarker at 0x7f226d5be080>,\n",
       " <folium.vector_layers.CircleMarker at 0x7f226d5be0b8>,\n",
       " <folium.vector_layers.CircleMarker at 0x7f226d5be0f0>,\n",
       " <folium.vector_layers.CircleMarker at 0x7f226d5be128>,\n",
       " <folium.vector_layers.CircleMarker at 0x7f226d5be160>,\n",
       " <folium.vector_layers.CircleMarker at 0x7f226d5be198>,\n",
       " <folium.vector_layers.CircleMarker at 0x7f226d5be1d0>,\n",
       " <folium.vector_layers.CircleMarker at 0x7f226d5be208>,\n",
       " <folium.vector_layers.CircleMarker at 0x7f226d5be240>,\n",
       " <folium.vector_layers.CircleMarker at 0x7f226d5be278>,\n",
       " <folium.vector_layers.CircleMarker at 0x7f226d5be2b0>,\n",
       " <folium.vector_layers.CircleMarker at 0x7f226d5be2e8>,\n",
       " <folium.vector_layers.CircleMarker at 0x7f226d5be320>,\n",
       " <folium.vector_layers.CircleMarker at 0x7f226d5be358>,\n",
       " <folium.vector_layers.CircleMarker at 0x7f226d5be390>,\n",
       " <folium.vector_layers.CircleMarker at 0x7f226d5be3c8>,\n",
       " <folium.vector_layers.CircleMarker at 0x7f226d5be400>,\n",
       " <folium.vector_layers.CircleMarker at 0x7f226d5be438>,\n",
       " <folium.vector_layers.CircleMarker at 0x7f226d5be470>,\n",
       " <folium.vector_layers.CircleMarker at 0x7f226d5be4a8>,\n",
       " <folium.vector_layers.CircleMarker at 0x7f226d5be4e0>,\n",
       " <folium.vector_layers.CircleMarker at 0x7f226d5be518>,\n",
       " <folium.vector_layers.CircleMarker at 0x7f226d5be550>,\n",
       " <folium.vector_layers.CircleMarker at 0x7f226d5be588>,\n",
       " <folium.vector_layers.CircleMarker at 0x7f226d5be5c0>,\n",
       " <folium.vector_layers.CircleMarker at 0x7f226d5be5f8>,\n",
       " <folium.vector_layers.CircleMarker at 0x7f226d5be630>,\n",
       " <folium.vector_layers.CircleMarker at 0x7f226d5be668>,\n",
       " <folium.vector_layers.CircleMarker at 0x7f226d5be6a0>,\n",
       " <folium.vector_layers.CircleMarker at 0x7f226d5be6d8>,\n",
       " <folium.vector_layers.CircleMarker at 0x7f226d5be710>,\n",
       " <folium.vector_layers.CircleMarker at 0x7f226d5be748>,\n",
       " <folium.vector_layers.CircleMarker at 0x7f226d5be780>,\n",
       " <folium.vector_layers.CircleMarker at 0x7f226d5be7b8>,\n",
       " <folium.vector_layers.CircleMarker at 0x7f226d5be7f0>,\n",
       " <folium.vector_layers.CircleMarker at 0x7f226d5be828>,\n",
       " <folium.vector_layers.CircleMarker at 0x7f226d5be860>,\n",
       " <folium.vector_layers.CircleMarker at 0x7f226d5be898>,\n",
       " <folium.vector_layers.CircleMarker at 0x7f226d5be8d0>,\n",
       " <folium.vector_layers.CircleMarker at 0x7f226d5be908>,\n",
       " <folium.vector_layers.CircleMarker at 0x7f226d5be940>,\n",
       " <folium.vector_layers.CircleMarker at 0x7f226d5be978>,\n",
       " <folium.vector_layers.CircleMarker at 0x7f226d5be9b0>,\n",
       " <folium.vector_layers.CircleMarker at 0x7f226d5be9e8>,\n",
       " <folium.vector_layers.CircleMarker at 0x7f226d5bea20>,\n",
       " <folium.vector_layers.CircleMarker at 0x7f226d5bea58>,\n",
       " <folium.vector_layers.CircleMarker at 0x7f226d5bea90>,\n",
       " <folium.vector_layers.CircleMarker at 0x7f226d5beac8>,\n",
       " <folium.vector_layers.CircleMarker at 0x7f226d5beb00>,\n",
       " <folium.vector_layers.CircleMarker at 0x7f226d5beb38>,\n",
       " <folium.vector_layers.CircleMarker at 0x7f226d5beb70>,\n",
       " <folium.vector_layers.CircleMarker at 0x7f226d5beba8>,\n",
       " <folium.vector_layers.CircleMarker at 0x7f226d5bebe0>,\n",
       " <folium.vector_layers.CircleMarker at 0x7f226d5bec18>,\n",
       " <folium.vector_layers.CircleMarker at 0x7f226d5bec50>,\n",
       " <folium.vector_layers.CircleMarker at 0x7f226d5bec88>,\n",
       " <folium.vector_layers.CircleMarker at 0x7f226d5becc0>,\n",
       " <folium.vector_layers.CircleMarker at 0x7f226d5becf8>,\n",
       " <folium.vector_layers.CircleMarker at 0x7f226d5bed30>,\n",
       " <folium.vector_layers.CircleMarker at 0x7f226d5bed68>,\n",
       " <folium.vector_layers.CircleMarker at 0x7f226d5beda0>,\n",
       " <folium.vector_layers.CircleMarker at 0x7f226d5bedd8>,\n",
       " <folium.vector_layers.CircleMarker at 0x7f226d5bee10>,\n",
       " <folium.vector_layers.CircleMarker at 0x7f226d5bee48>,\n",
       " <folium.vector_layers.CircleMarker at 0x7f226d5bee80>,\n",
       " <folium.vector_layers.CircleMarker at 0x7f226d5beeb8>,\n",
       " <folium.vector_layers.CircleMarker at 0x7f226d5beef0>,\n",
       " <folium.vector_layers.CircleMarker at 0x7f226d5bef28>,\n",
       " <folium.vector_layers.CircleMarker at 0x7f226d5bef60>,\n",
       " <folium.vector_layers.CircleMarker at 0x7f226d5bef98>,\n",
       " <folium.vector_layers.CircleMarker at 0x7f226d5befd0>,\n",
       " <folium.vector_layers.CircleMarker at 0x7f226d5be048>,\n",
       " <folium.vector_layers.CircleMarker at 0x7f226d5cc080>,\n",
       " <folium.vector_layers.CircleMarker at 0x7f226d5cc0b8>,\n",
       " <folium.vector_layers.CircleMarker at 0x7f226d5cc0f0>,\n",
       " <folium.vector_layers.CircleMarker at 0x7f226d5cc128>,\n",
       " <folium.vector_layers.CircleMarker at 0x7f226d5cc160>,\n",
       " <folium.vector_layers.CircleMarker at 0x7f226d5cc198>,\n",
       " <folium.vector_layers.CircleMarker at 0x7f226d5cc1d0>,\n",
       " <folium.vector_layers.CircleMarker at 0x7f226d5cc208>,\n",
       " <folium.vector_layers.CircleMarker at 0x7f226d5cc240>,\n",
       " <folium.vector_layers.CircleMarker at 0x7f226d5cc278>,\n",
       " <folium.vector_layers.CircleMarker at 0x7f226d5cc2b0>,\n",
       " <folium.vector_layers.CircleMarker at 0x7f226d5cc2e8>,\n",
       " <folium.vector_layers.CircleMarker at 0x7f226d5cc320>,\n",
       " <folium.vector_layers.CircleMarker at 0x7f226d5cc358>,\n",
       " <folium.vector_layers.CircleMarker at 0x7f226d5cc390>,\n",
       " <folium.vector_layers.CircleMarker at 0x7f226d5cc3c8>,\n",
       " <folium.vector_layers.CircleMarker at 0x7f226d5cc400>,\n",
       " <folium.vector_layers.CircleMarker at 0x7f226d5cc438>,\n",
       " <folium.vector_layers.CircleMarker at 0x7f226d5cc470>,\n",
       " <folium.vector_layers.CircleMarker at 0x7f226d5cc4a8>,\n",
       " <folium.vector_layers.CircleMarker at 0x7f226d5cc4e0>,\n",
       " <folium.vector_layers.CircleMarker at 0x7f226d5cc518>,\n",
       " <folium.vector_layers.CircleMarker at 0x7f226d5cc550>,\n",
       " <folium.vector_layers.CircleMarker at 0x7f226d5cc588>,\n",
       " <folium.vector_layers.CircleMarker at 0x7f226d5cc5c0>,\n",
       " <folium.vector_layers.CircleMarker at 0x7f226d5cc5f8>,\n",
       " <folium.vector_layers.CircleMarker at 0x7f226d5cc630>,\n",
       " <folium.vector_layers.CircleMarker at 0x7f226d5cc668>,\n",
       " <folium.vector_layers.CircleMarker at 0x7f226d5cc6a0>,\n",
       " <folium.vector_layers.CircleMarker at 0x7f226d5cc6d8>,\n",
       " <folium.vector_layers.CircleMarker at 0x7f226d5cc710>,\n",
       " <folium.vector_layers.CircleMarker at 0x7f226d5cc748>,\n",
       " <folium.vector_layers.CircleMarker at 0x7f226d5cc780>,\n",
       " <folium.vector_layers.CircleMarker at 0x7f226d5cc7b8>,\n",
       " <folium.vector_layers.CircleMarker at 0x7f226d5cc7f0>,\n",
       " <folium.vector_layers.CircleMarker at 0x7f226d5cc828>,\n",
       " <folium.vector_layers.CircleMarker at 0x7f226d5cc860>,\n",
       " <folium.vector_layers.CircleMarker at 0x7f226d5cc898>,\n",
       " <folium.vector_layers.CircleMarker at 0x7f226d5cc8d0>,\n",
       " <folium.vector_layers.CircleMarker at 0x7f226d5cc908>,\n",
       " <folium.vector_layers.CircleMarker at 0x7f226d5cc940>,\n",
       " <folium.vector_layers.CircleMarker at 0x7f226d5cc978>,\n",
       " <folium.vector_layers.CircleMarker at 0x7f226d5cc9b0>,\n",
       " <folium.vector_layers.CircleMarker at 0x7f226d5cc9e8>,\n",
       " <folium.vector_layers.CircleMarker at 0x7f226d5cca20>,\n",
       " <folium.vector_layers.CircleMarker at 0x7f226d5cca58>,\n",
       " <folium.vector_layers.CircleMarker at 0x7f226d5cca90>,\n",
       " <folium.vector_layers.CircleMarker at 0x7f226d5ccac8>,\n",
       " <folium.vector_layers.CircleMarker at 0x7f226d5ccb00>,\n",
       " <folium.vector_layers.CircleMarker at 0x7f226d5ccb38>,\n",
       " <folium.vector_layers.CircleMarker at 0x7f226d5ccb70>,\n",
       " <folium.vector_layers.CircleMarker at 0x7f226d5ccba8>,\n",
       " <folium.vector_layers.CircleMarker at 0x7f226d5ccbe0>,\n",
       " <folium.vector_layers.CircleMarker at 0x7f226d5ccc18>,\n",
       " <folium.vector_layers.CircleMarker at 0x7f226d5ccc50>,\n",
       " <folium.vector_layers.CircleMarker at 0x7f226d5ccc88>,\n",
       " <folium.vector_layers.CircleMarker at 0x7f226d5cccc0>,\n",
       " <folium.vector_layers.CircleMarker at 0x7f226d5cccf8>,\n",
       " <folium.vector_layers.CircleMarker at 0x7f226d5ccd30>,\n",
       " <folium.vector_layers.CircleMarker at 0x7f226d5ccd68>,\n",
       " <folium.vector_layers.CircleMarker at 0x7f226d5ccda0>,\n",
       " <folium.vector_layers.CircleMarker at 0x7f226d5ccdd8>,\n",
       " <folium.vector_layers.CircleMarker at 0x7f226d5cce10>,\n",
       " <folium.vector_layers.CircleMarker at 0x7f226d5cce48>,\n",
       " <folium.vector_layers.CircleMarker at 0x7f226d5cce80>,\n",
       " <folium.vector_layers.CircleMarker at 0x7f226d5cceb8>,\n",
       " <folium.vector_layers.CircleMarker at 0x7f226d5ccef0>,\n",
       " <folium.vector_layers.CircleMarker at 0x7f226d5ccf28>,\n",
       " <folium.vector_layers.CircleMarker at 0x7f226d5ccf60>,\n",
       " <folium.vector_layers.CircleMarker at 0x7f226d5ccf98>,\n",
       " <folium.vector_layers.CircleMarker at 0x7f226d5ccfd0>,\n",
       " <folium.vector_layers.CircleMarker at 0x7f226d5cc048>,\n",
       " <folium.vector_layers.CircleMarker at 0x7f226d5d9080>,\n",
       " <folium.vector_layers.CircleMarker at 0x7f226d5d90b8>,\n",
       " <folium.vector_layers.CircleMarker at 0x7f226d5d90f0>,\n",
       " <folium.vector_layers.CircleMarker at 0x7f226d5d9128>,\n",
       " <folium.vector_layers.CircleMarker at 0x7f226d5d9160>,\n",
       " <folium.vector_layers.CircleMarker at 0x7f226d5d9198>,\n",
       " <folium.vector_layers.CircleMarker at 0x7f226d5d91d0>,\n",
       " <folium.vector_layers.CircleMarker at 0x7f226d5d9208>,\n",
       " <folium.vector_layers.CircleMarker at 0x7f226d5d9240>,\n",
       " <folium.vector_layers.CircleMarker at 0x7f226d5d9278>,\n",
       " <folium.vector_layers.CircleMarker at 0x7f226d5d92b0>,\n",
       " <folium.vector_layers.CircleMarker at 0x7f226d5d92e8>,\n",
       " <folium.vector_layers.CircleMarker at 0x7f226d5d9320>,\n",
       " <folium.vector_layers.CircleMarker at 0x7f226d5d9358>,\n",
       " <folium.vector_layers.CircleMarker at 0x7f226d5d9390>,\n",
       " <folium.vector_layers.CircleMarker at 0x7f226d5d93c8>,\n",
       " <folium.vector_layers.CircleMarker at 0x7f226d5d9400>,\n",
       " <folium.vector_layers.CircleMarker at 0x7f226d5d9438>,\n",
       " <folium.vector_layers.CircleMarker at 0x7f226d5d9470>,\n",
       " <folium.vector_layers.CircleMarker at 0x7f226d5d94a8>,\n",
       " <folium.vector_layers.CircleMarker at 0x7f226d5d94e0>,\n",
       " <folium.vector_layers.CircleMarker at 0x7f226d5d9518>,\n",
       " <folium.vector_layers.CircleMarker at 0x7f226d5d9550>,\n",
       " <folium.vector_layers.CircleMarker at 0x7f226d5d9588>,\n",
       " <folium.vector_layers.CircleMarker at 0x7f226d5d95c0>,\n",
       " <folium.vector_layers.CircleMarker at 0x7f226d5d95f8>,\n",
       " <folium.vector_layers.CircleMarker at 0x7f226d5d9630>,\n",
       " <folium.vector_layers.CircleMarker at 0x7f226d5d9668>,\n",
       " <folium.vector_layers.CircleMarker at 0x7f226d5d96a0>,\n",
       " <folium.vector_layers.CircleMarker at 0x7f226d5d96d8>,\n",
       " <folium.vector_layers.CircleMarker at 0x7f226d5d9710>,\n",
       " <folium.vector_layers.CircleMarker at 0x7f226d5d9748>,\n",
       " <folium.vector_layers.CircleMarker at 0x7f226d5d9780>,\n",
       " <folium.vector_layers.CircleMarker at 0x7f226d5d97b8>,\n",
       " <folium.vector_layers.CircleMarker at 0x7f226d5d97f0>,\n",
       " <folium.vector_layers.CircleMarker at 0x7f226d5d9828>,\n",
       " <folium.vector_layers.CircleMarker at 0x7f226d5d9860>,\n",
       " <folium.vector_layers.CircleMarker at 0x7f226d5d9898>,\n",
       " <folium.vector_layers.CircleMarker at 0x7f226d5d98d0>,\n",
       " <folium.vector_layers.CircleMarker at 0x7f226d5d9908>,\n",
       " <folium.vector_layers.CircleMarker at 0x7f226d5d9940>,\n",
       " <folium.vector_layers.CircleMarker at 0x7f226d5d9978>,\n",
       " <folium.vector_layers.CircleMarker at 0x7f226d5d99b0>,\n",
       " <folium.vector_layers.CircleMarker at 0x7f226d5d99e8>,\n",
       " <folium.vector_layers.CircleMarker at 0x7f226d5d9a20>,\n",
       " <folium.vector_layers.CircleMarker at 0x7f226d5d9a58>,\n",
       " <folium.vector_layers.CircleMarker at 0x7f226d5d9a90>,\n",
       " <folium.vector_layers.CircleMarker at 0x7f226d5d9ac8>,\n",
       " <folium.vector_layers.CircleMarker at 0x7f226d5d9b00>,\n",
       " <folium.vector_layers.CircleMarker at 0x7f226d5d9b38>,\n",
       " <folium.vector_layers.CircleMarker at 0x7f226d5d9b70>,\n",
       " <folium.vector_layers.CircleMarker at 0x7f226d5d9ba8>,\n",
       " <folium.vector_layers.CircleMarker at 0x7f226d5d9be0>,\n",
       " <folium.vector_layers.CircleMarker at 0x7f226d5d9c18>,\n",
       " <folium.vector_layers.CircleMarker at 0x7f226d5d9c50>,\n",
       " <folium.vector_layers.CircleMarker at 0x7f226d5d9c88>,\n",
       " <folium.vector_layers.CircleMarker at 0x7f226d5d9cc0>,\n",
       " <folium.vector_layers.CircleMarker at 0x7f226d5d9cf8>,\n",
       " <folium.vector_layers.CircleMarker at 0x7f226d5d9d30>,\n",
       " <folium.vector_layers.CircleMarker at 0x7f226d5d9d68>,\n",
       " <folium.vector_layers.CircleMarker at 0x7f226d5d9da0>,\n",
       " <folium.vector_layers.CircleMarker at 0x7f226d5d9dd8>,\n",
       " <folium.vector_layers.CircleMarker at 0x7f226d5d9e10>,\n",
       " <folium.vector_layers.CircleMarker at 0x7f226d5d9e48>,\n",
       " <folium.vector_layers.CircleMarker at 0x7f226d5d9e80>,\n",
       " <folium.vector_layers.CircleMarker at 0x7f226d5d9eb8>,\n",
       " <folium.vector_layers.CircleMarker at 0x7f226d5d9ef0>,\n",
       " <folium.vector_layers.CircleMarker at 0x7f226d5d9f28>,\n",
       " <folium.vector_layers.CircleMarker at 0x7f226d5d9f60>,\n",
       " <folium.vector_layers.CircleMarker at 0x7f226d5d9f98>,\n",
       " <folium.vector_layers.CircleMarker at 0x7f226d5d9fd0>,\n",
       " <folium.vector_layers.CircleMarker at 0x7f226d5d9048>,\n",
       " <folium.vector_layers.CircleMarker at 0x7f226d5e7080>,\n",
       " <folium.vector_layers.CircleMarker at 0x7f226d5e70b8>,\n",
       " <folium.vector_layers.CircleMarker at 0x7f226d5e70f0>,\n",
       " <folium.vector_layers.CircleMarker at 0x7f226d5e7128>,\n",
       " <folium.vector_layers.CircleMarker at 0x7f226d5e7160>,\n",
       " <folium.vector_layers.CircleMarker at 0x7f226d5e7198>,\n",
       " <folium.vector_layers.CircleMarker at 0x7f226d5e71d0>,\n",
       " <folium.vector_layers.CircleMarker at 0x7f226d5e7208>,\n",
       " <folium.vector_layers.CircleMarker at 0x7f226d5e7240>,\n",
       " <folium.vector_layers.CircleMarker at 0x7f226d5e7278>,\n",
       " <folium.vector_layers.CircleMarker at 0x7f226d5e72b0>,\n",
       " <folium.vector_layers.CircleMarker at 0x7f226d5e72e8>,\n",
       " <folium.vector_layers.CircleMarker at 0x7f226d5e7320>,\n",
       " <folium.vector_layers.CircleMarker at 0x7f226d5e7358>,\n",
       " <folium.vector_layers.CircleMarker at 0x7f226d5e7390>,\n",
       " <folium.vector_layers.CircleMarker at 0x7f226d5e73c8>,\n",
       " <folium.vector_layers.CircleMarker at 0x7f226d5e7400>,\n",
       " <folium.vector_layers.CircleMarker at 0x7f226d5e7438>,\n",
       " <folium.vector_layers.CircleMarker at 0x7f226d5e7470>,\n",
       " <folium.vector_layers.CircleMarker at 0x7f226d5e74a8>,\n",
       " <folium.vector_layers.CircleMarker at 0x7f226d5e74e0>,\n",
       " <folium.vector_layers.CircleMarker at 0x7f226d5e7518>,\n",
       " <folium.vector_layers.CircleMarker at 0x7f226d5e7550>,\n",
       " <folium.vector_layers.CircleMarker at 0x7f226d5e7588>,\n",
       " <folium.vector_layers.CircleMarker at 0x7f226d5e75c0>,\n",
       " <folium.vector_layers.CircleMarker at 0x7f226d5e75f8>,\n",
       " <folium.vector_layers.CircleMarker at 0x7f226d5e7630>,\n",
       " <folium.vector_layers.CircleMarker at 0x7f226d5e7668>,\n",
       " <folium.vector_layers.CircleMarker at 0x7f226d5e76a0>,\n",
       " <folium.vector_layers.CircleMarker at 0x7f226d5e76d8>,\n",
       " <folium.vector_layers.CircleMarker at 0x7f226d5e7710>,\n",
       " <folium.vector_layers.CircleMarker at 0x7f226d5e7748>,\n",
       " <folium.vector_layers.CircleMarker at 0x7f226d5e7780>,\n",
       " <folium.vector_layers.CircleMarker at 0x7f226d5e77b8>,\n",
       " <folium.vector_layers.CircleMarker at 0x7f226d5e77f0>,\n",
       " <folium.vector_layers.CircleMarker at 0x7f226d5e7828>,\n",
       " <folium.vector_layers.CircleMarker at 0x7f226d5e7860>,\n",
       " <folium.vector_layers.CircleMarker at 0x7f226d5e7898>,\n",
       " <folium.vector_layers.CircleMarker at 0x7f226d5e78d0>,\n",
       " <folium.vector_layers.CircleMarker at 0x7f226d5e7908>,\n",
       " <folium.vector_layers.CircleMarker at 0x7f226d5e7940>,\n",
       " <folium.vector_layers.CircleMarker at 0x7f226d5e7978>,\n",
       " <folium.vector_layers.CircleMarker at 0x7f226d5e79b0>,\n",
       " <folium.vector_layers.CircleMarker at 0x7f226d5e79e8>,\n",
       " <folium.vector_layers.CircleMarker at 0x7f226d5e7a20>,\n",
       " <folium.vector_layers.CircleMarker at 0x7f226d5e7a58>,\n",
       " <folium.vector_layers.CircleMarker at 0x7f226d5e7a90>,\n",
       " <folium.vector_layers.CircleMarker at 0x7f226d5e7ac8>,\n",
       " <folium.vector_layers.CircleMarker at 0x7f226d5e7b00>,\n",
       " <folium.vector_layers.CircleMarker at 0x7f226d5e7b38>,\n",
       " <folium.vector_layers.CircleMarker at 0x7f226d5e7b70>,\n",
       " <folium.vector_layers.CircleMarker at 0x7f226d5e7ba8>,\n",
       " <folium.vector_layers.CircleMarker at 0x7f226d5e7be0>,\n",
       " <folium.vector_layers.CircleMarker at 0x7f226d5e7c18>,\n",
       " <folium.vector_layers.CircleMarker at 0x7f226d5e7c50>,\n",
       " <folium.vector_layers.CircleMarker at 0x7f226d5e7c88>,\n",
       " <folium.vector_layers.CircleMarker at 0x7f226d5e7cc0>,\n",
       " <folium.vector_layers.CircleMarker at 0x7f226d5e7cf8>,\n",
       " <folium.vector_layers.CircleMarker at 0x7f226d5e7d30>,\n",
       " <folium.vector_layers.CircleMarker at 0x7f226d5e7d68>,\n",
       " <folium.vector_layers.CircleMarker at 0x7f226d5e7da0>,\n",
       " <folium.vector_layers.CircleMarker at 0x7f226d5e7dd8>,\n",
       " <folium.vector_layers.CircleMarker at 0x7f226d5e7e10>,\n",
       " <folium.vector_layers.CircleMarker at 0x7f226d5e7e48>,\n",
       " <folium.vector_layers.CircleMarker at 0x7f226d5e7e80>,\n",
       " <folium.vector_layers.CircleMarker at 0x7f226d5e7eb8>,\n",
       " <folium.vector_layers.CircleMarker at 0x7f226d5e7ef0>,\n",
       " <folium.vector_layers.CircleMarker at 0x7f226d5e7f28>,\n",
       " <folium.vector_layers.CircleMarker at 0x7f226d5e7f60>,\n",
       " <folium.vector_layers.CircleMarker at 0x7f226d5e7f98>,\n",
       " <folium.vector_layers.CircleMarker at 0x7f226d5e7fd0>,\n",
       " <folium.vector_layers.CircleMarker at 0x7f226d5e7048>,\n",
       " <folium.vector_layers.CircleMarker at 0x7f226d5f5080>,\n",
       " <folium.vector_layers.CircleMarker at 0x7f226d5f50b8>,\n",
       " <folium.vector_layers.CircleMarker at 0x7f226d5f50f0>,\n",
       " <folium.vector_layers.CircleMarker at 0x7f226d5f5128>,\n",
       " <folium.vector_layers.CircleMarker at 0x7f226d5f5160>,\n",
       " <folium.vector_layers.CircleMarker at 0x7f226d5f5198>,\n",
       " <folium.vector_layers.CircleMarker at 0x7f226d5f51d0>,\n",
       " <folium.vector_layers.CircleMarker at 0x7f226d5f5208>,\n",
       " <folium.vector_layers.CircleMarker at 0x7f226d5f5240>,\n",
       " <folium.vector_layers.CircleMarker at 0x7f226d5f5278>,\n",
       " <folium.vector_layers.CircleMarker at 0x7f226d5f52b0>,\n",
       " <folium.vector_layers.CircleMarker at 0x7f226d5f52e8>,\n",
       " <folium.vector_layers.CircleMarker at 0x7f226d5f5320>,\n",
       " <folium.vector_layers.CircleMarker at 0x7f226d5f5358>,\n",
       " <folium.vector_layers.CircleMarker at 0x7f226d5f5390>,\n",
       " <folium.vector_layers.CircleMarker at 0x7f226d5f53c8>,\n",
       " <folium.vector_layers.CircleMarker at 0x7f226d5f5400>,\n",
       " <folium.vector_layers.CircleMarker at 0x7f226d5f5438>,\n",
       " <folium.vector_layers.CircleMarker at 0x7f226d5f5470>,\n",
       " <folium.vector_layers.CircleMarker at 0x7f226d5f54a8>,\n",
       " <folium.vector_layers.CircleMarker at 0x7f226d5f54e0>,\n",
       " <folium.vector_layers.CircleMarker at 0x7f226d5f5518>,\n",
       " <folium.vector_layers.CircleMarker at 0x7f226d5f5550>,\n",
       " <folium.vector_layers.CircleMarker at 0x7f226d5f5588>,\n",
       " <folium.vector_layers.CircleMarker at 0x7f226d5f55c0>,\n",
       " <folium.vector_layers.CircleMarker at 0x7f226d5f55f8>,\n",
       " <folium.vector_layers.CircleMarker at 0x7f226d5f5630>,\n",
       " <folium.vector_layers.CircleMarker at 0x7f226d5f5668>,\n",
       " <folium.vector_layers.CircleMarker at 0x7f226d5f56a0>,\n",
       " <folium.vector_layers.CircleMarker at 0x7f226d5f56d8>,\n",
       " <folium.vector_layers.CircleMarker at 0x7f226d5f5710>,\n",
       " <folium.vector_layers.CircleMarker at 0x7f226d5f5748>,\n",
       " <folium.vector_layers.CircleMarker at 0x7f226d5f5780>,\n",
       " <folium.vector_layers.CircleMarker at 0x7f226d5f57b8>,\n",
       " <folium.vector_layers.CircleMarker at 0x7f226d5f57f0>,\n",
       " <folium.vector_layers.CircleMarker at 0x7f226d5f5828>,\n",
       " <folium.vector_layers.CircleMarker at 0x7f226d5f5860>,\n",
       " <folium.vector_layers.CircleMarker at 0x7f226d5f5898>,\n",
       " <folium.vector_layers.CircleMarker at 0x7f226d5f58d0>,\n",
       " <folium.vector_layers.CircleMarker at 0x7f226d5f5908>,\n",
       " <folium.vector_layers.CircleMarker at 0x7f226d5f5940>,\n",
       " <folium.vector_layers.CircleMarker at 0x7f226d5f5978>,\n",
       " <folium.vector_layers.CircleMarker at 0x7f226d5f59b0>,\n",
       " <folium.vector_layers.CircleMarker at 0x7f226d5f59e8>,\n",
       " <folium.vector_layers.CircleMarker at 0x7f226d5f5a20>,\n",
       " <folium.vector_layers.CircleMarker at 0x7f226d5f5a58>,\n",
       " <folium.vector_layers.CircleMarker at 0x7f226d5f5a90>,\n",
       " <folium.vector_layers.CircleMarker at 0x7f226d5f5ac8>,\n",
       " <folium.vector_layers.CircleMarker at 0x7f226d5f5b00>,\n",
       " <folium.vector_layers.CircleMarker at 0x7f226d5f5b38>,\n",
       " <folium.vector_layers.CircleMarker at 0x7f226d5f5b70>,\n",
       " <folium.vector_layers.CircleMarker at 0x7f226d5f5ba8>,\n",
       " <folium.vector_layers.CircleMarker at 0x7f226d5f5be0>,\n",
       " <folium.vector_layers.CircleMarker at 0x7f226d5f5c18>,\n",
       " <folium.vector_layers.CircleMarker at 0x7f226d5f5c50>,\n",
       " <folium.vector_layers.CircleMarker at 0x7f226d5f5c88>,\n",
       " <folium.vector_layers.CircleMarker at 0x7f226d5f5cc0>,\n",
       " <folium.vector_layers.CircleMarker at 0x7f226d5f5cf8>,\n",
       " <folium.vector_layers.CircleMarker at 0x7f226d5f5d30>,\n",
       " <folium.vector_layers.CircleMarker at 0x7f226d5f5d68>,\n",
       " <folium.vector_layers.CircleMarker at 0x7f226d5f5da0>,\n",
       " <folium.vector_layers.CircleMarker at 0x7f226d5f5dd8>,\n",
       " <folium.vector_layers.CircleMarker at 0x7f226d5f5e10>,\n",
       " <folium.vector_layers.CircleMarker at 0x7f226d5f5e48>,\n",
       " <folium.vector_layers.CircleMarker at 0x7f226d5f5e80>,\n",
       " <folium.vector_layers.CircleMarker at 0x7f226d5f5eb8>,\n",
       " <folium.vector_layers.CircleMarker at 0x7f226d5f5ef0>,\n",
       " <folium.vector_layers.CircleMarker at 0x7f226d5f5f28>,\n",
       " <folium.vector_layers.CircleMarker at 0x7f226d5f5f60>,\n",
       " <folium.vector_layers.CircleMarker at 0x7f226d5f5f98>,\n",
       " <folium.vector_layers.CircleMarker at 0x7f226d5f5fd0>,\n",
       " <folium.vector_layers.CircleMarker at 0x7f226d5f5048>,\n",
       " <folium.vector_layers.CircleMarker at 0x7f226d583080>,\n",
       " <folium.vector_layers.CircleMarker at 0x7f226d5830b8>,\n",
       " <folium.vector_layers.CircleMarker at 0x7f226d5830f0>,\n",
       " <folium.vector_layers.CircleMarker at 0x7f226d583128>,\n",
       " <folium.vector_layers.CircleMarker at 0x7f226d583160>,\n",
       " <folium.vector_layers.CircleMarker at 0x7f226d583198>,\n",
       " <folium.vector_layers.CircleMarker at 0x7f226d5831d0>,\n",
       " <folium.vector_layers.CircleMarker at 0x7f226d583208>,\n",
       " <folium.vector_layers.CircleMarker at 0x7f226d583240>,\n",
       " <folium.vector_layers.CircleMarker at 0x7f226d583278>,\n",
       " <folium.vector_layers.CircleMarker at 0x7f226d5832b0>,\n",
       " <folium.vector_layers.CircleMarker at 0x7f226d5832e8>,\n",
       " <folium.vector_layers.CircleMarker at 0x7f226d583320>,\n",
       " <folium.vector_layers.CircleMarker at 0x7f226d583358>,\n",
       " <folium.vector_layers.CircleMarker at 0x7f226d583390>,\n",
       " <folium.vector_layers.CircleMarker at 0x7f226d5833c8>,\n",
       " <folium.vector_layers.CircleMarker at 0x7f226d583400>,\n",
       " <folium.vector_layers.CircleMarker at 0x7f226d583438>,\n",
       " <folium.vector_layers.CircleMarker at 0x7f226d583470>,\n",
       " <folium.vector_layers.CircleMarker at 0x7f226d5834a8>,\n",
       " <folium.vector_layers.CircleMarker at 0x7f226d5834e0>,\n",
       " <folium.vector_layers.CircleMarker at 0x7f226d583518>,\n",
       " <folium.vector_layers.CircleMarker at 0x7f226d583550>,\n",
       " <folium.vector_layers.CircleMarker at 0x7f226d583588>,\n",
       " <folium.vector_layers.CircleMarker at 0x7f226d5835c0>,\n",
       " <folium.vector_layers.CircleMarker at 0x7f226d5835f8>,\n",
       " <folium.vector_layers.CircleMarker at 0x7f226d583630>,\n",
       " <folium.vector_layers.CircleMarker at 0x7f226d583668>,\n",
       " <folium.vector_layers.CircleMarker at 0x7f226d5836a0>,\n",
       " <folium.vector_layers.CircleMarker at 0x7f226d5836d8>,\n",
       " <folium.vector_layers.CircleMarker at 0x7f226d583710>,\n",
       " <folium.vector_layers.CircleMarker at 0x7f226d583748>,\n",
       " <folium.vector_layers.CircleMarker at 0x7f226d583780>,\n",
       " <folium.vector_layers.CircleMarker at 0x7f226d5837b8>,\n",
       " <folium.vector_layers.CircleMarker at 0x7f226d5837f0>,\n",
       " <folium.vector_layers.CircleMarker at 0x7f226d583828>,\n",
       " <folium.vector_layers.CircleMarker at 0x7f226d583860>,\n",
       " <folium.vector_layers.CircleMarker at 0x7f226d583898>,\n",
       " <folium.vector_layers.CircleMarker at 0x7f226d5838d0>,\n",
       " <folium.vector_layers.CircleMarker at 0x7f226d583908>,\n",
       " <folium.vector_layers.CircleMarker at 0x7f226d583940>,\n",
       " <folium.vector_layers.CircleMarker at 0x7f226d583978>,\n",
       " <folium.vector_layers.CircleMarker at 0x7f226d5839b0>,\n",
       " <folium.vector_layers.CircleMarker at 0x7f226d5839e8>,\n",
       " <folium.vector_layers.CircleMarker at 0x7f226d583a20>,\n",
       " <folium.vector_layers.CircleMarker at 0x7f226d583a58>,\n",
       " <folium.vector_layers.CircleMarker at 0x7f226d583a90>,\n",
       " <folium.vector_layers.CircleMarker at 0x7f226d583ac8>,\n",
       " <folium.vector_layers.CircleMarker at 0x7f226d583b00>,\n",
       " <folium.vector_layers.CircleMarker at 0x7f226d583b38>,\n",
       " <folium.vector_layers.CircleMarker at 0x7f226d583b70>,\n",
       " <folium.vector_layers.CircleMarker at 0x7f226d583ba8>,\n",
       " <folium.vector_layers.CircleMarker at 0x7f226d583be0>,\n",
       " <folium.vector_layers.CircleMarker at 0x7f226d583c18>,\n",
       " <folium.vector_layers.CircleMarker at 0x7f226d583c50>,\n",
       " <folium.vector_layers.CircleMarker at 0x7f226d583c88>,\n",
       " <folium.vector_layers.CircleMarker at 0x7f226d583cc0>,\n",
       " <folium.vector_layers.CircleMarker at 0x7f226d583cf8>,\n",
       " <folium.vector_layers.CircleMarker at 0x7f226d583d30>,\n",
       " <folium.vector_layers.CircleMarker at 0x7f226d583d68>,\n",
       " <folium.vector_layers.CircleMarker at 0x7f226d583da0>,\n",
       " <folium.vector_layers.CircleMarker at 0x7f226d583dd8>,\n",
       " <folium.vector_layers.CircleMarker at 0x7f226d583e10>,\n",
       " <folium.vector_layers.CircleMarker at 0x7f226d583e48>,\n",
       " <folium.vector_layers.CircleMarker at 0x7f226d583e80>,\n",
       " <folium.vector_layers.CircleMarker at 0x7f226d583eb8>,\n",
       " <folium.vector_layers.CircleMarker at 0x7f226d583ef0>,\n",
       " <folium.vector_layers.CircleMarker at 0x7f226d583f28>,\n",
       " <folium.vector_layers.CircleMarker at 0x7f226d583f60>,\n",
       " <folium.vector_layers.CircleMarker at 0x7f226d583f98>,\n",
       " <folium.vector_layers.CircleMarker at 0x7f226d583fd0>,\n",
       " <folium.vector_layers.CircleMarker at 0x7f226d583048>,\n",
       " <folium.vector_layers.CircleMarker at 0x7f226d591080>,\n",
       " <folium.vector_layers.CircleMarker at 0x7f226d5910b8>,\n",
       " <folium.vector_layers.CircleMarker at 0x7f226d5910f0>,\n",
       " <folium.vector_layers.CircleMarker at 0x7f226d591128>,\n",
       " <folium.vector_layers.CircleMarker at 0x7f226d591160>,\n",
       " <folium.vector_layers.CircleMarker at 0x7f226d591198>,\n",
       " <folium.vector_layers.CircleMarker at 0x7f226d5911d0>,\n",
       " <folium.vector_layers.CircleMarker at 0x7f226d591208>,\n",
       " <folium.vector_layers.CircleMarker at 0x7f226d591240>,\n",
       " <folium.vector_layers.CircleMarker at 0x7f226d591278>,\n",
       " <folium.vector_layers.CircleMarker at 0x7f226d5912b0>,\n",
       " <folium.vector_layers.CircleMarker at 0x7f226d5912e8>,\n",
       " <folium.vector_layers.CircleMarker at 0x7f226d591320>,\n",
       " <folium.vector_layers.CircleMarker at 0x7f226d591358>,\n",
       " <folium.vector_layers.CircleMarker at 0x7f226d591390>,\n",
       " <folium.vector_layers.CircleMarker at 0x7f226d5913c8>,\n",
       " <folium.vector_layers.CircleMarker at 0x7f226d591400>,\n",
       " <folium.vector_layers.CircleMarker at 0x7f226d591438>,\n",
       " <folium.vector_layers.CircleMarker at 0x7f226d591470>,\n",
       " <folium.vector_layers.CircleMarker at 0x7f226d5914a8>,\n",
       " <folium.vector_layers.CircleMarker at 0x7f226d5914e0>,\n",
       " <folium.vector_layers.CircleMarker at 0x7f226d591518>,\n",
       " <folium.vector_layers.CircleMarker at 0x7f226d591550>,\n",
       " <folium.vector_layers.CircleMarker at 0x7f226d591588>,\n",
       " <folium.vector_layers.CircleMarker at 0x7f226d5915c0>,\n",
       " <folium.vector_layers.CircleMarker at 0x7f226d5915f8>,\n",
       " <folium.vector_layers.CircleMarker at 0x7f226d591630>,\n",
       " <folium.vector_layers.CircleMarker at 0x7f226d591668>,\n",
       " <folium.vector_layers.CircleMarker at 0x7f226d5916a0>,\n",
       " <folium.vector_layers.CircleMarker at 0x7f226d5916d8>,\n",
       " <folium.vector_layers.CircleMarker at 0x7f226d591710>,\n",
       " <folium.vector_layers.CircleMarker at 0x7f226d591748>,\n",
       " <folium.vector_layers.CircleMarker at 0x7f226d591780>,\n",
       " <folium.vector_layers.CircleMarker at 0x7f226d5917b8>,\n",
       " <folium.vector_layers.CircleMarker at 0x7f226d5917f0>,\n",
       " <folium.vector_layers.CircleMarker at 0x7f226d591828>,\n",
       " <folium.vector_layers.CircleMarker at 0x7f226d591860>,\n",
       " <folium.vector_layers.CircleMarker at 0x7f226d591898>,\n",
       " <folium.vector_layers.CircleMarker at 0x7f226d5918d0>,\n",
       " <folium.vector_layers.CircleMarker at 0x7f226d591908>,\n",
       " <folium.vector_layers.CircleMarker at 0x7f226d591940>,\n",
       " <folium.vector_layers.CircleMarker at 0x7f226d591978>,\n",
       " <folium.vector_layers.CircleMarker at 0x7f226d5919b0>,\n",
       " <folium.vector_layers.CircleMarker at 0x7f226d5919e8>,\n",
       " <folium.vector_layers.CircleMarker at 0x7f226d591a20>,\n",
       " <folium.vector_layers.CircleMarker at 0x7f226d591a58>,\n",
       " <folium.vector_layers.CircleMarker at 0x7f226d591a90>,\n",
       " <folium.vector_layers.CircleMarker at 0x7f226d591ac8>,\n",
       " <folium.vector_layers.CircleMarker at 0x7f226d591b00>,\n",
       " <folium.vector_layers.CircleMarker at 0x7f226d591b38>,\n",
       " <folium.vector_layers.CircleMarker at 0x7f226d591b70>,\n",
       " <folium.vector_layers.CircleMarker at 0x7f226d591ba8>,\n",
       " <folium.vector_layers.CircleMarker at 0x7f226d591be0>,\n",
       " <folium.vector_layers.CircleMarker at 0x7f226d591c18>,\n",
       " <folium.vector_layers.CircleMarker at 0x7f226d591c50>,\n",
       " <folium.vector_layers.CircleMarker at 0x7f226d591c88>,\n",
       " <folium.vector_layers.CircleMarker at 0x7f226d591cc0>,\n",
       " <folium.vector_layers.CircleMarker at 0x7f226d591cf8>,\n",
       " <folium.vector_layers.CircleMarker at 0x7f226d591d30>,\n",
       " <folium.vector_layers.CircleMarker at 0x7f226d591d68>,\n",
       " <folium.vector_layers.CircleMarker at 0x7f226d591da0>,\n",
       " <folium.vector_layers.CircleMarker at 0x7f226d591dd8>,\n",
       " <folium.vector_layers.CircleMarker at 0x7f226d591e10>,\n",
       " <folium.vector_layers.CircleMarker at 0x7f226d591e48>,\n",
       " <folium.vector_layers.CircleMarker at 0x7f226d591e80>,\n",
       " <folium.vector_layers.CircleMarker at 0x7f226d591eb8>,\n",
       " <folium.vector_layers.CircleMarker at 0x7f226d591ef0>,\n",
       " <folium.vector_layers.CircleMarker at 0x7f226d591f28>,\n",
       " <folium.vector_layers.CircleMarker at 0x7f226d591f60>,\n",
       " <folium.vector_layers.CircleMarker at 0x7f226d591f98>,\n",
       " <folium.vector_layers.CircleMarker at 0x7f226d591fd0>]"
      ]
     },
     "execution_count": 141,
     "metadata": {},
     "output_type": "execute_result"
    }
   ],
   "source": [
    "trip_markers = markers_from_trips(cleaned_trips)\n",
    "trip_markers"
   ]
  },
  {
   "cell_type": "code",
   "execution_count": 135,
   "metadata": {},
   "outputs": [
    {
     "data": {
      "text/plain": [
       "[{'trip_distance': 18.38,\n",
       "  'pickup_latitude': 40.64499,\n",
       "  'pickup_longitude': -73.78115},\n",
       " {'trip_distance': 1.3,\n",
       "  'pickup_latitude': 40.766931,\n",
       "  'pickup_longitude': -73.982098},\n",
       " {'trip_distance': 4.5,\n",
       "  'pickup_latitude': 40.77773,\n",
       "  'pickup_longitude': -73.951902},\n",
       " {'trip_distance': 2.4,\n",
       "  'pickup_latitude': 40.795678,\n",
       "  'pickup_longitude': -73.971049}]"
      ]
     },
     "execution_count": 135,
     "metadata": {},
     "output_type": "execute_result"
    }
   ],
   "source": [
    "cleaned_trips[0:4]"
   ]
  },
  {
   "cell_type": "code",
   "execution_count": 127,
   "metadata": {},
   "outputs": [
    {
     "ename": "AttributeError",
     "evalue": "'function' object has no attribute 'location'",
     "output_type": "error",
     "traceback": [
      "\u001b[0;31m\u001b[0m",
      "\u001b[0;31mAttributeError\u001b[0mTraceback (most recent call last)",
      "\u001b[0;32m<ipython-input-127-26f67db15327>\u001b[0m in \u001b[0;36m<module>\u001b[0;34m\u001b[0m\n\u001b[1;32m      1\u001b[0m \u001b[0mtrip_markers\u001b[0m \u001b[0;32mand\u001b[0m \u001b[0mlen\u001b[0m\u001b[0;34m(\u001b[0m\u001b[0mtrip_markers\u001b[0m\u001b[0;34m)\u001b[0m \u001b[0;31m# 1000\u001b[0m\u001b[0;34m\u001b[0m\u001b[0;34m\u001b[0m\u001b[0m\n\u001b[1;32m      2\u001b[0m \u001b[0;34m\u001b[0m\u001b[0m\n\u001b[0;32m----> 3\u001b[0;31m \u001b[0mlist\u001b[0m\u001b[0;34m(\u001b[0m\u001b[0mmap\u001b[0m\u001b[0;34m(\u001b[0m\u001b[0;32mlambda\u001b[0m \u001b[0mmarker\u001b[0m\u001b[0;34m:\u001b[0m \u001b[0mmarker\u001b[0m\u001b[0;34m.\u001b[0m\u001b[0mlocation\u001b[0m\u001b[0;34m,\u001b[0m \u001b[0mtrip_markers\u001b[0m\u001b[0;34m[\u001b[0m\u001b[0;36m0\u001b[0m\u001b[0;34m:\u001b[0m\u001b[0;36m4\u001b[0m\u001b[0;34m]\u001b[0m\u001b[0;34m)\u001b[0m\u001b[0;34m)\u001b[0m\u001b[0;34m\u001b[0m\u001b[0;34m\u001b[0m\u001b[0m\n\u001b[0m\u001b[1;32m      4\u001b[0m \u001b[0;31m# [[40.64499, -73.78115],\u001b[0m\u001b[0;34m\u001b[0m\u001b[0;34m\u001b[0m\u001b[0;34m\u001b[0m\u001b[0m\n\u001b[1;32m      5\u001b[0m \u001b[0;31m#  [40.766931, -73.982098],\u001b[0m\u001b[0;34m\u001b[0m\u001b[0;34m\u001b[0m\u001b[0;34m\u001b[0m\u001b[0m\n",
      "\u001b[0;32m<ipython-input-127-26f67db15327>\u001b[0m in \u001b[0;36m<lambda>\u001b[0;34m(marker)\u001b[0m\n\u001b[1;32m      1\u001b[0m \u001b[0mtrip_markers\u001b[0m \u001b[0;32mand\u001b[0m \u001b[0mlen\u001b[0m\u001b[0;34m(\u001b[0m\u001b[0mtrip_markers\u001b[0m\u001b[0;34m)\u001b[0m \u001b[0;31m# 1000\u001b[0m\u001b[0;34m\u001b[0m\u001b[0;34m\u001b[0m\u001b[0m\n\u001b[1;32m      2\u001b[0m \u001b[0;34m\u001b[0m\u001b[0m\n\u001b[0;32m----> 3\u001b[0;31m \u001b[0mlist\u001b[0m\u001b[0;34m(\u001b[0m\u001b[0mmap\u001b[0m\u001b[0;34m(\u001b[0m\u001b[0;32mlambda\u001b[0m \u001b[0mmarker\u001b[0m\u001b[0;34m:\u001b[0m \u001b[0mmarker\u001b[0m\u001b[0;34m.\u001b[0m\u001b[0mlocation\u001b[0m\u001b[0;34m,\u001b[0m \u001b[0mtrip_markers\u001b[0m\u001b[0;34m[\u001b[0m\u001b[0;36m0\u001b[0m\u001b[0;34m:\u001b[0m\u001b[0;36m4\u001b[0m\u001b[0;34m]\u001b[0m\u001b[0;34m)\u001b[0m\u001b[0;34m)\u001b[0m\u001b[0;34m\u001b[0m\u001b[0;34m\u001b[0m\u001b[0m\n\u001b[0m\u001b[1;32m      4\u001b[0m \u001b[0;31m# [[40.64499, -73.78115],\u001b[0m\u001b[0;34m\u001b[0m\u001b[0;34m\u001b[0m\u001b[0;34m\u001b[0m\u001b[0m\n\u001b[1;32m      5\u001b[0m \u001b[0;31m#  [40.766931, -73.982098],\u001b[0m\u001b[0;34m\u001b[0m\u001b[0;34m\u001b[0m\u001b[0;34m\u001b[0m\u001b[0m\n",
      "\u001b[0;31mAttributeError\u001b[0m: 'function' object has no attribute 'location'"
     ]
    }
   ],
   "source": [
    "trip_markers and len(trip_markers) # 1000\n",
    "\n",
    "list(map(lambda marker: marker.location, trip_markers[0:4]))\n",
    "# [[40.64499, -73.78115],\n",
    "#  [40.766931, -73.982098],\n",
    "#  [40.77773, -73.951902],\n",
    "#  [40.795678, -73.971049]]"
   ]
  },
  {
   "cell_type": "markdown",
   "metadata": {},
   "source": [
    "Ok, now that we have a function that creates locations, and a function that creates markers, it is time to write a function to plot a map. \n",
    "\n",
    "Write a function called `map_from` that, provided the first argument of a list location and second argument an integer representing the `zoom_start`, returns a `folium` map the corresponding location and `zoom_start` attributes.\n",
    "\n",
    "> Hint: The following is how to write a map with folium:\n",
    "> ```python \n",
    "    folium.Map(location=location, zoom_start=zoom_amount)\n",
    "> ```"
   ]
  },
  {
   "cell_type": "code",
   "execution_count": null,
   "metadata": {},
   "outputs": [],
   "source": [
    "def map_from(location, zoom_amount):\n",
    "    pass"
   ]
  },
  {
   "cell_type": "code",
   "execution_count": null,
   "metadata": {},
   "outputs": [],
   "source": [
    "times_square_map = map_from([40.7589, -73.9851], 15)\n",
    "times_square_map and times_square_map.location # [40.7589, -73.9851]\n",
    "times_square_map and times_square_map.zoom_start # 15"
   ]
  },
  {
   "cell_type": "code",
   "execution_count": null,
   "metadata": {
    "scrolled": true
   },
   "outputs": [],
   "source": [
    "times_square_marker and times_square_marker.add_to(times_square_map)\n",
    "times_square_map"
   ]
  },
  {
   "cell_type": "markdown",
   "metadata": {},
   "source": [
    "Now that we have a marker and a map, now let's write a function that adds a lot of markers to a map.  This function should add each marker in the list to the map object then return the updated map object."
   ]
  },
  {
   "cell_type": "code",
   "execution_count": null,
   "metadata": {},
   "outputs": [],
   "source": [
    "manhattan_map = map_from([40.7589, -73.9851], 13)"
   ]
  },
  {
   "cell_type": "code",
   "execution_count": null,
   "metadata": {},
   "outputs": [],
   "source": [
    "def add_markers(markers, map_obj):\n",
    "    pass"
   ]
  },
  {
   "cell_type": "code",
   "execution_count": null,
   "metadata": {
    "scrolled": false
   },
   "outputs": [],
   "source": [
    "map_with_markers = add_markers(trip_markers, manhattan_map)"
   ]
  },
  {
   "cell_type": "code",
   "execution_count": null,
   "metadata": {},
   "outputs": [],
   "source": [
    "map_with_markers"
   ]
  },
  {
   "cell_type": "markdown",
   "metadata": {},
   "source": [
    "### Using Nearest Neighbors"
   ]
  },
  {
   "cell_type": "markdown",
   "metadata": {},
   "source": [
    "Ok, let's write a function that given a latitude and longitude will predict the distance for us.  We'll do this by first finding the nearest trips given a latitude and longitude. "
   ]
  },
  {
   "cell_type": "markdown",
   "metadata": {},
   "source": [
    "Here we once again apply the nearest neighbors formula. As a first step, write a function named `distance_location` that calculates the distance in pickup location between two trips."
   ]
  },
  {
   "cell_type": "code",
   "execution_count": null,
   "metadata": {},
   "outputs": [],
   "source": [
    "import math\n",
    "\n",
    "def distance_location(selected_trip, neighbor_trip):\n",
    "    pass"
   ]
  },
  {
   "cell_type": "code",
   "execution_count": null,
   "metadata": {},
   "outputs": [],
   "source": [
    "first_trip = {'pickup_latitude': 40.64499, 'pickup_longitude': -73.78115, 'trip_distance': 18.38}\n",
    "second_trip = {'pickup_latitude': 40.766931, 'pickup_longitude': -73.982098, 'trip_distance': 1.3}\n",
    "distance_first_and_second = distance_location(first_trip, second_trip)\n",
    "\n",
    "distance_first_and_second and round(distance_first_and_second, 3) # 0.235"
   ]
  },
  {
   "cell_type": "markdown",
   "metadata": {},
   "source": [
    "Ok, next write a function called `distance_between_neighbors` that adds a new key-value pair, called `distance_from_selected`, that calculates the distance of the `neighbor_trip` from the `selected_trip`."
   ]
  },
  {
   "cell_type": "code",
   "execution_count": null,
   "metadata": {},
   "outputs": [],
   "source": [
    "def distance_between_neighbors(selected_trip, neighbor_trip):\n",
    "    pass"
   ]
  },
  {
   "cell_type": "code",
   "execution_count": null,
   "metadata": {},
   "outputs": [],
   "source": [
    "distance_between_neighbors(first_trip, second_trip)\n",
    "\n",
    "# {'distance_from_selected': 0.23505256047318146,\n",
    "#  'pickup_latitude': 40.766931,\n",
    "#  'pickup_longitude': -73.982098,\n",
    "#  'trip_distance': 1.3}"
   ]
  },
  {
   "cell_type": "markdown",
   "metadata": {},
   "source": [
    "Ok, now our `neighbor_trip` has another attribute called `distance_from_selected`, that indicates the distance from the `neighbor_trip`'s pickup location from the `selected_trip`."
   ]
  },
  {
   "cell_type": "markdown",
   "metadata": {},
   "source": [
    "> ** Understand the data:** Our dictionary now has a few attributes, two of which say distance.  Let's make sure we understand the difference. \n",
    "> * **`distance_from_selected`:** This is our calculation of the distance of the neighbor's pickup location from the selected trip.\n",
    "> * **`trip_distance`:** This is the attribute we were provided initially.  It tells us the length of the neighbor's taxi trip from pickup to drop-off.  "
   ]
  },
  {
   "cell_type": "markdown",
   "metadata": {},
   "source": [
    "Next, write a function called `distance_all` that provided a list of neighbors, returns each of those neighbors with their respective `distance_from_selected` numbers."
   ]
  },
  {
   "cell_type": "code",
   "execution_count": null,
   "metadata": {},
   "outputs": [],
   "source": [
    "def distance_all(selected_individual, neighbors):\n",
    "    pass"
   ]
  },
  {
   "cell_type": "code",
   "execution_count": null,
   "metadata": {},
   "outputs": [],
   "source": [
    "cleaned_trips and distance_all(first_trip, cleaned_trips[0:4])"
   ]
  },
  {
   "cell_type": "markdown",
   "metadata": {},
   "source": [
    "Now write the nearest neighbors formula to calculate the distance of the `selected_trip` from all of the `cleaned_trips` in our dataset.  If no number is provided, it should return the top 3 neighbors."
   ]
  },
  {
   "cell_type": "code",
   "execution_count": null,
   "metadata": {},
   "outputs": [],
   "source": [
    "def nearest_neighbors(selected_trip, trips, number = 3):\n",
    "    pass"
   ]
  },
  {
   "cell_type": "code",
   "execution_count": null,
   "metadata": {},
   "outputs": [],
   "source": [
    "new_trip = {'pickup_latitude': 40.64499,\n",
    "'pickup_longitude': -73.78115,\n",
    "'trip_distance': 18.38}\n",
    "\n",
    "nearest_three_neighbors = nearest_neighbors(new_trip, cleaned_trips or [], number = 3)\n",
    "nearest_three_neighbors\n",
    "# [{'distance_from_selected': 0.0004569288784918792,\n",
    "#   'pickup_latitude': 40.64483,\n",
    "#   'pickup_longitude': -73.781578,\n",
    "#   'trip_distance': 7.78},\n",
    "#  {'distance_from_selected': 0.0011292165425673159,\n",
    "#   'pickup_latitude': 40.644657,\n",
    "#   'pickup_longitude': -73.782229,\n",
    "#   'trip_distance': 12.7},\n",
    "#  {'distance_from_selected': 0.0042359798158141185,\n",
    "#   'pickup_latitude': 40.648509,\n",
    "#   'pickup_longitude': -73.783508,\n",
    "#   'trip_distance': 17.3}]"
   ]
  },
  {
   "cell_type": "markdown",
   "metadata": {},
   "source": [
    "Ok great! Now that we can provide a new trip location, and find the distances of the three nearest trips, we can take  calculate an estimate of the trip distance for that new trip location.  \n",
    "\n",
    "We do so simply by calculating the average of it's nearest neighbors."
   ]
  },
  {
   "cell_type": "code",
   "execution_count": null,
   "metadata": {},
   "outputs": [],
   "source": [
    "import statistics\n",
    "def mean_distance(neighbors):\n",
    "    nearest_distances = list(map(lambda neighbor: neighbor['trip_distance'], neighbors))\n",
    "    return round(statistics.mean(nearest_distances), 3)\n",
    "\n",
    "nearest_three_neighbors = nearest_neighbors(new_trip, cleaned_trips or [], number = 3)\n",
    "distance_estimate_of_selected_trip = mean_distance(nearest_three_neighbors) # 12.593\n",
    "distance_estimate_of_selected_trip"
   ]
  },
  {
   "cell_type": "markdown",
   "metadata": {},
   "source": [
    "### Choosing the correct number of neighbors"
   ]
  },
  {
   "cell_type": "markdown",
   "metadata": {},
   "source": [
    "Now, as we know from the last lesson, one tricky element is to determine how many neighbors to choose, our $k$ value,  before calculating the average.  We want to choose our value of $k$ such that it properly matches actual data, and so that it applies to new data.  There are fancy formulas to ensure that we **train** our algorithm so that our formula is optimized for all data, but here let's see different $k$ values manually.  This is the gist of choosing our $k$ value:\n",
    "\n",
    "* If we choose a $k$ value too low, our formula will be too heavily influenced by a single neighbor, whereas if our $k$ value is too high, we will be choosing so many neighbors that our nearest neighbors formula will not be adjust enough according to locations.\n",
    "\n",
    "Ok, let's experiment with this."
   ]
  },
  {
   "cell_type": "markdown",
   "metadata": {},
   "source": [
    "First, let's choose a midtown location, to see what the trip distance would be.  A Google search reveals the coordinates of 51st and 7th avenue to be the following."
   ]
  },
  {
   "cell_type": "code",
   "execution_count": null,
   "metadata": {},
   "outputs": [],
   "source": [
    "midtown_trip = dict(pickup_latitude=40.761710, pickup_longitude=-73.982760)"
   ]
  },
  {
   "cell_type": "code",
   "execution_count": null,
   "metadata": {},
   "outputs": [],
   "source": [
    "seven_closest = nearest_neighbors(midtown_trip, cleaned_trips, number = 7)\n",
    "seven_closest\n",
    "# [{'trip_distance': 0.58,\n",
    "#   'pickup_latitude': 40.761372,\n",
    "#   'pickup_longitude': -73.982602,\n",
    "#   'distance_from_selected': 0.00037310588309379025},\n",
    "#  {'trip_distance': 0.8,\n",
    "#   'pickup_latitude': 40.762444,\n",
    "#   'pickup_longitude': -73.98244,\n",
    "#   'distance_from_selected': 0.00080072217404248},\n",
    "#  {'trip_distance': 1.4,\n",
    "#   'pickup_latitude': 40.762767,\n",
    "#   'pickup_longitude': -73.982293,\n",
    "#   'distance_from_selected': 0.0011555682584735844},\n",
    "#  {'trip_distance': 8.3,\n",
    "#   'pickup_latitude': 40.762868,\n",
    "#   'pickup_longitude': -73.983233,\n",
    "#   'distance_from_selected': 0.0012508768924205918},\n",
    "#  {'trip_distance': 1.26,\n",
    "#   'pickup_latitude': 40.760057,\n",
    "#   'pickup_longitude': -73.983502,\n",
    "#   'distance_from_selected': 0.0018118976240381972},\n",
    "#  {'trip_distance': 0.0,\n",
    "#   'pickup_latitude': 40.760644,\n",
    "#   'pickup_longitude': -73.984531,\n",
    "#   'distance_from_selected': 0.002067074502774709},\n",
    "#  {'trip_distance': 1.72,\n",
    "#   'pickup_latitude': 40.762107,\n",
    "#   'pickup_longitude': -73.98479,\n",
    "#   'distance_from_selected': 0.0020684557041472677}]"
   ]
  },
  {
   "cell_type": "markdown",
   "metadata": {},
   "source": [
    "Looking at the `distance_from_selected` it appears that our our trips are still fairly close to our selected trip.  Notice that most of the data is within a distance of .002 away, so going to the top 7 nearest neighbors didn't seem to give us neighbors too far from each other, which is a good sign.\n",
    "\n",
    "Still, it's hard to know what distance in latitude and longitude really look like, so let's map the data. "
   ]
  },
  {
   "cell_type": "code",
   "execution_count": null,
   "metadata": {},
   "outputs": [],
   "source": [
    "midtown_location = location(midtown_trip) # [40.76171, -73.98276]\n",
    "midtown_map = map_from(midtown_location, 16)\n",
    "closest_markers = markers_from_trips(seven_closest)\n",
    "\n",
    "add_markers(closest_markers, midtown_map)"
   ]
  },
  {
   "cell_type": "markdown",
   "metadata": {},
   "source": [
    "Ok.  These locations stay fairly close to our estimated location of 51st street and 7th Avenue.  So they could be a good estimate of a trip distance."
   ]
  },
  {
   "cell_type": "code",
   "execution_count": null,
   "metadata": {},
   "outputs": [],
   "source": [
    "mean_distance(seven_closest) # 2.009"
   ]
  },
  {
   "cell_type": "markdown",
   "metadata": {},
   "source": [
    "Ok, now let's try a different location"
   ]
  },
  {
   "cell_type": "code",
   "execution_count": null,
   "metadata": {},
   "outputs": [],
   "source": [
    "charging_bull_closest = nearest_neighbors({'pickup_latitude': 40.7049, 'pickup_longitude': -74.0137}, cleaned_trips, number = 12)"
   ]
  },
  {
   "cell_type": "code",
   "execution_count": null,
   "metadata": {
    "scrolled": true
   },
   "outputs": [],
   "source": [
    "mean_distance(charging_bull_closest) # 3.145"
   ]
  },
  {
   "cell_type": "markdown",
   "metadata": {},
   "source": [
    "Ok, so there appears to be a significant difference between choosing a location near Times Square versus choosing a location at Wall Street."
   ]
  },
  {
   "cell_type": "markdown",
   "metadata": {},
   "source": [
    "### Summary"
   ]
  },
  {
   "cell_type": "markdown",
   "metadata": {},
   "source": [
    "In this lab, we used the nearest neighbors function to predict the length of a taxi ride.  To do so, we selected a location, then found a number of taxi rides closest to that location, and finally took the average trip lengths of the nearest taxi rides to find an estimate of the new ride's trip length.  You can see that even with just a little bit of math and programming we can begin to make meaningful predictions with data."
   ]
  }
 ],
 "metadata": {
  "kernelspec": {
   "display_name": "Python 3",
   "language": "python",
   "name": "python3"
  },
  "language_info": {
   "codemirror_mode": {
    "name": "ipython",
    "version": 3
   },
   "file_extension": ".py",
   "mimetype": "text/x-python",
   "name": "python",
   "nbconvert_exporter": "python",
   "pygments_lexer": "ipython3",
   "version": "3.6.9"
  }
 },
 "nbformat": 4,
 "nbformat_minor": 2
}
